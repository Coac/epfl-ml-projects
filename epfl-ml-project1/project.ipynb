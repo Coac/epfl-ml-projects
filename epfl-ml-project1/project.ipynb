{
 "cells": [
  {
   "cell_type": "code",
   "execution_count": 98,
   "metadata": {
    "collapsed": true
   },
   "outputs": [],
   "source": [
    "def load_data():\n",
    "    path_dataset = \"datas/train.csv\"\n",
    "    \n",
    "    x = np.genfromtxt(path_dataset, delimiter=\",\", skip_header=1, max_rows=50)\n",
    "    x = x[:, 2:]\n",
    "\n",
    "    predictions_str = np.genfromtxt(path_dataset, delimiter=\",\", skip_header=1, usecols=1, dtype=str, max_rows=50)\n",
    "    y = []\n",
    "    for pred in predictions_str:\n",
    "        y.append(-1 if pred=='b' else 1)\n",
    "    y = np.array(y)\n",
    "    \n",
    "    return x, y\n",
    "\n"
   ]
  },
  {
   "cell_type": "code",
   "execution_count": 99,
   "metadata": {},
   "outputs": [
    {
     "data": {
      "text/plain": [
       "array([ 1, -1, -1, -1, -1, -1,  1,  1, -1,  1, -1, -1, -1, -1, -1,  1, -1,\n",
       "        1, -1, -1, -1, -1, -1,  1, -1, -1,  1,  1,  1, -1, -1,  1,  1, -1,\n",
       "       -1, -1,  1,  1,  1,  1,  1, -1,  1, -1, -1, -1,  1,  1, -1,  1])"
      ]
     },
     "execution_count": 99,
     "metadata": {},
     "output_type": "execute_result"
    }
   ],
   "source": [
    "import datetime\n",
    "from helpers import *\n",
    "\n",
    "x, y = load_data()\n",
    "\n",
    "y\n"
   ]
  },
  {
   "cell_type": "code",
   "execution_count": null,
   "metadata": {
    "collapsed": true
   },
   "outputs": [],
   "source": []
  }
 ],
 "metadata": {
  "kernelspec": {
   "display_name": "Python [conda root]",
   "language": "python",
   "name": "conda-root-py"
  },
  "language_info": {
   "codemirror_mode": {
    "name": "ipython",
    "version": 3
   },
   "file_extension": ".py",
   "mimetype": "text/x-python",
   "name": "python",
   "nbconvert_exporter": "python",
   "pygments_lexer": "ipython3",
   "version": "3.6.1"
  }
 },
 "nbformat": 4,
 "nbformat_minor": 2
}
