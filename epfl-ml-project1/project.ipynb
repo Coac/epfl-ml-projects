{
 "cells": [
  {
   "cell_type": "code",
   "execution_count": 1,
   "metadata": {
    "collapsed": true
   },
   "outputs": [],
   "source": [
    "import numpy as np\n",
    "import random\n",
    "from datetime import datetime\n",
    "from helpers import *\n",
    "from costs import *\n",
    "from gradient_descent import *\n",
    "from stochastic_gradient_descent import *\n",
    "from features_engineering import *\n",
    "from cross_validation import *\n",
    "from pre_processing import *\n",
    "\n",
    "random.seed(10)"
   ]
  },
  {
   "cell_type": "code",
   "execution_count": 2,
   "metadata": {},
   "outputs": [],
   "source": [
    "y, x, ids = load_csv_data(data_path=\"datas/train.csv\", sub_sample=False)"
   ]
  },
  {
   "cell_type": "code",
   "execution_count": 3,
   "metadata": {},
   "outputs": [],
   "source": [
    "submission_y, submission_x, submission_ids = load_csv_data(data_path=\"datas/test.csv\", sub_sample=False)"
   ]
  },
  {
   "cell_type": "code",
   "execution_count": 7,
   "metadata": {},
   "outputs": [
    {
     "name": "stdout",
     "output_type": "stream",
     "text": [
      "0 (227458, 30) (227458,) (227458,)\n",
      "1 (175338, 30) (175338,) (175338,)\n",
      "2 (114648, 30) (114648,) (114648,)\n",
      "3 (50794, 30) (50794,) (50794,)\n",
      "num_jet: 0\n",
      "(0, 4, 5, 6, 12, 23, 24, 25, 26, 27, 28) (59263, 19) (59263, 1) (59263, 1)\n",
      "(4, 5, 6, 12, 23, 24, 25, 26, 27, 28) (168195, 20) (168195, 1) (168195, 1)\n",
      "\tRemove col : \n",
      "\t (0, 4, 5, 6, 12, 23, 24, 25, 26, 27, 28) 17 [ 0.  0.  0. ...,  0.  0.  0.]\n",
      "\t (0, 4, 5, 6, 12, 23, 24, 25, 26, 27, 28) 18 [ 0.  0.  0. ...,  0.  0.  0.]\n",
      "\t (4, 5, 6, 12, 23, 24, 25, 26, 27, 28) 18 [ 0.  0.  0. ...,  0.  0.  0.]\n",
      "\t (4, 5, 6, 12, 23, 24, 25, 26, 27, 28) 19 [ 0.  0.  0. ...,  0.  0.  0.]\n",
      "num_jet: 1\n",
      "(4, 5, 6, 12, 26, 27, 28) (158095, 23) (158095, 1) (158095, 1)\n",
      "(0, 4, 5, 6, 12, 26, 27, 28) (17243, 22) (17243, 1) (17243, 1)\n",
      "\tRemove col : \n",
      "\t (4, 5, 6, 12, 26, 27, 28) 18 [ 1.  1.  1. ...,  1.  1.  1.]\n",
      "\t (0, 4, 5, 6, 12, 26, 27, 28) 17 [ 1.  1.  1. ...,  1.  1.  1.]\n",
      "num_jet: 2\n",
      "() (107905, 30) (107905, 1) (107905, 1)\n",
      "(0,) (6743, 29) (6743, 1) (6743, 1)\n",
      "\tRemove col : \n",
      "\t () 22 [ 2.  2.  2. ...,  2.  2.  2.]\n",
      "\t (0,) 21 [ 2.  2.  2. ...,  2.  2.  2.]\n",
      "num_jet: 3\n",
      "() (47555, 30) (47555, 1) (47555, 1)\n",
      "(0,) (3239, 29) (3239, 1) (3239, 1)\n",
      "\tRemove col : \n",
      "\t () 22 [ 3.  3.  3. ...,  3.  3.  3.]\n",
      "\t (0,) 21 [ 3.  3.  3. ...,  3.  3.  3.]\n"
     ]
    }
   ],
   "source": [
    "sub_jet_num_x_dict, sub_jet_num_y_dict, sub_jet_num_ids_dict = group_by_jetnum_NaN(submission_x, submission_y, submission_ids)"
   ]
  },
  {
   "cell_type": "code",
   "execution_count": 8,
   "metadata": {},
   "outputs": [
    {
     "name": "stdout",
     "output_type": "stream",
     "text": [
      "0 (99913, 30) (99913,) (99913,)\n",
      "1 (77544, 30) (77544,) (77544,)\n",
      "2 (50379, 30) (50379,) (50379,)\n",
      "3 (22164, 30) (22164,) (22164,)\n",
      "num_jet: 0\n",
      "(4, 5, 6, 12, 23, 24, 25, 26, 27, 28) (73790, 20) (73790, 1) (73790, 1)\n",
      "(0, 4, 5, 6, 12, 23, 24, 25, 26, 27, 28) (26123, 19) (26123, 1) (26123, 1)\n",
      "\tRemove col : \n",
      "\t (4, 5, 6, 12, 23, 24, 25, 26, 27, 28) 18 [ 0.  0.  0. ...,  0.  0.  0.]\n",
      "\t (4, 5, 6, 12, 23, 24, 25, 26, 27, 28) 19 [ 0.  0.  0. ...,  0.  0.  0.]\n",
      "\t (0, 4, 5, 6, 12, 23, 24, 25, 26, 27, 28) 17 [ 0.  0.  0. ...,  0.  0.  0.]\n",
      "\t (0, 4, 5, 6, 12, 23, 24, 25, 26, 27, 28) 18 [ 0.  0.  0. ...,  0.  0.  0.]\n",
      "num_jet: 1\n",
      "(4, 5, 6, 12, 26, 27, 28) (69982, 23) (69982, 1) (69982, 1)\n",
      "(0, 4, 5, 6, 12, 26, 27, 28) (7562, 22) (7562, 1) (7562, 1)\n",
      "\tRemove col : \n",
      "\t (4, 5, 6, 12, 26, 27, 28) 18 [ 1.  1.  1. ...,  1.  1.  1.]\n",
      "\t (0, 4, 5, 6, 12, 26, 27, 28) 17 [ 1.  1.  1. ...,  1.  1.  1.]\n",
      "num_jet: 2\n",
      "() (47427, 30) (47427, 1) (47427, 1)\n",
      "(0,) (2952, 29) (2952, 1) (2952, 1)\n",
      "\tRemove col : \n",
      "\t () 22 [ 2.  2.  2. ...,  2.  2.  2.]\n",
      "\t (0,) 21 [ 2.  2.  2. ...,  2.  2.  2.]\n",
      "num_jet: 3\n",
      "() (20687, 30) (20687, 1) (20687, 1)\n",
      "(0,) (1477, 29) (1477, 1) (1477, 1)\n",
      "\tRemove col : \n",
      "\t () 22 [ 3.  3.  3. ...,  3.  3.  3.]\n",
      "\t (0,) 21 [ 3.  3.  3. ...,  3.  3.  3.]\n"
     ]
    }
   ],
   "source": [
    "jet_num_x_dict, jet_num_y_dict, jet_num_ids_dict = group_by_jetnum_NaN(x, y, ids)"
   ]
  },
  {
   "cell_type": "code",
   "execution_count": null,
   "metadata": {},
   "outputs": [],
   "source": [
    "# Idea : Unbalance data\n",
    "# Check misclassified data\n",
    "# Maybe sort value\n"
   ]
  },
  {
   "cell_type": "code",
   "execution_count": 4,
   "metadata": {
    "collapsed": true
   },
   "outputs": [],
   "source": [
    "jet_num_column_index = 22\n",
    "def group_by_jet_num(x, y, ids):\n",
    "    jet_num_x_dict = dict()\n",
    "    jet_num_y_dict = dict()\n",
    "    jet_num_ids_dict = dict()\n",
    "\n",
    "    for jet_num in range(0, 4):\n",
    "        jet_num_x_dict[jet_num] = []\n",
    "        jet_num_y_dict[jet_num] = []\n",
    "        jet_num_ids_dict[jet_num] = []\n",
    "\n",
    "\n",
    "    for row_index, row in enumerate(x):\n",
    "        jet_num = row[jet_num_column_index]\n",
    "        jet_num_x_dict[jet_num].append(row)\n",
    "        jet_num_y_dict[jet_num].append(y[row_index])\n",
    "        jet_num_ids_dict[jet_num].append(ids[row_index])\n",
    "    \n",
    "    for jet_num in jet_num_x_dict:\n",
    "        jet_num_x_dict[jet_num] = np.array(jet_num_x_dict[jet_num])\n",
    "        jet_num_y_dict[jet_num] = np.array(jet_num_y_dict[jet_num])\n",
    "        jet_num_ids_dict[jet_num] = np.array(jet_num_ids_dict[jet_num])\n",
    "        \n",
    "        print(jet_num, jet_num_x_dict[jet_num].shape, jet_num_y_dict[jet_num].shape, jet_num_ids_dict[jet_num].shape)\n",
    "        \n",
    "    return jet_num_x_dict, jet_num_y_dict, jet_num_ids_dict\n"
   ]
  },
  {
   "cell_type": "code",
   "execution_count": 5,
   "metadata": {
    "collapsed": true
   },
   "outputs": [],
   "source": [
    "# Remove column with same value (0 values last)\n",
    "# TODO : move to pre_processing.py\n",
    "def remove_same_value_col(type_of_x_dict):\n",
    "    print(\"\\tRemove col : \")\n",
    "    for NaN_col_str in type_of_x_dict:\n",
    "        x = type_of_x_dict[NaN_col_str]\n",
    "        col_to_remove = []\n",
    "        for col in range(0, x.shape[1]):\n",
    "            if np.unique(x[:, col]).size == 1:\n",
    "                print('\\t', NaN_col_str, col, x[:, col])\n",
    "                col_to_remove.append(col)\n",
    "                \n",
    "        type_of_x_dict[NaN_col_str] = np.delete(x, col_to_remove, axis=1)\n",
    "        \n",
    "    return type_of_x_dict\n",
    "        \n",
    "\n",
    "def group_by_NaN_column(x, y, ids):\n",
    "    \n",
    "    # ---- Cancel the group by\n",
    "#     type_of_x_dict = dict()\n",
    "#     type_of_y_dict = dict()\n",
    "#     type_of_ids_dict = dict()\n",
    "    \n",
    "#     x, y, ids = remove_NaN(x, y, ids)\n",
    "               \n",
    "#     type_of_x_dict[\"tuple_str\"] = x\n",
    "#     type_of_y_dict[\"tuple_str\"] = y\n",
    "#     type_of_ids_dict[\"tuple_str\"] = ids\n",
    "    \n",
    "#     type_of_x_dict = remove_same_value_col(type_of_x_dict)\n",
    "    \n",
    "#     return type_of_x_dict, type_of_y_dict, type_of_ids_dict\n",
    "    # ----\n",
    "    \n",
    "    \n",
    "    \n",
    "    \n",
    "    \n",
    "    \n",
    "    rows_with_NaN = set(\"\")\n",
    "    \n",
    "    type_of_x_dict = dict()\n",
    "    type_of_y_dict = dict()\n",
    "    type_of_ids_dict = dict()\n",
    "\n",
    "    for row_index, row in enumerate(x):\n",
    "        columns_with_NaN = []\n",
    "        for col_index, feature in enumerate(row):\n",
    "            if feature == -999:\n",
    "                columns_with_NaN.append(col_index)\n",
    "            \n",
    "        tuple_str = str(tuple(columns_with_NaN))\n",
    "        if tuple_str in type_of_x_dict:\n",
    "            type_of_x_dict[tuple_str].append(row)\n",
    "            type_of_y_dict[tuple_str].append(y[row_index])\n",
    "            type_of_ids_dict[tuple_str].append(ids[row_index])\n",
    "        else:\n",
    "            type_of_x_dict[tuple_str] = [row]\n",
    "            type_of_y_dict[tuple_str] = [y[row_index]]\n",
    "            type_of_ids_dict[tuple_str] = [ids[row_index]]\n",
    "    \n",
    "    for type_of_rows in type_of_x_dict:\n",
    "        type_of_x_dict[type_of_rows] = np.array(type_of_x_dict[type_of_rows])\n",
    "        type_of_y_dict[type_of_rows] = np.array(type_of_y_dict[type_of_rows])\n",
    "        type_of_ids_dict[type_of_rows] = np.array(type_of_ids_dict[type_of_rows])\n",
    "        type_of_y_dict[type_of_rows] = type_of_y_dict[type_of_rows].reshape(type_of_y_dict[type_of_rows].shape[0], 1)\n",
    "        type_of_ids_dict[type_of_rows] = type_of_ids_dict[type_of_rows].reshape(type_of_ids_dict[type_of_rows].shape[0], 1)\n",
    "\n",
    "        type_of_x_dict[type_of_rows] = np.delete(type_of_x_dict[type_of_rows], [col for col in eval(type_of_rows)], axis=1)\n",
    "        \n",
    "        print(type_of_rows, type_of_x_dict[type_of_rows].shape, type_of_y_dict[type_of_rows].shape, type_of_ids_dict[type_of_rows].shape)\n",
    "        \n",
    "    \n",
    "    type_of_x_dict = remove_same_value_col(type_of_x_dict)\n",
    "        \n",
    "    return type_of_x_dict, type_of_y_dict, type_of_ids_dict\n",
    "        "
   ]
  },
  {
   "cell_type": "code",
   "execution_count": 6,
   "metadata": {},
   "outputs": [],
   "source": [
    "def group_by_jetnum_NaN(x, y, ids):\n",
    "    jet_num_x_dict, jet_num_y_dict, jet_num_ids_dict = group_by_jet_num(x, y, ids)\n",
    "    for jet_num_key in jet_num_x_dict:\n",
    "        x = jet_num_x_dict[jet_num_key]\n",
    "        y = jet_num_y_dict[jet_num_key]\n",
    "        ids = jet_num_ids_dict[jet_num_key]\n",
    "\n",
    "        print(\"num_jet:\", jet_num_key)\n",
    "        jet_num_x_dict[jet_num_key], jet_num_y_dict[jet_num_key], jet_num_ids_dict[jet_num_key] = group_by_NaN_column(x, y, ids)\n",
    "        \n",
    "    return jet_num_x_dict, jet_num_y_dict, jet_num_ids_dict"
   ]
  },
  {
   "cell_type": "code",
   "execution_count": 12,
   "metadata": {},
   "outputs": [
    {
     "name": "stdout",
     "output_type": "stream",
     "text": [
      "0 0.7980756200027104\n",
      "0.0005 0.7982111397208294\n",
      "0.0008000000000000001 0.7983466594389483\n",
      "\t Predicted -1 but was 1 : 0.6297043010752689\n",
      "(168195, 72) (73790, 72)\n",
      "0 0.9525449674703406\n",
      "\t Predicted -1 but was 1 : 0.9354838709677419\n",
      "(59263, 68) (26123, 68)\n",
      "0 0.7885412201743106\n",
      "0.0001 0.7889698528361194\n",
      "0.0002 0.7895413630518645\n",
      "0.00030000000000000003 0.7901128732676097\n",
      "0.0004 0.7903986283754822\n",
      "0.0005 0.7912558936990999\n",
      "0.0006000000000000001 0.7915416488069724\n",
      "\t Predicted -1 but was 1 : 0.564770390678547\n",
      "(158095, 88) (69982, 88)\n",
      "0 0.9022457067371202\n",
      "\t Predicted -1 but was 1 : 0.9594594594594594\n",
      "(17243, 84) (7562, 84)\n",
      "0 0.8338604258907865\n",
      "0.0001 0.8347037739827113\n",
      "\t Predicted -1 but was 1 : 0.4145408163265306\n",
      "(107905, 116) (47427, 116)\n",
      "0 0.8952702702702703\n",
      "0.00030000000000000003 0.8986486486486487\n",
      "\t Predicted -1 but was 1 : 0.9333333333333333\n",
      "(6743, 112) (2952, 112)\n",
      "0 0.8240695988400193\n",
      "0.0001 0.8269695505074915\n",
      "\t Predicted -1 but was 1 : 0.6284916201117319\n",
      "(47555, 116) (20687, 116)\n",
      "0 0.918918918918919\n",
      "\t Predicted -1 but was 1 : 1.0\n",
      "(3239, 112) (1477, 112)\n",
      "Count: 250000\n",
      "Accuracy: 0.8261890681127014\n",
      "Accuracy: 0.8268594036818558\n"
     ]
    }
   ],
   "source": [
    "def get_false(x, y, w):\n",
    "    pred_y = predict_labels(w, x)\n",
    "    false_count = 0\n",
    "    count_negatif = 0\n",
    "    for index, yi in enumerate(y):\n",
    "        pred_yi = pred_y[index]\n",
    "        if pred_yi != yi:\n",
    "            false_count += 1\n",
    "            if pred_yi == -1:\n",
    "                count_negatif += 1\n",
    "    \n",
    "    return count_negatif / false_count\n",
    "\n",
    "\n",
    "\n",
    "def get_data_numjet(jet_num_x_dict, jet_num_y_dict, jet_num_ids_dict, numjet, index):\n",
    "    removed_col_key = list(jet_num_x_dict[numjet])[index]\n",
    "    x = jet_num_x_dict[numjet][removed_col_key]\n",
    "    y = jet_num_y_dict[numjet][removed_col_key]\n",
    "    ids = jet_num_ids_dict[numjet][removed_col_key]\n",
    "    return x, y, ids\n",
    "\n",
    "\n",
    "count = 0\n",
    "accuracy_train = 0\n",
    "accuracy_test = 0\n",
    "\n",
    "submission_ids = []\n",
    "submission_y = []\n",
    "\n",
    "result_y = []\n",
    "result_ids = []\n",
    "\n",
    "degree = 1\n",
    "for numjet in range(0, 4):\n",
    "    for index in range(0, 2):\n",
    "        x_, y_, ids_ = get_data_numjet(jet_num_x_dict, jet_num_y_dict, jet_num_ids_dict, numjet, index)\n",
    "        x_ = normalize(x_)\n",
    "        polynomial_x = x_\n",
    "        polynomial_x = build_polynomial(polynomial_x, degree)\n",
    "        train_x, train_y, test_x, test_y = separate_set(polynomial_x, y_)\n",
    "\n",
    "        lambda_ = find_best_ridge_lambda(train_y, train_x, test_x, test_y)\n",
    "        w, loss = ridge_regression(train_y, train_x, lambda_)\n",
    "        \n",
    "        number_of_el = len(y_)\n",
    "        accuracy_train += get_accuracy(train_x, train_y, w) * number_of_el\n",
    "        accuracy_test += get_accuracy(test_x, test_y, w) * number_of_el\n",
    "        \n",
    "        print(\"\\t Predicted -1 but was 1 :\", get_false(test_x, test_y, w))\n",
    "        \n",
    "        count += number_of_el\n",
    "        \n",
    "        # Predict local\n",
    "        removed_col_key = list(jet_num_x_dict[numjet])[index]\n",
    "        sub_x_ = jet_num_x_dict[numjet][removed_col_key]\n",
    "        sub_ids_ = jet_num_ids_dict[numjet][removed_col_key]\n",
    "\n",
    "        sub_x_ = normalize(sub_x_)\n",
    "        sub_x_ = build_polynomial(sub_x_, degree)\n",
    "        pred_y_ = predict_labels(w, sub_x_)\n",
    "        for sub_index, sub_id in enumerate(sub_ids_):\n",
    "            result_ids.append(sub_id)\n",
    "            result_y.append(pred_y_[sub_index])\n",
    "        \n",
    "\n",
    "        \n",
    "        # Predict submission\n",
    "        removed_col_key = list(jet_num_x_dict[numjet])[index]\n",
    "        sub_x = sub_jet_num_x_dict[numjet][removed_col_key]\n",
    "        sub_ids = sub_jet_num_ids_dict[numjet][removed_col_key]\n",
    "\n",
    "        sub_x = normalize(sub_x)\n",
    "        sub_x = build_polynomial(sub_x, degree)\n",
    "        pred_y = predict_labels(w, sub_x)\n",
    "        \n",
    "        print(sub_x.shape, polynomial_x.shape)\n",
    "\n",
    "        for sub_index, sub_id in enumerate(sub_ids):\n",
    "            submission_ids.append(sub_id)\n",
    "            submission_y.append(pred_y[sub_index])\n",
    "        \n",
    "print(\"Count:\", count)\n",
    "print(\"Accuracy: \" + str(accuracy_train / count))\n",
    "print(\"Accuracy: \" + str(accuracy_test / count))"
   ]
  },
  {
   "cell_type": "code",
   "execution_count": 10,
   "metadata": {},
   "outputs": [
    {
     "data": {
      "text/plain": [
       "568238"
      ]
     },
     "execution_count": 10,
     "metadata": {},
     "output_type": "execute_result"
    }
   ],
   "source": [
    "len(submission_ids) "
   ]
  },
  {
   "cell_type": "code",
   "execution_count": null,
   "metadata": {
    "collapsed": true
   },
   "outputs": [],
   "source": [
    "_, x2, _ = load_csv_data(data_path=\"datas/test.csv\", sub_sample=False)\n",
    "print(proportion_of_NaN(x2) - proportion_of_NaN(x))"
   ]
  },
  {
   "cell_type": "code",
   "execution_count": null,
   "metadata": {
    "collapsed": true
   },
   "outputs": [],
   "source": [
    "proportion_of_NaN(x)"
   ]
  },
  {
   "cell_type": "code",
   "execution_count": null,
   "metadata": {
    "collapsed": true,
    "scrolled": false
   },
   "outputs": [],
   "source": [
    "w_init = np.random.rand(x.shape[1])\n",
    "w, loss = least_squares_GD(train_y, train_x, w_init, max_iters=100, gamma=0.3)"
   ]
  },
  {
   "cell_type": "code",
   "execution_count": null,
   "metadata": {
    "collapsed": true
   },
   "outputs": [],
   "source": [
    "w, loss = least_squares_SGD(train_y, train_x, w_init, 100, gamma=0.01)"
   ]
  },
  {
   "cell_type": "code",
   "execution_count": null,
   "metadata": {
    "collapsed": true
   },
   "outputs": [],
   "source": [
    "get_accuracy(test_x, test_y, w)"
   ]
  },
  {
   "cell_type": "code",
   "execution_count": null,
   "metadata": {
    "collapsed": true
   },
   "outputs": [],
   "source": [
    "_, submission_x, submission_ids = load_csv_data(data_path=\"datas/test.csv\", sub_sample=False)\n",
    "submission_x = submission_x[:, :15] # Removed all the primary\n",
    "submission_x = preprocess_data(submission_x)\n",
    "\n",
    "submission_x = build_polynomial(submission_x, 6)\n",
    "submission_x = build_combinations_lvl(submission_x, 2)\n",
    "submission_x = build_combinations_lvl(submission_x, 3)\n",
    "submission_x = build_combinations_lvl(submission_x, 4)\n",
    "submission_x = build_combinations_lvl(submission_x, 5)\n",
    "submission_x = build_combinations_lvl(submission_x, 6)\n",
    "submission_x = build_combinations_lvl(submission_x, 7)\n",
    "submission_x = build_combinations_lvl(submission_x, 8)\n",
    "\n",
    "pred_y = predict_labels(w, submission_x)"
   ]
  },
  {
   "cell_type": "code",
   "execution_count": null,
   "metadata": {},
   "outputs": [],
   "source": [
    "create_csv_submission(submission_ids, submission_y, \"datas/submission.csv\")\n",
    "print('Done !')\n"
   ]
  },
  {
   "cell_type": "code",
   "execution_count": null,
   "metadata": {
    "collapsed": true
   },
   "outputs": [],
   "source": [
    "import itertools\n",
    "import numpy as np\n",
    "import matplotlib.pyplot as plt\n",
    "\n",
    "# https://stackoverflow.com/a/7941594/4810319\n",
    "def main():\n",
    "    np.random.seed(1977)\n",
    "    numvars, numdata = 5, 100\n",
    "    data = 10 * np.random.random((numvars, numdata))\n",
    "    data = x[0:300, 0:7].T\n",
    "    print(x[0:200, 7])\n",
    "    fig = scatterplot_matrix(data, ['DER_mass_MMC', 'DER_mass_transverse_met_lep', 'DER_mass_vis', 'DER_pt_h', 'DER_deltaeta_jet_jet', 'DER_mass_jet_jet', 'DER_prodeta_jet_jet'],\n",
    "            linestyle='none', marker='o', color='black', mfc='none')\n",
    "    fig.suptitle('Simple Scatterplot Matrix')\n",
    "    plt.show()\n",
    "\n",
    "def scatterplot_matrix(data, names, **kwargs):\n",
    "    \"\"\"Plots a scatterplot matrix of subplots.  Each row of \"data\" is plotted\n",
    "    against other rows, resulting in a nrows by nrows grid of subplots with the\n",
    "    diagonal subplots labeled with \"names\".  Additional keyword arguments are\n",
    "    passed on to matplotlib's \"plot\" command. Returns the matplotlib figure\n",
    "    object containg the subplot grid.\"\"\"\n",
    "    numvars, numdata = data.shape\n",
    "    fig, axes = plt.subplots(nrows=numvars, ncols=numvars, figsize=(8,8))\n",
    "    fig.subplots_adjust(hspace=0.05, wspace=0.05)\n",
    "\n",
    "    for ax in axes.flat:\n",
    "        # Hide all ticks and labels\n",
    "        ax.xaxis.set_visible(False)\n",
    "        ax.yaxis.set_visible(False)\n",
    "\n",
    "        # Set up ticks only on one side for the \"edge\" subplots...\n",
    "        if ax.is_first_col():\n",
    "            ax.yaxis.set_ticks_position('left')\n",
    "        if ax.is_last_col():\n",
    "            ax.yaxis.set_ticks_position('right')\n",
    "        if ax.is_first_row():\n",
    "            ax.xaxis.set_ticks_position('top')\n",
    "        if ax.is_last_row():\n",
    "            ax.xaxis.set_ticks_position('bottom')\n",
    "\n",
    "    # Plot the data.\n",
    "    for i, j in zip(*np.triu_indices_from(axes, k=1)):\n",
    "        for x, y in [(i,j), (j,i)]:\n",
    "            axes[x,y].plot(data[x], data[y], **kwargs)\n",
    "\n",
    "    # Label the diagonal subplots...\n",
    "    for i, label in enumerate(names):\n",
    "        axes[i,i].annotate(label, (0.5, 0.5), xycoords='axes fraction',\n",
    "                ha='center', va='center')\n",
    "\n",
    "    # Turn on the proper x or y axes ticks.\n",
    "    for i, j in zip(range(numvars), itertools.cycle((-1, 0))):\n",
    "        axes[j,i].xaxis.set_visible(True)\n",
    "        axes[i,j].yaxis.set_visible(True)\n",
    "\n",
    "    return fig\n",
    "\n",
    "main()"
   ]
  },
  {
   "cell_type": "code",
   "execution_count": null,
   "metadata": {
    "collapsed": true
   },
   "outputs": [],
   "source": [
    "# Feature engineering (Add more features)\n",
    "polynomial_x = x\n",
    "# polynomial_x = build_polynomial(polynomial_x, 6)\n",
    "# polynomial_x = build_combinations_lvl(polynomial_x, 2)\n",
    "# polynomial_x = build_combinations_lvl(polynomial_x, 3)\n",
    "# polynomial_x = build_combinations_lvl(polynomial_x, 4)\n",
    "# polynomial_x = build_combinations_lvl(polynomial_x, 5)\n",
    "# polynomial_x = build_combinations_lvl(polynomial_x, 6)\n",
    "# polynomial_x = build_combinations_lvl(polynomial_x, 7)\n",
    "# polynomial_x = build_combinations_lvl(polynomial_x, 8)\n",
    "\n",
    "train_x, train_y, test_x, test_y = separate_set(polynomial_x, y)\n",
    "\n",
    "polynomial_x.shape"
   ]
  },
  {
   "cell_type": "code",
   "execution_count": 17,
   "metadata": {},
   "outputs": [
    {
     "name": "stdout",
     "output_type": "stream",
     "text": [
      "250000 250000\n"
     ]
    },
    {
     "data": {
      "text/plain": [
       "0.82625599999999999"
      ]
     },
     "execution_count": 17,
     "metadata": {},
     "output_type": "execute_result"
    }
   ],
   "source": [
    "def get_accuracy_ids(result_y, result_ids, y, ids):\n",
    "    stacked = np.column_stack((ids, y))\n",
    "    stacked = stacked[stacked[:,0].argsort()]\n",
    "    stacked_pred = np.column_stack((result_ids, result_y))\n",
    "    stacked_pred = stacked_pred[stacked_pred[:,0].argsort()]\n",
    "    \n",
    "    print(len(stacked_pred), len(stacked))\n",
    "    unique, counts = np.unique((stacked == stacked_pred)[:, 1], return_counts=True)\n",
    "    return dict(zip(unique, counts))[True] / len(y)\n",
    "\n",
    "get_accuracy_ids(result_y, result_ids, y, ids)"
   ]
  },
  {
   "cell_type": "code",
   "execution_count": null,
   "metadata": {},
   "outputs": [],
   "source": []
  },
  {
   "cell_type": "code",
   "execution_count": 14,
   "metadata": {},
   "outputs": [],
   "source": [
    "submission_stacked = np.column_stack((submission_ids, submission_y))\n",
    "submission_stacked = submission_stacked[submission_stacked[:,0].argsort()]\n"
   ]
  },
  {
   "cell_type": "code",
   "execution_count": 15,
   "metadata": {},
   "outputs": [
    {
     "name": "stdout",
     "output_type": "stream",
     "text": [
      "Done !\n"
     ]
    }
   ],
   "source": [
    "create_csv_submission(submission_stacked[:,0], submission_stacked[:,1], \"datas/submission.csv\")\n",
    "print('Done !')"
   ]
  },
  {
   "cell_type": "code",
   "execution_count": 16,
   "metadata": {},
   "outputs": [
    {
     "name": "stdout",
     "output_type": "stream",
     "text": [
      "568238 568238\n"
     ]
    }
   ],
   "source": [
    "print(len(submission_stacked[:,0]), len(submission_stacked[:,1]))"
   ]
  },
  {
   "cell_type": "code",
   "execution_count": null,
   "metadata": {},
   "outputs": [],
   "source": []
  },
  {
   "cell_type": "code",
   "execution_count": null,
   "metadata": {
    "collapsed": true
   },
   "outputs": [],
   "source": []
  }
 ],
 "metadata": {
  "kernelspec": {
   "display_name": "Python [conda root]",
   "language": "python",
   "name": "conda-root-py"
  },
  "language_info": {
   "codemirror_mode": {
    "name": "ipython",
    "version": 3
   },
   "file_extension": ".py",
   "mimetype": "text/x-python",
   "name": "python",
   "nbconvert_exporter": "python",
   "pygments_lexer": "ipython3",
   "version": "3.6.1"
  }
 },
 "nbformat": 4,
 "nbformat_minor": 2
}
