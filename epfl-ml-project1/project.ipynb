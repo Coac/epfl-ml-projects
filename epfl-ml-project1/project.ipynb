{
 "cells": [
  {
   "cell_type": "code",
   "execution_count": 90,
   "metadata": {
    "collapsed": true
   },
   "outputs": [],
   "source": [
    "def load_data():\n",
    "    path_dataset = \"datas/train.csv\"\n",
    "    \n",
    "    x = np.genfromtxt(path_dataset, delimiter=\",\", skip_header=1, max_rows=50)\n",
    "    \n",
    "    y = np.genfromtxt(path_dataset, delimiter=\",\", skip_header=1, usecols=1, dtype=str, max_rows=50)\n",
    "    \n",
    "    x = x[:, 2:]\n",
    "    \n",
    "    return x, y\n",
    "\n"
   ]
  },
  {
   "cell_type": "code",
   "execution_count": 91,
   "metadata": {},
   "outputs": [
    {
     "data": {
      "text/plain": [
       "array(['s', 'b', 'b', 'b', 'b', 'b', 's', 's', 'b', 's', 'b', 'b', 'b',\n",
       "       'b', 'b', 's', 'b', 's', 'b', 'b', 'b', 'b', 'b', 's', 'b', 'b',\n",
       "       's', 's', 's', 'b', 'b', 's', 's', 'b', 'b', 'b', 's', 's', 's',\n",
       "       's', 's', 'b', 's', 'b', 'b', 'b', 's', 's', 'b', 's'], \n",
       "      dtype='<U1')"
      ]
     },
     "execution_count": 91,
     "metadata": {},
     "output_type": "execute_result"
    }
   ],
   "source": [
    "import datetime\n",
    "from helpers import *\n",
    "\n",
    "x, y = load_data()\n",
    "\n",
    "y\n"
   ]
  },
  {
   "cell_type": "code",
   "execution_count": null,
   "metadata": {
    "collapsed": true
   },
   "outputs": [],
   "source": []
  }
 ],
 "metadata": {
  "kernelspec": {
   "display_name": "Python [conda root]",
   "language": "python",
   "name": "conda-root-py"
  },
  "language_info": {
   "codemirror_mode": {
    "name": "ipython",
    "version": 3
   },
   "file_extension": ".py",
   "mimetype": "text/x-python",
   "name": "python",
   "nbconvert_exporter": "python",
   "pygments_lexer": "ipython3",
   "version": "3.6.1"
  }
 },
 "nbformat": 4,
 "nbformat_minor": 2
}
