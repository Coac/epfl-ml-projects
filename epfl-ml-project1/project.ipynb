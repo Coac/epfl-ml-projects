{
 "cells": [
  {
   "cell_type": "code",
   "execution_count": 1,
   "metadata": {},
   "outputs": [],
   "source": [
    "%matplotlib inline\n",
    "import matplotlib.pyplot as plt\n",
    "import numpy as np\n",
    "import random\n",
    "from datetime import datetime\n",
    "from helpers import *\n",
    "from costs import *\n",
    "from gradient_descent import *\n",
    "from stochastic_gradient_descent import *\n",
    "from features_engineering import *\n",
    "from cross_validation import *\n",
    "from pre_processing import *\n",
    "from group_by import *\n",
    "\n",
    "%load_ext autoreload\n",
    "%autoreload 2"
   ]
  },
  {
   "cell_type": "code",
   "execution_count": 2,
   "metadata": {},
   "outputs": [],
   "source": [
    "y, x, ids = load_csv_data(data_path=\"datas/train.csv\", sub_sample=False)"
   ]
  },
  {
   "cell_type": "code",
   "execution_count": 3,
   "metadata": {},
   "outputs": [],
   "source": [
    "submission_y, submission_x, submission_ids = load_csv_data(data_path=\"datas/test.csv\", sub_sample=False)"
   ]
  },
  {
   "cell_type": "code",
   "execution_count": 4,
   "metadata": {},
   "outputs": [
    {
     "name": "stdout",
     "output_type": "stream",
     "text": [
      "0 (227458, 30) (227458,) (227458,)\n",
      "1 (175338, 30) (175338,) (175338,)\n",
      "2 (114648, 30) (114648,) (114648,)\n",
      "3 (50794, 30) (50794,) (50794,)\n",
      "num_jet: 0\n",
      "Cleaned 11 columns\n",
      "\tRemove col : \n",
      "\t tuple_str 17 [ 0.  0.  0. ...,  0.  0.  0.]\n",
      "\t tuple_str 18 [ 0.  0.  0. ...,  0.  0.  0.]\n",
      "num_jet: 1\n",
      "Cleaned 8 columns\n",
      "\tRemove col : \n",
      "\t tuple_str 17 [ 1.  1.  1. ...,  1.  1.  1.]\n",
      "num_jet: 2\n",
      "Cleaned 1 columns\n",
      "\tRemove col : \n",
      "\t tuple_str 21 [ 2.  2.  2. ...,  2.  2.  2.]\n",
      "num_jet: 3\n",
      "Cleaned 1 columns\n",
      "\tRemove col : \n",
      "\t tuple_str 21 [ 3.  3.  3. ...,  3.  3.  3.]\n"
     ]
    }
   ],
   "source": [
    "sub_jet_num_x_dict, sub_jet_num_y_dict, sub_jet_num_ids_dict = group_by_jetnum_NaN(submission_x, submission_y, submission_ids)"
   ]
  },
  {
   "cell_type": "code",
   "execution_count": 5,
   "metadata": {},
   "outputs": [
    {
     "name": "stdout",
     "output_type": "stream",
     "text": [
      "0 (99913, 30) (99913,) (99913,)\n",
      "1 (77544, 30) (77544,) (77544,)\n",
      "2 (50379, 30) (50379,) (50379,)\n",
      "3 (22164, 30) (22164,) (22164,)\n",
      "num_jet: 0\n",
      "Cleaned 11 columns\n",
      "\tRemove col : \n",
      "\t tuple_str 17 [ 0.  0.  0. ...,  0.  0.  0.]\n",
      "\t tuple_str 18 [ 0.  0.  0. ...,  0.  0.  0.]\n",
      "num_jet: 1\n",
      "Cleaned 8 columns\n",
      "\tRemove col : \n",
      "\t tuple_str 17 [ 1.  1.  1. ...,  1.  1.  1.]\n",
      "num_jet: 2\n",
      "Cleaned 1 columns\n",
      "\tRemove col : \n",
      "\t tuple_str 21 [ 2.  2.  2. ...,  2.  2.  2.]\n",
      "num_jet: 3\n",
      "Cleaned 1 columns\n",
      "\tRemove col : \n",
      "\t tuple_str 21 [ 3.  3.  3. ...,  3.  3.  3.]\n"
     ]
    }
   ],
   "source": [
    "jet_num_x_dict, jet_num_y_dict, jet_num_ids_dict = group_by_jetnum_NaN(x, y, ids)"
   ]
  },
  {
   "cell_type": "code",
   "execution_count": null,
   "metadata": {},
   "outputs": [],
   "source": [
    "# Idea : Unbalance data\n",
    "# Check misclassified data\n",
    "\n",
    "# Need to test on two group of data\n"
   ]
  },
  {
   "cell_type": "code",
   "execution_count": null,
   "metadata": {},
   "outputs": [],
   "source": [
    "def get_false(x, y, w):\n",
    "    pred_y = predict_labels(w, x)\n",
    "    false_count = 0\n",
    "    count_negatif = 0\n",
    "    for index, yi in enumerate(y):\n",
    "        pred_yi = pred_y[index]\n",
    "        if pred_yi != yi:\n",
    "            false_count += 1\n",
    "            if pred_yi == -1:\n",
    "                count_negatif += 1\n",
    "    \n",
    "    return count_negatif / false_count\n",
    "\n",
    "\n",
    "\n",
    "def get_data_numjet(jet_num_x_dict, jet_num_y_dict, jet_num_ids_dict, numjet, index):\n",
    "    removed_col_key = list(jet_num_x_dict[numjet])[index]\n",
    "    x = jet_num_x_dict[numjet][removed_col_key]\n",
    "    y = jet_num_y_dict[numjet][removed_col_key]\n",
    "    ids = jet_num_ids_dict[numjet][removed_col_key]\n",
    "    return x, y, ids\n",
    "\n",
    "def build_features(x):\n",
    "    polynomial_x = normalize(x)\n",
    "    polynomial_x = build_polynomial(polynomial_x, 3)\n",
    "#     polynomial_x = build_combinations_lvl(polynomial_x, 2, 10)\n",
    "    return polynomial_x\n",
    "\n",
    "\n",
    "count = 0\n",
    "accuracy_train = 0\n",
    "accuracy_test = 0\n",
    "\n",
    "submission_ids = []\n",
    "submission_y = []\n",
    "\n",
    "result_y = []\n",
    "result_ids = []\n",
    "\n",
    "for numjet in range(0, 3):\n",
    "    for index in range(0, 1):\n",
    "        x_, y_, ids_ = get_data_numjet(jet_num_x_dict, jet_num_y_dict, jet_num_ids_dict, numjet, index)\n",
    "        \n",
    "        polynomial_x = build_features(x_)\n",
    "        train_x, train_y, test_x, test_y = separate_set(polynomial_x, y_)\n",
    "\n",
    "        lambda_ = find_best_ridge_lambda(train_y, train_x, test_x, test_y)\n",
    "        w, loss = ridge_regression(train_y, train_x, lambda_)\n",
    "        \n",
    "        number_of_el = len(y_)\n",
    "        accuracy_train += get_accuracy(train_x, train_y, w) * number_of_el\n",
    "        accuracy_test += get_accuracy(test_x, test_y, w) * number_of_el\n",
    "        \n",
    "        print(\"\\t Predicted -1 but was 1 :\", get_false(test_x, test_y, w))\n",
    "        \n",
    "        count += number_of_el\n",
    "        \n",
    "        # Predict local\n",
    "        removed_col_key = list(jet_num_x_dict[numjet])[index]\n",
    "        sub_x2 = jet_num_x_dict[numjet][removed_col_key]\n",
    "        sub_ids2 = jet_num_ids_dict[numjet][removed_col_key]\n",
    "\n",
    "        sub_x2 = build_features(sub_x2)\n",
    "        pred_y2 = predict_labels(w, sub_x2)\n",
    "        \n",
    "        for sub_index, sub_id in enumerate(sub_ids2):\n",
    "            result_ids.append(sub_id)\n",
    "            result_y.append(pred_y2[sub_index])\n",
    "        \n",
    "\n",
    "        \n",
    "        # Predict submission\n",
    "        removed_col_key = list(jet_num_x_dict[numjet])[index]\n",
    "        sub_x = sub_jet_num_x_dict[numjet][removed_col_key]\n",
    "        sub_ids = sub_jet_num_ids_dict[numjet][removed_col_key]\n",
    "\n",
    "        sub_x = build_features(sub_x)\n",
    "        pred_y = predict_labels(w, sub_x)\n",
    "        \n",
    "        for sub_index, sub_id in enumerate(sub_ids):\n",
    "            submission_ids.append(sub_id)\n",
    "            submission_y.append(pred_y[sub_index])\n",
    "        \n",
    "print(\"Count:\", count)\n",
    "print(\"Train Accuracy: \" + str(accuracy_train / count))\n",
    "print(\"Test Accuracy: \" + str(accuracy_test / count))"
   ]
  },
  {
   "cell_type": "code",
   "execution_count": null,
   "metadata": {},
   "outputs": [],
   "source": [
    "len(submission_ids) "
   ]
  },
  {
   "cell_type": "code",
   "execution_count": null,
   "metadata": {
    "collapsed": true
   },
   "outputs": [],
   "source": [
    "_, x2, _ = load_csv_data(data_path=\"datas/test.csv\", sub_sample=False)\n",
    "print(proportion_of_NaN(x2) - proportion_of_NaN(x))"
   ]
  },
  {
   "cell_type": "code",
   "execution_count": null,
   "metadata": {
    "collapsed": true
   },
   "outputs": [],
   "source": [
    "proportion_of_NaN(x)"
   ]
  },
  {
   "cell_type": "code",
   "execution_count": null,
   "metadata": {
    "collapsed": true,
    "scrolled": false
   },
   "outputs": [],
   "source": [
    "w_init = np.random.rand(x.shape[1])\n",
    "w, loss = least_squares_GD(train_y, train_x, w_init, max_iters=100, gamma=0.3)"
   ]
  },
  {
   "cell_type": "code",
   "execution_count": null,
   "metadata": {
    "collapsed": true
   },
   "outputs": [],
   "source": [
    "w, loss = least_squares_SGD(train_y, train_x, w_init, 100, gamma=0.01)"
   ]
  },
  {
   "cell_type": "code",
   "execution_count": null,
   "metadata": {
    "collapsed": true
   },
   "outputs": [],
   "source": [
    "get_accuracy(test_x, test_y, w)"
   ]
  },
  {
   "cell_type": "code",
   "execution_count": null,
   "metadata": {
    "collapsed": true
   },
   "outputs": [],
   "source": [
    "_, submission_x, submission_ids = load_csv_data(data_path=\"datas/test.csv\", sub_sample=False)\n",
    "submission_x = submission_x[:, :15] # Removed all the primary\n",
    "submission_x = preprocess_data(submission_x)\n",
    "\n",
    "submission_x = build_polynomial(submission_x, 6)\n",
    "submission_x = build_combinations_lvl(submission_x, 2)\n",
    "submission_x = build_combinations_lvl(submission_x, 3)\n",
    "submission_x = build_combinations_lvl(submission_x, 4)\n",
    "submission_x = build_combinations_lvl(submission_x, 5)\n",
    "submission_x = build_combinations_lvl(submission_x, 6)\n",
    "submission_x = build_combinations_lvl(submission_x, 7)\n",
    "submission_x = build_combinations_lvl(submission_x, 8)\n",
    "\n",
    "pred_y = predict_labels(w, submission_x)"
   ]
  },
  {
   "cell_type": "code",
   "execution_count": null,
   "metadata": {},
   "outputs": [],
   "source": [
    "create_csv_submission(submission_ids, submission_y, \"datas/submission.csv\")\n",
    "print('Done !')\n"
   ]
  },
  {
   "cell_type": "code",
   "execution_count": null,
   "metadata": {
    "collapsed": true
   },
   "outputs": [],
   "source": [
    "import itertools\n",
    "import numpy as np\n",
    "import matplotlib.pyplot as plt\n",
    "\n",
    "# https://stackoverflow.com/a/7941594/4810319\n",
    "def main():\n",
    "    np.random.seed(1977)\n",
    "    numvars, numdata = 5, 100\n",
    "    data = 10 * np.random.random((numvars, numdata))\n",
    "    data = x[0:300, 0:7].T\n",
    "    print(x[0:200, 7])\n",
    "    fig = scatterplot_matrix(data, ['DER_mass_MMC', 'DER_mass_transverse_met_lep', 'DER_mass_vis', 'DER_pt_h', 'DER_deltaeta_jet_jet', 'DER_mass_jet_jet', 'DER_prodeta_jet_jet'],\n",
    "            linestyle='none', marker='o', color='black', mfc='none')\n",
    "    fig.suptitle('Simple Scatterplot Matrix')\n",
    "    plt.show()\n",
    "\n",
    "def scatterplot_matrix(data, names, **kwargs):\n",
    "    \"\"\"Plots a scatterplot matrix of subplots.  Each row of \"data\" is plotted\n",
    "    against other rows, resulting in a nrows by nrows grid of subplots with the\n",
    "    diagonal subplots labeled with \"names\".  Additional keyword arguments are\n",
    "    passed on to matplotlib's \"plot\" command. Returns the matplotlib figure\n",
    "    object containg the subplot grid.\"\"\"\n",
    "    numvars, numdata = data.shape\n",
    "    fig, axes = plt.subplots(nrows=numvars, ncols=numvars, figsize=(8,8))\n",
    "    fig.subplots_adjust(hspace=0.05, wspace=0.05)\n",
    "\n",
    "    for ax in axes.flat:\n",
    "        # Hide all ticks and labels\n",
    "        ax.xaxis.set_visible(False)\n",
    "        ax.yaxis.set_visible(False)\n",
    "\n",
    "        # Set up ticks only on one side for the \"edge\" subplots...\n",
    "        if ax.is_first_col():\n",
    "            ax.yaxis.set_ticks_position('left')\n",
    "        if ax.is_last_col():\n",
    "            ax.yaxis.set_ticks_position('right')\n",
    "        if ax.is_first_row():\n",
    "            ax.xaxis.set_ticks_position('top')\n",
    "        if ax.is_last_row():\n",
    "            ax.xaxis.set_ticks_position('bottom')\n",
    "\n",
    "    # Plot the data.\n",
    "    for i, j in zip(*np.triu_indices_from(axes, k=1)):\n",
    "        for x, y in [(i,j), (j,i)]:\n",
    "            axes[x,y].plot(data[x], data[y], **kwargs)\n",
    "\n",
    "    # Label the diagonal subplots...\n",
    "    for i, label in enumerate(names):\n",
    "        axes[i,i].annotate(label, (0.5, 0.5), xycoords='axes fraction',\n",
    "                ha='center', va='center')\n",
    "\n",
    "    # Turn on the proper x or y axes ticks.\n",
    "    for i, j in zip(range(numvars), itertools.cycle((-1, 0))):\n",
    "        axes[j,i].xaxis.set_visible(True)\n",
    "        axes[i,j].yaxis.set_visible(True)\n",
    "\n",
    "    return fig\n",
    "\n",
    "main()"
   ]
  },
  {
   "cell_type": "code",
   "execution_count": null,
   "metadata": {
    "collapsed": true
   },
   "outputs": [],
   "source": [
    "# Feature engineering (Add more features)\n",
    "polynomial_x = x\n",
    "# polynomial_x = build_polynomial(polynomial_x, 6)\n",
    "# polynomial_x = build_combinations_lvl(polynomial_x, 2)\n",
    "# polynomial_x = build_combinations_lvl(polynomial_x, 3)\n",
    "# polynomial_x = build_combinations_lvl(polynomial_x, 4)\n",
    "# polynomial_x = build_combinations_lvl(polynomial_x, 5)\n",
    "# polynomial_x = build_combinations_lvl(polynomial_x, 6)\n",
    "# polynomial_x = build_combinations_lvl(polynomial_x, 7)\n",
    "# polynomial_x = build_combinations_lvl(polynomial_x, 8)\n",
    "\n",
    "train_x, train_y, test_x, test_y = separate_set(polynomial_x, y)\n",
    "\n",
    "polynomial_x.shape"
   ]
  },
  {
   "cell_type": "code",
   "execution_count": 10,
   "metadata": {},
   "outputs": [
    {
     "name": "stdout",
     "output_type": "stream",
     "text": [
      "250000 250000\n"
     ]
    },
    {
     "data": {
      "text/plain": [
       "0.83036799999999999"
      ]
     },
     "execution_count": 10,
     "metadata": {},
     "output_type": "execute_result"
    }
   ],
   "source": [
    "def get_accuracy_ids(result_y, result_ids, y, ids):\n",
    "    stacked = np.column_stack((ids, y))\n",
    "    stacked = stacked[stacked[:,0].argsort()]\n",
    "    stacked_pred = np.column_stack((result_ids, result_y))\n",
    "    stacked_pred = stacked_pred[stacked_pred[:,0].argsort()]\n",
    "    \n",
    "    print(len(stacked_pred), len(stacked))\n",
    "    unique, counts = np.unique((stacked == stacked_pred)[:, 1], return_counts=True)\n",
    "    return dict(zip(unique, counts))[True] / len(y)\n",
    "\n",
    "get_accuracy_ids(result_y, result_ids, y, ids)"
   ]
  },
  {
   "cell_type": "code",
   "execution_count": null,
   "metadata": {},
   "outputs": [],
   "source": []
  },
  {
   "cell_type": "code",
   "execution_count": 11,
   "metadata": {},
   "outputs": [],
   "source": [
    "submission_stacked = np.column_stack((submission_ids, submission_y))\n",
    "submission_stacked = submission_stacked[submission_stacked[:,0].argsort()]\n"
   ]
  },
  {
   "cell_type": "code",
   "execution_count": 12,
   "metadata": {},
   "outputs": [
    {
     "name": "stdout",
     "output_type": "stream",
     "text": [
      "Done !\n"
     ]
    }
   ],
   "source": [
    "create_csv_submission(submission_stacked[:,0], submission_stacked[:,1], \"datas/submission.csv\")\n",
    "print('Done !')"
   ]
  },
  {
   "cell_type": "code",
   "execution_count": null,
   "metadata": {},
   "outputs": [],
   "source": []
  },
  {
   "cell_type": "code",
   "execution_count": 7,
   "metadata": {},
   "outputs": [],
   "source": [
    "def build_k_indices(y, k_fold, seed=1):\n",
    "    \"\"\"build k indices for k-fold.\"\"\"\n",
    "    num_row = y.shape[0]\n",
    "    interval = int(num_row / k_fold)\n",
    "    np.random.seed(seed)\n",
    "    indices = np.random.permutation(num_row)\n",
    "    k_indices = [indices[k * interval: (k + 1) * interval]\n",
    "                 for k in range(k_fold)]\n",
    "    return np.array(k_indices)\n",
    "\n",
    "def k_fold_cross_validation(y, x, k, lambda_):\n",
    "    \"\"\"return the accuracy of ridge regression.\"\"\"\n",
    "    \n",
    "    k_indices = build_k_indices(y, k)\n",
    "    accuracy_tr = []\n",
    "    accuracy_te = []\n",
    "    \n",
    "    accuracy_tr = []\n",
    "    accuracy_te = []\n",
    "\n",
    "    for i in range(0, k):\n",
    "        i = 0\n",
    "        \n",
    "        # get k'th subgroup in test, others in train:\n",
    "        x_test = x[k_indices[i]]\n",
    "        y_test = y[k_indices[i]]\n",
    "        x_train = np.array([]).reshape(0, x.shape[1])\n",
    "        y_train = np.array([])\n",
    "\n",
    "        for j in range(0, k):\n",
    "            if j != i:\n",
    "                x_train = np.concatenate((x_train, x[k_indices[j]]))\n",
    "                y_train = np.concatenate((y_train, y[k_indices[j]]))\n",
    "\n",
    "        # ridge regression:\n",
    "        w, loss = ridge_regression(y_train, x_train, lambda_)\n",
    "\n",
    "        # calculate the loss for train and test data\n",
    "        accuracy_tr.append(get_accuracy(x_train, y_train, w))\n",
    "        accuracy_te.append(get_accuracy(x_test, y_test, w))\n",
    "\n",
    "    return np.mean(accuracy_tr), np.mean(accuracy_te)"
   ]
  },
  {
   "cell_type": "code",
   "execution_count": null,
   "metadata": {},
   "outputs": [],
   "source": [
    "k = 5\n",
    "lambda_ = 0.0001\n",
    "k_fold_cross_validation(y, x, k, lambda_)"
   ]
  },
  {
   "cell_type": "code",
   "execution_count": null,
   "metadata": {},
   "outputs": [],
   "source": [
    "def cross_validation_visualization(lambds, mse_tr, mse_te):\n",
    "    \"\"\"visualization the curves of mse_tr and mse_te.\"\"\"\n",
    "    plt.semilogx(lambds, mse_tr, marker=\".\", color='b', label='train')\n",
    "    plt.semilogx(lambds, mse_te, marker=\".\", color='r', label='test')\n",
    "    plt.xlabel(\"lambda\")\n",
    "    plt.ylabel(\"accuracy\")\n",
    "    plt.title(\"cross validation\")\n",
    "    plt.legend(loc=1)\n",
    "    plt.grid(True)\n",
    "    \n",
    "    \n",
    "rmse_tr = []\n",
    "rmse_te = []\n",
    "lambdas = np.logspace(-4, 0, 15)\n",
    "x_features = build_features(x)\n",
    "for lambda_ in lambdas:\n",
    "    loss_tr, loss_te = k_fold_cross_validation(y, x_features, 4, lambda_)\n",
    "    rmse_tr += [loss_tr] \n",
    "    rmse_te += [loss_te]\n",
    "cross_validation_visualization(lambdas, rmse_tr, rmse_te)\n",
    "\n",
    "    \n"
   ]
  },
  {
   "cell_type": "code",
   "execution_count": null,
   "metadata": {},
   "outputs": [],
   "source": [
    "lambda_ = 0.00001\n",
    "train_x, train_y, test_x, test_y = separate_set(x, y)\n",
    "w, loss = ridge_regression(train_y, train_x, lambda_)\n",
    "get_accuracy(test_x, test_y, w)"
   ]
  },
  {
   "cell_type": "code",
   "execution_count": null,
   "metadata": {},
   "outputs": [],
   "source": []
  },
  {
   "cell_type": "code",
   "execution_count": 9,
   "metadata": {},
   "outputs": [
    {
     "name": "stdout",
     "output_type": "stream",
     "text": [
      "2017-10-13 09:08:33.264629 combinations 2 : 0 / 45\n",
      "2017-10-13 09:08:38.896238 combinations 3 : 0 / 120\n",
      "2017-10-13 09:08:46.487771 combinations 3 : 50 / 120\n",
      "2017-10-13 09:08:54.368349 combinations 3 : 100 / 120\n",
      "2017-10-13 09:08:58.110354 combinations 4 : 0 / 210\n",
      "2017-10-13 09:09:07.688672 combinations 4 : 50 / 210\n",
      "2017-10-13 09:09:18.495857 combinations 4 : 100 / 210\n",
      "2017-10-13 09:09:31.055282 combinations 4 : 150 / 210\n",
      "2017-10-13 09:09:44.713233 combinations 4 : 200 / 210\n",
      "\t Predicted -1 but was 1 : 0.6743355811186037\n",
      "2017-10-13 09:10:19.192903 combinations 2 : 0 / 45\n",
      "2017-10-13 09:10:24.896004 combinations 3 : 0 / 120\n",
      "2017-10-13 09:10:31.302249 combinations 3 : 50 / 120\n",
      "2017-10-13 09:10:38.903347 combinations 3 : 100 / 120\n",
      "2017-10-13 09:10:42.230163 combinations 4 : 0 / 210\n",
      "2017-10-13 09:10:51.592945 combinations 4 : 50 / 210\n",
      "2017-10-13 09:11:02.119154 combinations 4 : 100 / 210\n",
      "2017-10-13 09:11:14.340352 combinations 4 : 150 / 210\n",
      "2017-10-13 09:11:28.539068 combinations 4 : 200 / 210\n",
      "2017-10-13 09:11:35.374327 combinations 2 : 0 / 45\n",
      "2017-10-13 09:11:45.993848 combinations 3 : 0 / 120\n",
      "2017-10-13 09:12:02.658029 combinations 3 : 50 / 120\n",
      "2017-10-13 09:12:21.877864 combinations 3 : 100 / 120\n",
      "2017-10-13 09:12:31.438078 combinations 4 : 0 / 210\n",
      "2017-10-13 09:12:56.918483 combinations 4 : 50 / 210\n",
      "2017-10-13 09:13:26.455982 combinations 4 : 100 / 210\n",
      "2017-10-13 09:14:07.292083 combinations 4 : 150 / 210\n",
      "2017-10-13 09:14:42.904919 combinations 4 : 200 / 210\n",
      "2017-10-13 09:14:50.468760 combinations 2 : 0 / 45\n",
      "2017-10-13 09:14:55.883343 combinations 3 : 0 / 120\n",
      "2017-10-13 09:15:03.058893 combinations 3 : 50 / 120\n",
      "2017-10-13 09:15:09.830377 combinations 3 : 100 / 120\n",
      "2017-10-13 09:15:13.055497 combinations 4 : 0 / 210\n",
      "2017-10-13 09:15:21.501503 combinations 4 : 50 / 210\n",
      "2017-10-13 09:15:30.514806 combinations 4 : 100 / 210\n",
      "2017-10-13 09:15:40.308926 combinations 4 : 150 / 210\n",
      "2017-10-13 09:15:51.373285 combinations 4 : 200 / 210\n",
      "\t Predicted -1 but was 1 : 0.5925727309290789\n",
      "2017-10-13 09:16:20.567494 combinations 2 : 0 / 45\n",
      "2017-10-13 09:16:24.909818 combinations 3 : 0 / 120\n",
      "2017-10-13 09:16:31.626908 combinations 3 : 50 / 120\n",
      "2017-10-13 09:16:38.571677 combinations 3 : 100 / 120\n",
      "2017-10-13 09:16:41.400387 combinations 4 : 0 / 210\n",
      "2017-10-13 09:16:49.437172 combinations 4 : 50 / 210\n",
      "2017-10-13 09:16:59.225869 combinations 4 : 100 / 210\n",
      "2017-10-13 09:17:09.695525 combinations 4 : 150 / 210\n",
      "2017-10-13 09:17:20.738053 combinations 4 : 200 / 210\n",
      "2017-10-13 09:17:26.321504 combinations 2 : 0 / 45\n",
      "2017-10-13 09:17:36.242132 combinations 3 : 0 / 120\n",
      "2017-10-13 09:17:49.136207 combinations 3 : 50 / 120\n",
      "2017-10-13 09:18:07.970429 combinations 3 : 100 / 120\n",
      "2017-10-13 09:18:22.277583 combinations 4 : 0 / 210\n",
      "2017-10-13 09:18:54.515213 combinations 4 : 50 / 210\n",
      "2017-10-13 09:19:23.036418 combinations 4 : 100 / 210\n",
      "2017-10-13 09:19:56.016133 combinations 4 : 150 / 210\n",
      "2017-10-13 09:20:27.077791 combinations 4 : 200 / 210\n",
      "2017-10-13 09:20:34.808163 combinations 2 : 0 / 45\n",
      "2017-10-13 09:20:39.351659 combinations 3 : 0 / 120\n",
      "2017-10-13 09:20:44.922168 combinations 3 : 50 / 120\n",
      "2017-10-13 09:20:51.415240 combinations 3 : 100 / 120\n",
      "2017-10-13 09:20:54.229974 combinations 4 : 0 / 210\n",
      "2017-10-13 09:21:01.919581 combinations 4 : 50 / 210\n",
      "2017-10-13 09:21:10.690754 combinations 4 : 100 / 210\n",
      "2017-10-13 09:21:21.151299 combinations 4 : 150 / 210\n",
      "2017-10-13 09:21:31.790472 combinations 4 : 200 / 210\n",
      "\t Predicted -1 but was 1 : 0.4838020647917408\n",
      "2017-10-13 09:21:55.898194 combinations 2 : 0 / 45\n",
      "2017-10-13 09:22:01.633914 combinations 3 : 0 / 120\n",
      "2017-10-13 09:22:07.777088 combinations 3 : 50 / 120\n",
      "2017-10-13 09:22:14.731550 combinations 3 : 100 / 120\n",
      "2017-10-13 09:22:17.660181 combinations 4 : 0 / 210\n",
      "2017-10-13 09:22:26.592747 combinations 4 : 50 / 210\n",
      "2017-10-13 09:22:36.465285 combinations 4 : 100 / 210\n",
      "2017-10-13 09:22:46.275642 combinations 4 : 150 / 210\n",
      "2017-10-13 09:22:59.817426 combinations 4 : 200 / 210\n",
      "2017-10-13 09:23:05.593803 combinations 2 : 0 / 45\n",
      "2017-10-13 09:23:16.116093 combinations 3 : 0 / 120\n",
      "2017-10-13 09:23:29.236326 combinations 3 : 50 / 120\n",
      "2017-10-13 09:23:46.795849 combinations 3 : 100 / 120\n",
      "2017-10-13 09:23:55.741967 combinations 4 : 0 / 210\n",
      "2017-10-13 09:24:18.417758 combinations 4 : 50 / 210\n",
      "2017-10-13 09:24:38.248265 combinations 4 : 100 / 210\n",
      "2017-10-13 09:24:59.718171 combinations 4 : 150 / 210\n",
      "2017-10-13 09:25:24.455820 combinations 4 : 200 / 210\n",
      "2017-10-13 09:25:29.564781 combinations 2 : 0 / 45\n",
      "2017-10-13 09:25:31.244280 combinations 3 : 0 / 120\n",
      "2017-10-13 09:25:33.350280 combinations 3 : 50 / 120\n",
      "2017-10-13 09:25:35.812743 combinations 3 : 100 / 120\n",
      "2017-10-13 09:25:36.889246 combinations 4 : 0 / 210\n",
      "2017-10-13 09:25:39.724316 combinations 4 : 50 / 210\n",
      "2017-10-13 09:25:43.283281 combinations 4 : 100 / 210\n",
      "2017-10-13 09:25:47.281359 combinations 4 : 150 / 210\n",
      "2017-10-13 09:25:51.765066 combinations 4 : 200 / 210\n",
      "\t Predicted -1 but was 1 : 0.7124714249428499\n",
      "2017-10-13 09:26:00.929126 combinations 2 : 0 / 45\n",
      "2017-10-13 09:26:02.651164 combinations 3 : 0 / 120\n",
      "2017-10-13 09:26:04.990676 combinations 3 : 50 / 120\n",
      "2017-10-13 09:26:07.549736 combinations 3 : 100 / 120\n",
      "2017-10-13 09:26:08.637738 combinations 4 : 0 / 210\n",
      "2017-10-13 09:26:12.782738 combinations 4 : 50 / 210\n",
      "2017-10-13 09:26:16.610238 combinations 4 : 100 / 210\n",
      "2017-10-13 09:26:20.319234 combinations 4 : 150 / 210\n",
      "2017-10-13 09:26:24.523281 combinations 4 : 200 / 210\n",
      "2017-10-13 09:26:26.651777 combinations 2 : 0 / 45\n",
      "2017-10-13 09:26:30.843776 combinations 3 : 0 / 120\n",
      "2017-10-13 09:26:37.049876 combinations 3 : 50 / 120\n",
      "2017-10-13 09:26:43.526951 combinations 3 : 100 / 120\n",
      "2017-10-13 09:26:46.011452 combinations 4 : 0 / 210\n",
      "2017-10-13 09:26:54.305957 combinations 4 : 50 / 210\n",
      "2017-10-13 09:27:03.090953 combinations 4 : 100 / 210\n",
      "2017-10-13 09:27:12.116614 combinations 4 : 150 / 210\n",
      "2017-10-13 09:27:21.562229 combinations 4 : 200 / 210\n",
      "Count: 250000\n",
      "Train Accuracy: 0.831894718094\n",
      "Test Accuracy: 0.82314906377\n"
     ]
    }
   ],
   "source": [
    "def get_false(x, y, w):\n",
    "    pred_y = predict_labels(w, x)\n",
    "    false_count = 0\n",
    "    count_negatif = 0\n",
    "    for index, yi in enumerate(y):\n",
    "        pred_yi = pred_y[index]\n",
    "        if pred_yi != yi:\n",
    "            false_count += 1\n",
    "            if pred_yi == -1:\n",
    "                count_negatif += 1\n",
    "    \n",
    "    return count_negatif / false_count\n",
    "\n",
    "\n",
    "\n",
    "def get_data_numjet(jet_num_x_dict, jet_num_y_dict, jet_num_ids_dict, numjet, index):\n",
    "    removed_col_key = list(jet_num_x_dict[numjet])[index]\n",
    "    x = jet_num_x_dict[numjet][removed_col_key]\n",
    "    y = jet_num_y_dict[numjet][removed_col_key]\n",
    "    ids = jet_num_ids_dict[numjet][removed_col_key]\n",
    "    return x, y, ids\n",
    "\n",
    "def build_features(x):\n",
    "    polynomial_x = normalize(x)\n",
    "    polynomial_x = build_polynomial(polynomial_x, 3)\n",
    "    polynomial_x = build_combinations_lvl(polynomial_x, 2, 10)\n",
    "    polynomial_x = build_combinations_lvl(polynomial_x, 3, 10)\n",
    "    polynomial_x = build_combinations_lvl(polynomial_x, 4, 10)\n",
    "\n",
    "    return polynomial_x\n",
    "\n",
    "\n",
    "count = 0\n",
    "\n",
    "accuracy_train = 0\n",
    "accuracy_test = 0\n",
    "\n",
    "submission_ids = []\n",
    "submission_y = []\n",
    "\n",
    "result_y = []\n",
    "result_ids = []\n",
    "\n",
    "for numjet in range(0, 4):\n",
    "    for index in range(0, 1):\n",
    "        x_, y_, ids_ = get_data_numjet(jet_num_x_dict, jet_num_y_dict, jet_num_ids_dict, numjet, index)\n",
    "        \n",
    "        polynomial_x = build_features(x_)\n",
    "        lambda_ = 0.0000001\n",
    "        accuracy_train_k, accuracy_test_k = k_fold_cross_validation(y_, polynomial_x, 5, lambda_)\n",
    "        \n",
    "        w, loss = ridge_regression(y_, polynomial_x, lambda_)\n",
    "        \n",
    "        number_of_el = len(y_)\n",
    "\n",
    "        accuracy_train += accuracy_train_k * number_of_el\n",
    "        accuracy_test += accuracy_test_k * number_of_el\n",
    "        \n",
    "        print(\"\\t Predicted -1 but was 1 :\", get_false(polynomial_x, y_, w))\n",
    "        \n",
    "        count += number_of_el\n",
    "  \n",
    "        # Predict local\n",
    "        removed_col_key = list(jet_num_x_dict[numjet])[index]\n",
    "        sub_x2 = jet_num_x_dict[numjet][removed_col_key]\n",
    "        sub_ids2 = jet_num_ids_dict[numjet][removed_col_key]\n",
    "\n",
    "        sub_x2 = build_features(sub_x2)\n",
    "        pred_y2 = predict_labels(w, sub_x2)\n",
    "        \n",
    "        for sub_index, sub_id in enumerate(sub_ids2):\n",
    "            result_ids.append(sub_id)\n",
    "            result_y.append(pred_y2[sub_index])\n",
    "        \n",
    "\n",
    "        \n",
    "        # Predict submission\n",
    "        removed_col_key = list(jet_num_x_dict[numjet])[index]\n",
    "        sub_x = sub_jet_num_x_dict[numjet][removed_col_key]\n",
    "        sub_ids = sub_jet_num_ids_dict[numjet][removed_col_key]\n",
    "\n",
    "        sub_x = build_features(sub_x)\n",
    "        pred_y = predict_labels(w, sub_x)\n",
    "        \n",
    "        for sub_index, sub_id in enumerate(sub_ids):\n",
    "            submission_ids.append(sub_id)\n",
    "            submission_y.append(pred_y[sub_index])\n",
    "        \n",
    "print(\"Count:\", count)\n",
    "print(\"Train Accuracy: \" + str(accuracy_train / count))\n",
    "print(\"Test Accuracy: \" + str(accuracy_test / count))"
   ]
  },
  {
   "cell_type": "code",
   "execution_count": null,
   "metadata": {},
   "outputs": [],
   "source": []
  },
  {
   "cell_type": "code",
   "execution_count": null,
   "metadata": {
    "collapsed": true
   },
   "outputs": [],
   "source": []
  }
 ],
 "metadata": {
  "kernelspec": {
   "display_name": "Python [conda root]",
   "language": "python",
   "name": "conda-root-py"
  },
  "language_info": {
   "codemirror_mode": {
    "name": "ipython",
    "version": 3
   },
   "file_extension": ".py",
   "mimetype": "text/x-python",
   "name": "python",
   "nbconvert_exporter": "python",
   "pygments_lexer": "ipython3",
   "version": "3.6.1"
  }
 },
 "nbformat": 4,
 "nbformat_minor": 2
}
