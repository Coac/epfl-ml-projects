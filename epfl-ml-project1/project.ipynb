{
 "cells": [
  {
   "cell_type": "code",
   "execution_count": 67,
   "metadata": {},
   "outputs": [],
   "source": [
    "def load_data():\n",
    "    path_dataset = \"datas/train.csv\"\n",
    "    data = np.genfromtxt(\n",
    "        path_dataset, delimiter=\",\", skip_header=1, max_rows=100)\n",
    "    return data\n",
    "\n"
   ]
  },
  {
   "cell_type": "code",
   "execution_count": 69,
   "metadata": {},
   "outputs": [
    {
     "name": "stdout",
     "output_type": "stream",
     "text": [
      "[ 100000.  100001.  100002.  100003.  100004.  100005.  100006.  100007.\n",
      "  100008.  100009.  100010.  100011.  100012.  100013.  100014.  100015.\n",
      "  100016.  100017.  100018.  100019.  100020.  100021.  100022.  100023.\n",
      "  100024.  100025.  100026.  100027.  100028.  100029.  100030.  100031.\n",
      "  100032.  100033.  100034.  100035.  100036.  100037.  100038.  100039.\n",
      "  100040.  100041.  100042.  100043.  100044.  100045.  100046.  100047.\n",
      "  100048.  100049.  100050.  100051.  100052.  100053.  100054.  100055.\n",
      "  100056.  100057.  100058.  100059.  100060.  100061.  100062.  100063.\n",
      "  100064.  100065.  100066.  100067.  100068.  100069.  100070.  100071.\n",
      "  100072.  100073.  100074.  100075.  100076.  100077.  100078.  100079.\n",
      "  100080.  100081.  100082.  100083.  100084.  100085.  100086.  100087.\n",
      "  100088.  100089.  100090.  100091.  100092.  100093.  100094.  100095.\n",
      "  100096.  100097.  100098.  100099.]\n"
     ]
    }
   ],
   "source": [
    "import datetime\n",
    "from helpers import *\n",
    "\n",
    "datas = load_data()\n",
    "\n",
    "print(datas[:, 0])\n"
   ]
  },
  {
   "cell_type": "code",
   "execution_count": null,
   "metadata": {
    "collapsed": true
   },
   "outputs": [],
   "source": []
  }
 ],
 "metadata": {
  "kernelspec": {
   "display_name": "Python [conda root]",
   "language": "python",
   "name": "conda-root-py"
  },
  "language_info": {
   "codemirror_mode": {
    "name": "ipython",
    "version": 3
   },
   "file_extension": ".py",
   "mimetype": "text/x-python",
   "name": "python",
   "nbconvert_exporter": "python",
   "pygments_lexer": "ipython3",
   "version": "3.6.1"
  }
 },
 "nbformat": 4,
 "nbformat_minor": 2
}
