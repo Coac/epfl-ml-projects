{
 "cells": [
  {
   "cell_type": "code",
   "execution_count": 1,
   "metadata": {},
   "outputs": [],
   "source": [
    "%matplotlib inline\n",
    "import matplotlib.pyplot as plt\n",
    "import numpy as np\n",
    "import random\n",
    "from datetime import datetime\n",
    "from helpers import *\n",
    "from costs import *\n",
    "from gradient_descent import *\n",
    "from stochastic_gradient_descent import *\n",
    "from features_engineering import *\n",
    "from cross_validation import *\n",
    "from pre_processing import *\n",
    "from group_by import *\n",
    "\n",
    "%load_ext autoreload\n",
    "%autoreload 2"
   ]
  },
  {
   "cell_type": "code",
   "execution_count": 2,
   "metadata": {
    "collapsed": true
   },
   "outputs": [],
   "source": [
    "y, x, ids = load_csv_data(data_path=\"datas/train.csv\", sub_sample=False)"
   ]
  },
  {
   "cell_type": "code",
   "execution_count": 3,
   "metadata": {
    "collapsed": true
   },
   "outputs": [],
   "source": [
    "submission_y, submission_x, submission_ids = load_csv_data(data_path=\"datas/test.csv\", sub_sample=False)"
   ]
  },
  {
   "cell_type": "code",
   "execution_count": 4,
   "metadata": {},
   "outputs": [
    {
     "name": "stdout",
     "output_type": "stream",
     "text": [
      "0 (227458, 30) (227458,) (227458,)\n",
      "1 (175338, 30) (175338,) (175338,)\n",
      "2 (114648, 30) (114648,) (114648,)\n",
      "3 (50794, 30) (50794,) (50794,)\n",
      "num_jet: 0\n",
      "(0, 4, 5, 6, 12, 23, 24, 25, 26, 27, 28) (59263, 19) (59263, 1) (59263, 1)\n",
      "(4, 5, 6, 12, 23, 24, 25, 26, 27, 28) (168195, 20) (168195, 1) (168195, 1)\n",
      "\tRemove col : \n",
      "\t (0, 4, 5, 6, 12, 23, 24, 25, 26, 27, 28) 17 [ 0.  0.  0. ...,  0.  0.  0.]\n",
      "\t (0, 4, 5, 6, 12, 23, 24, 25, 26, 27, 28) 18 [ 0.  0.  0. ...,  0.  0.  0.]\n",
      "\t (4, 5, 6, 12, 23, 24, 25, 26, 27, 28) 18 [ 0.  0.  0. ...,  0.  0.  0.]\n",
      "\t (4, 5, 6, 12, 23, 24, 25, 26, 27, 28) 19 [ 0.  0.  0. ...,  0.  0.  0.]\n",
      "num_jet: 1\n",
      "(4, 5, 6, 12, 26, 27, 28) (158095, 23) (158095, 1) (158095, 1)\n",
      "(0, 4, 5, 6, 12, 26, 27, 28) (17243, 22) (17243, 1) (17243, 1)\n",
      "\tRemove col : \n",
      "\t (4, 5, 6, 12, 26, 27, 28) 18 [ 1.  1.  1. ...,  1.  1.  1.]\n",
      "\t (0, 4, 5, 6, 12, 26, 27, 28) 17 [ 1.  1.  1. ...,  1.  1.  1.]\n",
      "num_jet: 2\n",
      "() (107905, 30) (107905, 1) (107905, 1)\n",
      "(0,) (6743, 29) (6743, 1) (6743, 1)\n",
      "\tRemove col : \n",
      "\t () 22 [ 2.  2.  2. ...,  2.  2.  2.]\n",
      "\t (0,) 21 [ 2.  2.  2. ...,  2.  2.  2.]\n",
      "num_jet: 3\n",
      "() (47555, 30) (47555, 1) (47555, 1)\n",
      "(0,) (3239, 29) (3239, 1) (3239, 1)\n",
      "\tRemove col : \n",
      "\t () 22 [ 3.  3.  3. ...,  3.  3.  3.]\n",
      "\t (0,) 21 [ 3.  3.  3. ...,  3.  3.  3.]\n"
     ]
    }
   ],
   "source": [
    "sub_jet_num_x_dict, sub_jet_num_y_dict, sub_jet_num_ids_dict = group_by_jetnum_NaN(submission_x, submission_y, submission_ids)"
   ]
  },
  {
   "cell_type": "code",
   "execution_count": 5,
   "metadata": {},
   "outputs": [
    {
     "name": "stdout",
     "output_type": "stream",
     "text": [
      "0 (99913, 30) (99913,) (99913,)\n",
      "1 (77544, 30) (77544,) (77544,)\n",
      "2 (50379, 30) (50379,) (50379,)\n",
      "3 (22164, 30) (22164,) (22164,)\n",
      "num_jet: 0\n",
      "(4, 5, 6, 12, 23, 24, 25, 26, 27, 28) (73790, 20) (73790, 1) (73790, 1)\n",
      "(0, 4, 5, 6, 12, 23, 24, 25, 26, 27, 28) (26123, 19) (26123, 1) (26123, 1)\n",
      "\tRemove col : \n",
      "\t (4, 5, 6, 12, 23, 24, 25, 26, 27, 28) 18 [ 0.  0.  0. ...,  0.  0.  0.]\n",
      "\t (4, 5, 6, 12, 23, 24, 25, 26, 27, 28) 19 [ 0.  0.  0. ...,  0.  0.  0.]\n",
      "\t (0, 4, 5, 6, 12, 23, 24, 25, 26, 27, 28) 17 [ 0.  0.  0. ...,  0.  0.  0.]\n",
      "\t (0, 4, 5, 6, 12, 23, 24, 25, 26, 27, 28) 18 [ 0.  0.  0. ...,  0.  0.  0.]\n",
      "num_jet: 1\n",
      "(4, 5, 6, 12, 26, 27, 28) (69982, 23) (69982, 1) (69982, 1)\n",
      "(0, 4, 5, 6, 12, 26, 27, 28) (7562, 22) (7562, 1) (7562, 1)\n",
      "\tRemove col : \n",
      "\t (4, 5, 6, 12, 26, 27, 28) 18 [ 1.  1.  1. ...,  1.  1.  1.]\n",
      "\t (0, 4, 5, 6, 12, 26, 27, 28) 17 [ 1.  1.  1. ...,  1.  1.  1.]\n",
      "num_jet: 2\n",
      "() (47427, 30) (47427, 1) (47427, 1)\n",
      "(0,) (2952, 29) (2952, 1) (2952, 1)\n",
      "\tRemove col : \n",
      "\t () 22 [ 2.  2.  2. ...,  2.  2.  2.]\n",
      "\t (0,) 21 [ 2.  2.  2. ...,  2.  2.  2.]\n",
      "num_jet: 3\n",
      "() (20687, 30) (20687, 1) (20687, 1)\n",
      "(0,) (1477, 29) (1477, 1) (1477, 1)\n",
      "\tRemove col : \n",
      "\t () 22 [ 3.  3.  3. ...,  3.  3.  3.]\n",
      "\t (0,) 21 [ 3.  3.  3. ...,  3.  3.  3.]\n"
     ]
    }
   ],
   "source": [
    "jet_num_x_dict, jet_num_y_dict, jet_num_ids_dict = group_by_jetnum_NaN(x, y, ids)"
   ]
  },
  {
   "cell_type": "code",
   "execution_count": null,
   "metadata": {
    "collapsed": true
   },
   "outputs": [],
   "source": [
    "\n"
   ]
  },
  {
   "cell_type": "code",
   "execution_count": null,
   "metadata": {
    "collapsed": true
   },
   "outputs": [],
   "source": []
  },
  {
   "cell_type": "code",
   "execution_count": null,
   "metadata": {
    "collapsed": true
   },
   "outputs": [],
   "source": []
  },
  {
   "cell_type": "code",
   "execution_count": null,
   "metadata": {
    "collapsed": true
   },
   "outputs": [],
   "source": []
  },
  {
   "cell_type": "code",
   "execution_count": null,
   "metadata": {
    "collapsed": true,
    "scrolled": false
   },
   "outputs": [],
   "source": []
  },
  {
   "cell_type": "code",
   "execution_count": null,
   "metadata": {
    "collapsed": true
   },
   "outputs": [],
   "source": []
  },
  {
   "cell_type": "code",
   "execution_count": null,
   "metadata": {
    "collapsed": true
   },
   "outputs": [],
   "source": []
  },
  {
   "cell_type": "code",
   "execution_count": null,
   "metadata": {
    "collapsed": true
   },
   "outputs": [],
   "source": []
  },
  {
   "cell_type": "code",
   "execution_count": null,
   "metadata": {
    "collapsed": true
   },
   "outputs": [],
   "source": []
  },
  {
   "cell_type": "code",
   "execution_count": null,
   "metadata": {
    "collapsed": true
   },
   "outputs": [],
   "source": [
    "import itertools\n",
    "import numpy as np\n",
    "import matplotlib.pyplot as plt\n",
    "\n",
    "# https://stackoverflow.com/a/7941594/4810319\n",
    "def main():\n",
    "    np.random.seed(1977)\n",
    "    numvars, numdata = 5, 100\n",
    "    data = 10 * np.random.random((numvars, numdata))\n",
    "    data = x[0:300, 0:7].T\n",
    "    print(x[0:200, 7])\n",
    "    fig = scatterplot_matrix(data, ['DER_mass_MMC', 'DER_mass_transverse_met_lep', 'DER_mass_vis', 'DER_pt_h', 'DER_deltaeta_jet_jet', 'DER_mass_jet_jet', 'DER_prodeta_jet_jet'],\n",
    "            linestyle='none', marker='o', color='black', mfc='none')\n",
    "    fig.suptitle('Simple Scatterplot Matrix')\n",
    "    plt.show()\n",
    "\n",
    "def scatterplot_matrix(data, names, **kwargs):\n",
    "    \"\"\"Plots a scatterplot matrix of subplots.  Each row of \"data\" is plotted\n",
    "    against other rows, resulting in a nrows by nrows grid of subplots with the\n",
    "    diagonal subplots labeled with \"names\".  Additional keyword arguments are\n",
    "    passed on to matplotlib's \"plot\" command. Returns the matplotlib figure\n",
    "    object containg the subplot grid.\"\"\"\n",
    "    numvars, numdata = data.shape\n",
    "    fig, axes = plt.subplots(nrows=numvars, ncols=numvars, figsize=(8,8))\n",
    "    fig.subplots_adjust(hspace=0.05, wspace=0.05)\n",
    "\n",
    "    for ax in axes.flat:\n",
    "        # Hide all ticks and labels\n",
    "        ax.xaxis.set_visible(False)\n",
    "        ax.yaxis.set_visible(False)\n",
    "\n",
    "        # Set up ticks only on one side for the \"edge\" subplots...\n",
    "        if ax.is_first_col():\n",
    "            ax.yaxis.set_ticks_position('left')\n",
    "        if ax.is_last_col():\n",
    "            ax.yaxis.set_ticks_position('right')\n",
    "        if ax.is_first_row():\n",
    "            ax.xaxis.set_ticks_position('top')\n",
    "        if ax.is_last_row():\n",
    "            ax.xaxis.set_ticks_position('bottom')\n",
    "\n",
    "    # Plot the data.\n",
    "    for i, j in zip(*np.triu_indices_from(axes, k=1)):\n",
    "        for x, y in [(i,j), (j,i)]:\n",
    "            axes[x,y].plot(data[x], data[y], **kwargs)\n",
    "\n",
    "    # Label the diagonal subplots...\n",
    "    for i, label in enumerate(names):\n",
    "        axes[i,i].annotate(label, (0.5, 0.5), xycoords='axes fraction',\n",
    "                ha='center', va='center')\n",
    "\n",
    "    # Turn on the proper x or y axes ticks.\n",
    "    for i, j in zip(range(numvars), itertools.cycle((-1, 0))):\n",
    "        axes[j,i].xaxis.set_visible(True)\n",
    "        axes[i,j].yaxis.set_visible(True)\n",
    "\n",
    "    return fig\n",
    "\n",
    "main()"
   ]
  },
  {
   "cell_type": "code",
   "execution_count": null,
   "metadata": {
    "collapsed": true
   },
   "outputs": [],
   "source": []
  },
  {
   "cell_type": "code",
   "execution_count": null,
   "metadata": {},
   "outputs": [],
   "source": [
    "def get_accuracy_ids(result_y, result_ids, y, ids):\n",
    "    stacked = np.column_stack((ids, y))\n",
    "    stacked = stacked[stacked[:,0].argsort()]\n",
    "    stacked_pred = np.column_stack((result_ids, result_y))\n",
    "    stacked_pred = stacked_pred[stacked_pred[:,0].argsort()]\n",
    "    \n",
    "    print(len(stacked_pred), len(stacked))\n",
    "    unique, counts = np.unique((stacked == stacked_pred)[:, 1], return_counts=True)\n",
    "    return dict(zip(unique, counts))[True] / len(y)\n",
    "\n",
    "get_accuracy_ids(result_y, result_ids, y, ids)"
   ]
  },
  {
   "cell_type": "code",
   "execution_count": null,
   "metadata": {
    "collapsed": true
   },
   "outputs": [],
   "source": []
  },
  {
   "cell_type": "code",
   "execution_count": 10,
   "metadata": {
    "collapsed": true
   },
   "outputs": [],
   "source": [
    "submission_stacked = np.column_stack((submission_ids, submission_y))\n",
    "submission_stacked = submission_stacked[submission_stacked[:,0].argsort()]\n"
   ]
  },
  {
   "cell_type": "code",
   "execution_count": 11,
   "metadata": {},
   "outputs": [
    {
     "name": "stdout",
     "output_type": "stream",
     "text": [
      "Done !\n"
     ]
    }
   ],
   "source": [
    "create_csv_submission(submission_stacked[:,0], submission_stacked[:,1], \"datas/submission.csv\")\n",
    "print('Done !')"
   ]
  },
  {
   "cell_type": "code",
   "execution_count": null,
   "metadata": {
    "collapsed": true
   },
   "outputs": [],
   "source": []
  },
  {
   "cell_type": "code",
   "execution_count": null,
   "metadata": {
    "collapsed": true
   },
   "outputs": [],
   "source": []
  },
  {
   "cell_type": "code",
   "execution_count": null,
   "metadata": {
    "collapsed": true
   },
   "outputs": [],
   "source": []
  },
  {
   "cell_type": "code",
   "execution_count": null,
   "metadata": {
    "collapsed": true
   },
   "outputs": [],
   "source": [
    "\n",
    "\n",
    "    \n"
   ]
  },
  {
   "cell_type": "code",
   "execution_count": null,
   "metadata": {
    "collapsed": true
   },
   "outputs": [],
   "source": []
  },
  {
   "cell_type": "code",
   "execution_count": null,
   "metadata": {
    "collapsed": true
   },
   "outputs": [],
   "source": []
  },
  {
   "cell_type": "code",
   "execution_count": null,
   "metadata": {
    "collapsed": true
   },
   "outputs": [],
   "source": []
  },
  {
   "cell_type": "code",
   "execution_count": 8,
   "metadata": {
    "collapsed": true
   },
   "outputs": [],
   "source": [
    "def get_false(x, y, w, predict_threshold):\n",
    "    pred_y = predict_labels(w, x, predict_threshold)\n",
    "    false_count = 0\n",
    "    count_negatif = 0\n",
    "    for index, yi in enumerate(y):\n",
    "        pred_yi = pred_y[index]\n",
    "        if pred_yi != yi:\n",
    "            false_count += 1\n",
    "            if pred_yi == -1:\n",
    "                count_negatif += 1\n",
    "    \n",
    "    return count_negatif / false_count\n",
    "\n",
    "\n",
    "\n",
    "def get_data_numjet(jet_num_x_dict, jet_num_y_dict, jet_num_ids_dict, numjet, index):\n",
    "    removed_col_key = list(jet_num_x_dict[numjet])[index]\n",
    "    x = jet_num_x_dict[numjet][removed_col_key]\n",
    "    y = jet_num_y_dict[numjet][removed_col_key]\n",
    "    ids = jet_num_ids_dict[numjet][removed_col_key]\n",
    "    return x, y, ids\n",
    "\n",
    "def build_features(x, numjet, index):\n",
    "    if numjet == 0 and index == 0:\n",
    "        polynomial_x = normalize(x)\n",
    "        polynomial_x = build_polynomial(polynomial_x, 3)\n",
    "        polynomial_x = build_combinations_lvl(polynomial_x, 2, 8)\n",
    "        polynomial_x = build_combinations_lvl(polynomial_x, 3, 8)\n",
    "        polynomial_x = build_combinations_lvl(polynomial_x, 4, 8)\n",
    "        polynomial_x = build_combinations_lvl(polynomial_x, 5, 8)\n",
    "        polynomial_x = build_combinations_lvl(polynomial_x, 6, 8)\n",
    "        polynomial_x = build_combinations_lvl(polynomial_x, 7, 8)\n",
    "    elif numjet == 0 and index == 1:\n",
    "        x_numjet0_index1 = normalize(x)\n",
    "        polynomial_x = x_numjet0_index1\n",
    "        polynomial_x = np.concatenate((polynomial_x, np.tanh(x_numjet0_index1)), axis=1)\n",
    "        polynomial_x = np.concatenate((polynomial_x, np.sqrt(np.abs(x_numjet0_index1))), axis=1)\n",
    "        polynomial_x = np.concatenate((polynomial_x, np.power(x_numjet0_index1, 2)), axis=1)\n",
    "        polynomial_x = np.concatenate((polynomial_x, np.power(np.tanh(x_numjet0_index1), 2)), axis=1)\n",
    "        polynomial_x = np.concatenate((polynomial_x, np.power(np.log(np.abs(x_numjet0_index1)), 2)), axis=1)\n",
    "    elif numjet == 1 and index == 1:\n",
    "        polynomial_x = normalize(x)\n",
    "        polynomial_x = build_polynomial(polynomial_x, 3)\n",
    "        polynomial_x = build_combinations_lvl(polynomial_x, 2, 10)\n",
    "        polynomial_x = build_combinations_lvl(polynomial_x, 3, 10)\n",
    "        polynomial_x = build_combinations_lvl(polynomial_x, 4, 10)\n",
    "        polynomial_x = build_combinations_lvl(polynomial_x, 5, 10)\n",
    "    elif numjet == 2 and index == 1:\n",
    "        polynomial_x = normalize(x)\n",
    "        polynomial_x = build_polynomial(polynomial_x, 2)\n",
    "        polynomial_x = build_combinations_lvl(polynomial_x, 2, 10)\n",
    "        polynomial_x = build_combinations_lvl(polynomial_x, 3, 10)\n",
    "        polynomial_x = build_combinations_lvl(polynomial_x, 4, 10)\n",
    "        polynomial_x = build_combinations_lvl(polynomial_x, 5, 10)\n",
    "    elif numjet == 3 and index == 0:\n",
    "        polynomial_x = normalize(x)\n",
    "        polynomial_x = build_polynomial(polynomial_x, 5)\n",
    "        polynomial_x = build_combinations_lvl(polynomial_x, 2, 8)\n",
    "        polynomial_x = build_combinations_lvl(polynomial_x, 3, 8)\n",
    "        polynomial_x = build_combinations_lvl(polynomial_x, 4, 8)\n",
    "        polynomial_x = build_combinations_lvl(polynomial_x, 5, 8)\n",
    "        polynomial_x = build_combinations_lvl(polynomial_x, 6, 8)\n",
    "    elif numjet == 3 and index == 1:\n",
    "        polynomial_x = normalize(x)\n",
    "        polynomial_x = build_polynomial(polynomial_x, 6)\n",
    "        polynomial_x = build_combinations_lvl(polynomial_x, 2, 10)\n",
    "        polynomial_x = build_combinations_lvl(polynomial_x, 3, 10)\n",
    "        polynomial_x = build_combinations_lvl(polynomial_x, 4, 10)\n",
    "    else:\n",
    "        polynomial_x = normalize(x)\n",
    "        polynomial_x = build_polynomial(polynomial_x, 3)\n",
    "        polynomial_x = build_combinations_lvl(polynomial_x, 2, 10)\n",
    "        polynomial_x = build_combinations_lvl(polynomial_x, 3, 10)\n",
    "        polynomial_x = build_combinations_lvl(polynomial_x, 4, 10)\n",
    "\n",
    "    return polynomial_x\n",
    "\n",
    "def build_best_model(x_, y_, numjet, index):\n",
    "    k = 5\n",
    "    predict_threshold = 0\n",
    "    polynomial_x = build_features(x_, numjet, index)\n",
    "\n",
    "    if numjet == 0 and index == 0:\n",
    "        lambda_ = 4.52035365636e-07\n",
    "    elif numjet == 0 and index == 1:\n",
    "        predict_threshold = -0.189898989899\n",
    "        lambda_ = 1e-06\n",
    "    elif numjet == 1 and index == 1:\n",
    "        lambda_ = 0.137382379588\n",
    "    elif numjet == 2 and index == 1:\n",
    "        lambda_ = 0.0188739182214\n",
    "    elif numjet == 3 and index == 0:\n",
    "        lambda_ = 7.27895384398e-05\n",
    "    elif numjet == 3 and index == 1:\n",
    "        predict_threshold = -0.1\n",
    "        lambda_ = 0.5\n",
    "    else:\n",
    "        lambda_ = 0.000001\n",
    "\n",
    "\n",
    "    accuracy_train_k, accuracy_test_k = k_fold_cross_validation(y_, polynomial_x, k, lambda_, predict_threshold)\n",
    "    w, loss = ridge_regression(y_, polynomial_x, lambda_)\n",
    "\n",
    "    \n",
    "    print(\"\\t Predicted -1 but was 1 :\", get_false(polynomial_x, y_, w, predict_threshold))\n",
    "\n",
    "    \n",
    "    return w, predict_threshold, accuracy_train_k, accuracy_test_k\n",
    "\n",
    "    "
   ]
  },
  {
   "cell_type": "code",
   "execution_count": 9,
   "metadata": {},
   "outputs": [
    {
     "name": "stdout",
     "output_type": "stream",
     "text": [
      "2017-10-15 16:33:19.009544 combinations 2 : 0 / 28\n",
      "2017-10-15 16:33:21.097352 combinations 3 : 0 / 56\n",
      "2017-10-15 16:33:25.527486 combinations 3 : 50 / 56\n",
      "2017-10-15 16:33:26.102587 combinations 4 : 0 / 70\n",
      "2017-10-15 16:33:31.572502 combinations 4 : 50 / 70\n",
      "2017-10-15 16:33:33.962872 combinations 5 : 0 / 56\n",
      "2017-10-15 16:33:40.703385 combinations 5 : 50 / 56\n",
      "2017-10-15 16:33:41.531957 combinations 6 : 0 / 28\n",
      "2017-10-15 16:33:46.239983 combinations 7 : 0 / 8\n",
      "\t Predicted -1 but was 1 : 0.634313005143277\n",
      "0 0 Train Accuracy: 0.815517007725\n",
      "0 0 Test Accuracy: 0.813877219135\n",
      "2017-10-15 16:34:03.846008 combinations 2 : 0 / 28\n",
      "2017-10-15 16:34:09.372586 combinations 3 : 0 / 56\n",
      "2017-10-15 16:34:20.058085 combinations 3 : 50 / 56\n",
      "2017-10-15 16:34:21.339123 combinations 4 : 0 / 70\n",
      "2017-10-15 16:34:34.187231 combinations 4 : 50 / 70\n",
      "2017-10-15 16:34:39.672918 combinations 5 : 0 / 56\n",
      "2017-10-15 16:34:55.276333 combinations 5 : 50 / 56\n",
      "2017-10-15 16:34:57.551894 combinations 6 : 0 / 28\n",
      "2017-10-15 16:35:07.264196 combinations 7 : 0 / 8\n",
      "\t Predicted -1 but was 1 : 0.8778979907264297\n",
      "0 1 Train Accuracy: 0.949703292496\n",
      "0 1 Test Accuracy: 0.953675344564\n",
      "2017-10-15 16:35:13.121113 combinations 2 : 0 / 45\n",
      "2017-10-15 16:35:17.153462 combinations 3 : 0 / 120\n",
      "2017-10-15 16:35:23.406696 combinations 3 : 50 / 120\n",
      "2017-10-15 16:35:29.591127 combinations 3 : 100 / 120\n",
      "2017-10-15 16:35:32.713307 combinations 4 : 0 / 210\n",
      "2017-10-15 16:35:40.713982 combinations 4 : 50 / 210\n",
      "2017-10-15 16:35:49.173876 combinations 4 : 100 / 210\n",
      "2017-10-15 16:35:58.206144 combinations 4 : 150 / 210\n",
      "2017-10-15 16:36:08.568841 combinations 4 : 200 / 210\n",
      "\t Predicted -1 but was 1 : 0.5616155660377359\n",
      "1 0 Train Accuracy: 0.807480708774\n",
      "1 0 Test Accuracy: 0.800371534724\n",
      "2017-10-15 16:36:33.024291 combinations 2 : 0 / 45\n",
      "2017-10-15 16:36:43.468192 combinations 3 : 0 / 120\n",
      "2017-10-15 16:37:01.529612 combinations 3 : 50 / 120\n",
      "2017-10-15 16:37:17.299449 combinations 3 : 100 / 120\n",
      "2017-10-15 16:37:26.999929 combinations 4 : 0 / 210\n",
      "2017-10-15 16:37:54.224653 combinations 4 : 50 / 210\n",
      "2017-10-15 16:38:13.974668 combinations 4 : 100 / 210\n",
      "2017-10-15 16:38:36.581259 combinations 4 : 150 / 210\n",
      "2017-10-15 16:38:57.909746 combinations 4 : 200 / 210\n",
      "2017-10-15 16:39:02.408179 combinations 2 : 0 / 45\n",
      "2017-10-15 16:39:02.798717 combinations 3 : 0 / 120\n",
      "2017-10-15 16:39:03.289683 combinations 3 : 50 / 120\n",
      "2017-10-15 16:39:03.861215 combinations 3 : 100 / 120\n",
      "2017-10-15 16:39:04.127683 combinations 4 : 0 / 210\n",
      "2017-10-15 16:39:04.826723 combinations 4 : 50 / 210\n",
      "2017-10-15 16:39:05.636905 combinations 4 : 100 / 210\n",
      "2017-10-15 16:39:06.542451 combinations 4 : 150 / 210\n",
      "2017-10-15 16:39:07.547487 combinations 4 : 200 / 210\n",
      "2017-10-15 16:39:07.751449 combinations 5 : 0 / 252\n",
      "2017-10-15 16:39:08.833485 combinations 5 : 50 / 252\n",
      "2017-10-15 16:39:09.980682 combinations 5 : 100 / 252\n",
      "2017-10-15 16:39:11.215689 combinations 5 : 150 / 252\n",
      "2017-10-15 16:39:12.545224 combinations 5 : 200 / 252\n",
      "2017-10-15 16:39:13.946987 combinations 5 : 250 / 252\n",
      "\t Predicted -1 but was 1 : 0.9713740458015268\n",
      "1 1 Train Accuracy: 0.930555555556\n",
      "1 1 Test Accuracy: 0.920634920635\n",
      "2017-10-15 16:39:17.199082 combinations 2 : 0 / 45\n",
      "2017-10-15 16:39:18.030581 combinations 3 : 0 / 120\n",
      "2017-10-15 16:39:19.144543 combinations 3 : 50 / 120\n",
      "2017-10-15 16:39:20.455544 combinations 3 : 100 / 120\n",
      "2017-10-15 16:39:21.038045 combinations 4 : 0 / 210\n",
      "2017-10-15 16:39:22.630139 combinations 4 : 50 / 210\n",
      "2017-10-15 16:39:24.428795 combinations 4 : 100 / 210\n",
      "2017-10-15 16:39:26.410325 combinations 4 : 150 / 210\n",
      "2017-10-15 16:39:28.596414 combinations 4 : 200 / 210\n",
      "2017-10-15 16:39:29.056453 combinations 5 : 0 / 252\n",
      "2017-10-15 16:39:31.503693 combinations 5 : 50 / 252\n",
      "2017-10-15 16:39:34.212764 combinations 5 : 100 / 252\n",
      "2017-10-15 16:39:37.138820 combinations 5 : 150 / 252\n",
      "2017-10-15 16:39:40.439468 combinations 5 : 200 / 252\n",
      "2017-10-15 16:39:43.814236 combinations 5 : 250 / 252\n",
      "2017-10-15 16:39:45.005828 combinations 2 : 0 / 45\n",
      "2017-10-15 16:39:48.241395 combinations 3 : 0 / 120\n",
      "2017-10-15 16:39:52.379790 combinations 3 : 50 / 120\n",
      "2017-10-15 16:39:57.073032 combinations 3 : 100 / 120\n",
      "2017-10-15 16:39:59.098200 combinations 4 : 0 / 210\n",
      "2017-10-15 16:40:04.595336 combinations 4 : 50 / 210\n",
      "2017-10-15 16:40:10.663923 combinations 4 : 100 / 210\n",
      "2017-10-15 16:40:17.256919 combinations 4 : 150 / 210\n",
      "2017-10-15 16:40:24.480942 combinations 4 : 200 / 210\n",
      "\t Predicted -1 but was 1 : 0.4613196043896491\n",
      "2 0 Train Accuracy: 0.845730100158\n",
      "2 0 Test Accuracy: 0.837638376384\n",
      "2017-10-15 16:40:42.037954 combinations 2 : 0 / 45\n",
      "2017-10-15 16:40:49.154206 combinations 3 : 0 / 120\n",
      "2017-10-15 16:40:58.202135 combinations 3 : 50 / 120\n",
      "2017-10-15 16:41:08.811407 combinations 3 : 100 / 120\n",
      "2017-10-15 16:41:14.194631 combinations 4 : 0 / 210\n",
      "2017-10-15 16:41:27.132201 combinations 4 : 50 / 210\n",
      "2017-10-15 16:41:41.563036 combinations 4 : 100 / 210\n",
      "2017-10-15 16:41:56.596959 combinations 4 : 150 / 210\n",
      "2017-10-15 16:42:13.133630 combinations 4 : 200 / 210\n",
      "2017-10-15 16:42:16.471486 combinations 2 : 0 / 45\n",
      "2017-10-15 16:42:16.606986 combinations 3 : 0 / 120\n",
      "2017-10-15 16:42:16.797524 combinations 3 : 50 / 120\n",
      "2017-10-15 16:42:17.008023 combinations 3 : 100 / 120\n",
      "2017-10-15 16:42:17.107071 combinations 4 : 0 / 210\n",
      "2017-10-15 16:42:17.374065 combinations 4 : 50 / 210\n",
      "2017-10-15 16:42:17.677936 combinations 4 : 100 / 210\n",
      "2017-10-15 16:42:18.038464 combinations 4 : 150 / 210\n",
      "2017-10-15 16:42:18.410964 combinations 4 : 200 / 210\n",
      "2017-10-15 16:42:18.492012 combinations 5 : 0 / 252\n",
      "2017-10-15 16:42:18.909553 combinations 5 : 50 / 252\n",
      "2017-10-15 16:42:19.355548 combinations 5 : 100 / 252\n",
      "2017-10-15 16:42:19.838108 combinations 5 : 150 / 252\n",
      "2017-10-15 16:42:20.369572 combinations 5 : 200 / 252\n",
      "2017-10-15 16:42:20.936605 combinations 5 : 250 / 252\n",
      "\t Predicted -1 but was 1 : 0.8285714285714286\n",
      "2 1 Train Accuracy: 0.940254237288\n",
      "2 1 Test Accuracy: 0.910169491525\n",
      "2017-10-15 16:42:22.433074 combinations 2 : 0 / 45\n",
      "2017-10-15 16:42:22.753107 combinations 3 : 0 / 120\n",
      "2017-10-15 16:42:23.172608 combinations 3 : 50 / 120\n",
      "2017-10-15 16:42:23.678754 combinations 3 : 100 / 120\n",
      "2017-10-15 16:42:23.910219 combinations 4 : 0 / 210\n",
      "2017-10-15 16:42:24.535824 combinations 4 : 50 / 210\n",
      "2017-10-15 16:42:25.225525 combinations 4 : 100 / 210\n",
      "2017-10-15 16:42:26.011489 combinations 4 : 150 / 210\n",
      "2017-10-15 16:42:26.876956 combinations 4 : 200 / 210\n",
      "2017-10-15 16:42:27.061490 combinations 5 : 0 / 252\n",
      "2017-10-15 16:42:28.041992 combinations 5 : 50 / 252\n",
      "2017-10-15 16:42:29.072682 combinations 5 : 100 / 252\n",
      "2017-10-15 16:42:30.182325 combinations 5 : 150 / 252\n",
      "2017-10-15 16:42:31.364788 combinations 5 : 200 / 252\n",
      "2017-10-15 16:42:32.627328 combinations 5 : 250 / 252\n",
      "2017-10-15 16:42:33.645070 combinations 2 : 0 / 28\n",
      "2017-10-15 16:42:35.069643 combinations 3 : 0 / 56\n",
      "2017-10-15 16:42:37.711825 combinations 3 : 50 / 56\n",
      "2017-10-15 16:42:38.048363 combinations 4 : 0 / 70\n",
      "2017-10-15 16:42:41.092694 combinations 4 : 50 / 70\n",
      "2017-10-15 16:42:42.445800 combinations 5 : 0 / 56\n",
      "2017-10-15 16:42:45.767517 combinations 5 : 50 / 56\n",
      "2017-10-15 16:42:46.188177 combinations 6 : 0 / 28\n",
      "\t Predicted -1 but was 1 : 0.5922480620155038\n",
      "3 0 Train Accuracy: 0.843546047861\n",
      "3 0 Test Accuracy: 0.846265409717\n",
      "2017-10-15 16:42:56.382837 combinations 2 : 0 / 28\n",
      "2017-10-15 16:42:59.597105 combinations 3 : 0 / 56\n",
      "2017-10-15 16:43:05.752122 combinations 3 : 50 / 56\n",
      "2017-10-15 16:43:06.523706 combinations 4 : 0 / 70\n",
      "2017-10-15 16:43:13.422569 combinations 4 : 50 / 70\n",
      "2017-10-15 16:43:16.400189 combinations 5 : 0 / 56\n",
      "2017-10-15 16:43:24.428601 combinations 5 : 50 / 56\n",
      "2017-10-15 16:43:25.699133 combinations 6 : 0 / 28\n",
      "2017-10-15 16:43:31.660332 combinations 2 : 0 / 45\n",
      "2017-10-15 16:43:31.894911 combinations 3 : 0 / 120\n",
      "2017-10-15 16:43:32.122911 combinations 3 : 50 / 120\n",
      "2017-10-15 16:43:32.381923 combinations 3 : 100 / 120\n",
      "2017-10-15 16:43:32.490955 combinations 4 : 0 / 210\n",
      "2017-10-15 16:43:32.760955 combinations 4 : 50 / 210\n",
      "2017-10-15 16:43:33.045458 combinations 4 : 100 / 210\n",
      "2017-10-15 16:43:33.663930 combinations 4 : 150 / 210\n",
      "2017-10-15 16:43:34.373965 combinations 4 : 200 / 210\n",
      "\t Predicted -1 but was 1 : 0.9857142857142858\n",
      "3 1 Train Accuracy: 0.960169491525\n",
      "3 1 Test Accuracy: 0.91186440678\n"
     ]
    },
    {
     "name": "stdout",
     "output_type": "stream",
     "text": [
      "2017-10-15 16:43:36.210443 combinations 2 : 0 / 45\n",
      "2017-10-15 16:43:36.919947 combinations 3 : 0 / 120\n",
      "2017-10-15 16:43:37.618444 combinations 3 : 50 / 120\n",
      "2017-10-15 16:43:38.519945 combinations 3 : 100 / 120\n",
      "2017-10-15 16:43:38.917946 combinations 4 : 0 / 210\n",
      "2017-10-15 16:43:39.950451 combinations 4 : 50 / 210\n",
      "2017-10-15 16:43:41.108447 combinations 4 : 100 / 210\n",
      "2017-10-15 16:43:42.479992 combinations 4 : 150 / 210\n",
      "2017-10-15 16:43:43.709116 combinations 4 : 200 / 210\n",
      "Count: 250000\n",
      "Train Accuracy: 0.841147018329\n",
      "Test Accuracy: 0.836837259657\n"
     ]
    }
   ],
   "source": [
    "count = 0\n",
    "\n",
    "accuracy_train = 0\n",
    "accuracy_test = 0\n",
    "\n",
    "submission_ids = []\n",
    "submission_y = []\n",
    "\n",
    "result_y = []\n",
    "result_ids = []\n",
    "\n",
    "for numjet in range(0, 4):\n",
    "    for index in range(0, 2):\n",
    "        x_, y_, ids_ = get_data_numjet(jet_num_x_dict, jet_num_y_dict, jet_num_ids_dict, numjet, index)\n",
    "        \n",
    "        w, predict_threshold, accuracy_train_k, accuracy_test_k = build_best_model(x_, y_, numjet, index)\n",
    "        \n",
    "        number_of_el = len(y_)\n",
    "\n",
    "        accuracy_train += accuracy_train_k * number_of_el\n",
    "        accuracy_test += accuracy_test_k * number_of_el\n",
    "        \n",
    "        print(numjet, index, \"Train Accuracy: \" + str(accuracy_train_k))\n",
    "        print(numjet, index, \"Test Accuracy: \" + str(accuracy_test_k))\n",
    "        \n",
    "        \n",
    "        count += number_of_el\n",
    "  \n",
    "        # Predict local\n",
    "#         removed_col_key = list(jet_num_x_dict[numjet])[index]\n",
    "#         sub_x2 = jet_num_x_dict[numjet][removed_col_key]\n",
    "#         sub_ids2 = jet_num_ids_dict[numjet][removed_col_key]\n",
    "\n",
    "#         sub_x2 = build_features(sub_x2, numjet, index)\n",
    "#         pred_y2 = predict_labels(w, sub_x2, predict_threshold)\n",
    "        \n",
    "#         for sub_index, sub_id in enumerate(sub_ids2):\n",
    "#             result_ids.append(sub_id)\n",
    "#             result_y.append(pred_y2[sub_index])\n",
    "        \n",
    "        \n",
    "        # Predict submission\n",
    "        removed_col_key = list(jet_num_x_dict[numjet])[index]\n",
    "        sub_x = sub_jet_num_x_dict[numjet][removed_col_key]\n",
    "        sub_ids = sub_jet_num_ids_dict[numjet][removed_col_key]\n",
    "        \n",
    "        sub_x = build_features(sub_x, numjet, index)\n",
    "        pred_y = predict_labels(w, sub_x, predict_threshold)\n",
    "        for sub_index, sub_id in enumerate(sub_ids):\n",
    "            submission_ids.append(sub_id)\n",
    "            submission_y.append(pred_y[sub_index])\n",
    "        \n",
    "print(\"Count:\", count)\n",
    "print(\"Train Accuracy: \" + str(accuracy_train / count))\n",
    "print(\"Test Accuracy: \" + str(accuracy_test / count))"
   ]
  },
  {
   "cell_type": "code",
   "execution_count": null,
   "metadata": {},
   "outputs": [],
   "source": [
    "k = 5\n",
    "\n",
    "x_, y_, ids_ = get_data_numjet(jet_num_x_dict, jet_num_y_dict, jet_num_ids_dict, 0, 0)\n",
    "\n",
    "def build_polynomial2(x, max_degree):\n",
    "    polynomial_x = x\n",
    "    polynomial_x = np.concatenate((polynomial_x, np.tanh(x)), axis=1)\n",
    "    polynomial_x = np.concatenate((polynomial_x, np.log(np.abs(x))), axis=1)\n",
    "    polynomial_x = np.concatenate((polynomial_x, np.sqrt(np.abs(x))), axis=1)\n",
    "    for degree in range(2, max_degree + 1):\n",
    "        polynomial_x = np.concatenate((polynomial_x, np.power(x, degree)), axis=1)\n",
    "        polynomial_x = np.concatenate((polynomial_x, np.power(np.tanh(x), degree)), axis=1)\n",
    "        polynomial_x = np.concatenate((polynomial_x, np.power(np.log(np.abs(x)), degree)), axis=1)\n",
    "\n",
    "    return polynomial_x\n",
    "\n",
    "polynomial_x = normalize(x_)\n",
    "polynomial_x = build_polynomial2(polynomial_x, 5)\n",
    "polynomial_x = build_combinations_lvl(polynomial_x, 2, 8)\n",
    "polynomial_x = build_combinations_lvl(polynomial_x, 3, 8)\n",
    "polynomial_x = build_combinations_lvl(polynomial_x, 4, 8)\n",
    "polynomial_x = build_combinations_lvl(polynomial_x, 5, 8)\n",
    "polynomial_x = build_combinations_lvl(polynomial_x, 6, 8)\n",
    "polynomial_x = build_combinations_lvl(polynomial_x, 7, 8)\n",
    "\n",
    "predict_threshold = -0.00\n",
    "\n",
    "# 3.85662042116e-05 0.845540246555"
   ]
  },
  {
   "cell_type": "code",
   "execution_count": null,
   "metadata": {},
   "outputs": [],
   "source": [
    "k = 5\n",
    "\n",
    "x_, y_, ids_ = get_data_numjet(jet_num_x_dict, jet_num_y_dict, jet_num_ids_dict, 0, 0)\n",
    "\n",
    "def build_polynomial2(x, max_degree):\n",
    "    polynomial_x = x\n",
    "    polynomial_x = np.concatenate((polynomial_x, np.tanh(x)), axis=1)\n",
    "    polynomial_x = np.concatenate((polynomial_x, np.log(np.abs(x))), axis=1)\n",
    "    polynomial_x = np.concatenate((polynomial_x, np.sqrt(np.abs(x))), axis=1)\n",
    "    for degree in range(2, max_degree + 1):\n",
    "        polynomial_x = np.concatenate((polynomial_x, np.power(x, degree)), axis=1)\n",
    "        polynomial_x = np.concatenate((polynomial_x, np.power(np.tanh(x), degree)), axis=1)\n",
    "        polynomial_x = np.concatenate((polynomial_x, np.power(np.log(np.abs(x)), degree)), axis=1)\n",
    "\n",
    "    return polynomial_x\n",
    "\n",
    "polynomial_x = normalize(x_)\n",
    "polynomial_x = build_polynomial2(polynomial_x, 3)\n",
    "polynomial_x = build_combinations_lvl(polynomial_x, 2, 8)\n",
    "polynomial_x = build_combinations_lvl(polynomial_x, 3, 8)\n",
    "polynomial_x = build_combinations_lvl(polynomial_x, 4, 8)\n",
    "polynomial_x = build_combinations_lvl(polynomial_x, 5, 8)\n",
    "polynomial_x = build_combinations_lvl(polynomial_x, 6, 8)\n",
    "polynomial_x = build_combinations_lvl(polynomial_x, 7, 8)\n",
    "\n",
    "predict_threshold = -0.00\n",
    "\n",
    "# 4.52035365636e-07 0.813863667164"
   ]
  },
  {
   "cell_type": "code",
   "execution_count": null,
   "metadata": {},
   "outputs": [],
   "source": [
    "# Here to test the accuracy of one specific classifier\n",
    "# Find best lambdas\n",
    "lambdas = np.logspace(-8, 0, 30)\n",
    "best_accuracy = 0\n",
    "best_lambda = 0\n",
    "for lambda_ in lambdas:\n",
    "    \n",
    "    accuracy_train_k, accuracy_test_k = k_fold_cross_validation(y_, polynomial_x, k, lambda_, predict_threshold)\n",
    "\n",
    "    if accuracy_test_k > best_accuracy:\n",
    "        best_accuracy = accuracy_test_k\n",
    "        best_lambda = lambda_\n",
    "    print(\"Lambdas:\", lambda_, \"Train:\", accuracy_train_k, \" Test:\", accuracy_test_k)\n",
    "\n",
    "w, loss = ridge_regression(y_, polynomial_x, best_lambda)\n",
    "\n",
    "print(\"\\t Predicted -1 but was 1 :\", get_false(polynomial_x, y_, w, predict_threshold))\n",
    "\n",
    "print(\"BEST:\", best_lambda, best_accuracy)\n",
    "lambda_ = best_lambda\n"
   ]
  },
  {
   "cell_type": "code",
   "execution_count": null,
   "metadata": {
    "collapsed": true
   },
   "outputs": [],
   "source": []
  },
  {
   "cell_type": "code",
   "execution_count": null,
   "metadata": {
    "collapsed": true
   },
   "outputs": [],
   "source": [
    "# Find best threshold\n",
    "threshs = np.linspace(0, -0.4, num=100)\n",
    "best_accuracy = 0\n",
    "best_thresh = 0\n",
    "for thresh in threshs:\n",
    "    predict_threshold = thresh\n",
    "    \n",
    "    accuracy_train_k, accuracy_test_k = k_fold_cross_validation(y_, polynomial_x, k, lambda_, predict_threshold)\n",
    "\n",
    "    if accuracy_test_k > best_accuracy:\n",
    "        best_accuracy = accuracy_test_k\n",
    "        best_thresh = thresh\n",
    "    print(\"Thresh:\", thresh, \"Train:\", accuracy_train_k, \" Test:\", accuracy_test_k)\n",
    "\n",
    "w, loss = ridge_regression(y_, polynomial_x, best_lambda)\n",
    "\n",
    "print(\"\\t Predicted -1 but was 1 :\", get_false(polynomial_x, y_, w, predict_threshold))\n",
    "\n",
    "print(\"BEST:\", best_thresh, best_accuracy)"
   ]
  },
  {
   "cell_type": "code",
   "execution_count": null,
   "metadata": {
    "collapsed": true
   },
   "outputs": [],
   "source": []
  },
  {
   "cell_type": "code",
   "execution_count": null,
   "metadata": {
    "collapsed": true
   },
   "outputs": [],
   "source": []
  }
 ],
 "metadata": {
  "kernelspec": {
   "display_name": "Python [conda root]",
   "language": "python",
   "name": "conda-root-py"
  },
  "language_info": {
   "codemirror_mode": {
    "name": "ipython",
    "version": 3
   },
   "file_extension": ".py",
   "mimetype": "text/x-python",
   "name": "python",
   "nbconvert_exporter": "python",
   "pygments_lexer": "ipython3",
   "version": "3.6.1"
  }
 },
 "nbformat": 4,
 "nbformat_minor": 2
}
