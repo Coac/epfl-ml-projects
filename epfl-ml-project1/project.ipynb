{
 "cells": [
  {
   "cell_type": "code",
   "execution_count": 478,
   "metadata": {},
   "outputs": [
    {
     "name": "stdout",
     "output_type": "stream",
     "text": [
      "The autoreload extension is already loaded. To reload it, use:\n",
      "  %reload_ext autoreload\n"
     ]
    }
   ],
   "source": [
    "%matplotlib inline\n",
    "import matplotlib.pyplot as plt\n",
    "import numpy as np\n",
    "import random\n",
    "from datetime import datetime\n",
    "from helpers import *\n",
    "from features_engineering import *\n",
    "from cross_validation import *\n",
    "from pre_processing import *\n",
    "from group_by import *\n",
    "from implementation import *\n",
    "from knn import *\n",
    "\n",
    "%load_ext autoreload\n",
    "%autoreload 2"
   ]
  },
  {
   "cell_type": "markdown",
   "metadata": {},
   "source": [
    "# Loading the dataset"
   ]
  },
  {
   "cell_type": "code",
   "execution_count": 479,
   "metadata": {
    "collapsed": true
   },
   "outputs": [],
   "source": [
    "y, x, ids = load_csv_data(data_path=\"datas/train.csv\", sub_sample=False)"
   ]
  },
  {
   "cell_type": "code",
   "execution_count": 480,
   "metadata": {
    "collapsed": true
   },
   "outputs": [],
   "source": [
    "submission_y, submission_x, submission_ids = load_csv_data(data_path=\"datas/test.csv\", sub_sample=False)"
   ]
  },
  {
   "cell_type": "markdown",
   "metadata": {},
   "source": [
    "# Create sub dataset \n",
    "- Group by numjet column (categorical data : (0, 1, 2, 3))\n",
    "- Group by the NaN columns\n",
    "\n",
    "We obtain at the end 8 datasets, one for each numjet and for each of these, 2 according to the NaN columns removed."
   ]
  },
  {
   "cell_type": "code",
   "execution_count": 481,
   "metadata": {},
   "outputs": [
    {
     "name": "stdout",
     "output_type": "stream",
     "text": [
      "0 (227458, 30) (227458,) (227458,)\n",
      "1 (175338, 30) (175338,) (175338,)\n",
      "2 (114648, 30) (114648,) (114648,)\n",
      "3 (50794, 30) (50794,) (50794,)\n",
      "num_jet: 0\n",
      "(0, 4, 5, 6, 12, 23, 24, 25, 26, 27, 28) (59263, 19) (59263, 1) (59263, 1)\n",
      "(4, 5, 6, 12, 23, 24, 25, 26, 27, 28) (168195, 20) (168195, 1) (168195, 1)\n",
      "\tRemove col : \n",
      "\t (0, 4, 5, 6, 12, 23, 24, 25, 26, 27, 28) 17 [ 0.  0.  0. ...,  0.  0.  0.]\n",
      "\t (0, 4, 5, 6, 12, 23, 24, 25, 26, 27, 28) 18 [ 0.  0.  0. ...,  0.  0.  0.]\n",
      "\t (4, 5, 6, 12, 23, 24, 25, 26, 27, 28) 18 [ 0.  0.  0. ...,  0.  0.  0.]\n",
      "\t (4, 5, 6, 12, 23, 24, 25, 26, 27, 28) 19 [ 0.  0.  0. ...,  0.  0.  0.]\n",
      "num_jet: 1\n",
      "(4, 5, 6, 12, 26, 27, 28) (158095, 23) (158095, 1) (158095, 1)\n",
      "(0, 4, 5, 6, 12, 26, 27, 28) (17243, 22) (17243, 1) (17243, 1)\n",
      "\tRemove col : \n",
      "\t (4, 5, 6, 12, 26, 27, 28) 18 [ 1.  1.  1. ...,  1.  1.  1.]\n",
      "\t (0, 4, 5, 6, 12, 26, 27, 28) 17 [ 1.  1.  1. ...,  1.  1.  1.]\n",
      "num_jet: 2\n",
      "() (107905, 30) (107905, 1) (107905, 1)\n",
      "(0,) (6743, 29) (6743, 1) (6743, 1)\n",
      "\tRemove col : \n",
      "\t () 22 [ 2.  2.  2. ...,  2.  2.  2.]\n",
      "\t (0,) 21 [ 2.  2.  2. ...,  2.  2.  2.]\n",
      "num_jet: 3\n",
      "() (47555, 30) (47555, 1) (47555, 1)\n",
      "(0,) (3239, 29) (3239, 1) (3239, 1)\n",
      "\tRemove col : \n",
      "\t () 22 [ 3.  3.  3. ...,  3.  3.  3.]\n",
      "\t (0,) 21 [ 3.  3.  3. ...,  3.  3.  3.]\n"
     ]
    }
   ],
   "source": [
    "sub_jet_num_x_dict, sub_jet_num_y_dict, sub_jet_num_ids_dict = group_by_jetnum_NaN(submission_x, submission_y, submission_ids)"
   ]
  },
  {
   "cell_type": "code",
   "execution_count": 482,
   "metadata": {},
   "outputs": [
    {
     "name": "stdout",
     "output_type": "stream",
     "text": [
      "0 (99913, 30) (99913,) (99913,)\n",
      "1 (77544, 30) (77544,) (77544,)\n",
      "2 (50379, 30) (50379,) (50379,)\n",
      "3 (22164, 30) (22164,) (22164,)\n",
      "num_jet: 0\n",
      "(4, 5, 6, 12, 23, 24, 25, 26, 27, 28) (73790, 20) (73790, 1) (73790, 1)\n",
      "(0, 4, 5, 6, 12, 23, 24, 25, 26, 27, 28) (26123, 19) (26123, 1) (26123, 1)\n",
      "\tRemove col : \n",
      "\t (4, 5, 6, 12, 23, 24, 25, 26, 27, 28) 18 [ 0.  0.  0. ...,  0.  0.  0.]\n",
      "\t (4, 5, 6, 12, 23, 24, 25, 26, 27, 28) 19 [ 0.  0.  0. ...,  0.  0.  0.]\n",
      "\t (0, 4, 5, 6, 12, 23, 24, 25, 26, 27, 28) 17 [ 0.  0.  0. ...,  0.  0.  0.]\n",
      "\t (0, 4, 5, 6, 12, 23, 24, 25, 26, 27, 28) 18 [ 0.  0.  0. ...,  0.  0.  0.]\n",
      "num_jet: 1\n",
      "(4, 5, 6, 12, 26, 27, 28) (69982, 23) (69982, 1) (69982, 1)\n",
      "(0, 4, 5, 6, 12, 26, 27, 28) (7562, 22) (7562, 1) (7562, 1)\n",
      "\tRemove col : \n",
      "\t (4, 5, 6, 12, 26, 27, 28) 18 [ 1.  1.  1. ...,  1.  1.  1.]\n",
      "\t (0, 4, 5, 6, 12, 26, 27, 28) 17 [ 1.  1.  1. ...,  1.  1.  1.]\n",
      "num_jet: 2\n",
      "() (47427, 30) (47427, 1) (47427, 1)\n",
      "(0,) (2952, 29) (2952, 1) (2952, 1)\n",
      "\tRemove col : \n",
      "\t () 22 [ 2.  2.  2. ...,  2.  2.  2.]\n",
      "\t (0,) 21 [ 2.  2.  2. ...,  2.  2.  2.]\n",
      "num_jet: 3\n",
      "() (20687, 30) (20687, 1) (20687, 1)\n",
      "(0,) (1477, 29) (1477, 1) (1477, 1)\n",
      "\tRemove col : \n",
      "\t () 22 [ 3.  3.  3. ...,  3.  3.  3.]\n",
      "\t (0,) 21 [ 3.  3.  3. ...,  3.  3.  3.]\n"
     ]
    }
   ],
   "source": [
    "jet_num_x_dict, jet_num_y_dict, jet_num_ids_dict = group_by_jetnum_NaN(x, y, ids)"
   ]
  },
  {
   "cell_type": "markdown",
   "metadata": {
    "collapsed": true
   },
   "source": [
    "# Build the best model for each of the sub dataset"
   ]
  },
  {
   "cell_type": "code",
   "execution_count": 483,
   "metadata": {
    "collapsed": true
   },
   "outputs": [],
   "source": [
    "def get_false(x, y, w, predict_threshold):\n",
    "    \"\"\"Get the ratio of negative predictions over wrong predictions\"\"\"\n",
    "    \n",
    "    # Get the predicted values\n",
    "    pred_y = predict_labels(w, x, predict_threshold)\n",
    "    # Initialize at 0\n",
    "    false_count = 0\n",
    "    count_negatif = 0\n",
    "    \n",
    "    # If prediction is wrong, add 1, if prediction is wrong and negative, add 1\n",
    "    for index, yi in enumerate(y):\n",
    "        pred_yi = pred_y[index]\n",
    "        if pred_yi != yi:\n",
    "            false_count += 1\n",
    "            if pred_yi == -1:\n",
    "                count_negatif += 1\n",
    "                \n",
    "    # Calculate which percentage of wrong predictions are due to negative value\n",
    "    return count_negatif / false_count\n",
    "\n",
    "\n",
    "\n",
    "def get_data_numjet(jet_num_x_dict, jet_num_y_dict, jet_num_ids_dict, numjet, index):\n",
    "    # Get the column number of the features that wil be removed\n",
    "    removed_col_key = list(jet_num_x_dict[numjet])[index]\n",
    "    # Get the samples of the category numjet of PRI_num_jet and removed data\n",
    "    x = jet_num_x_dict[numjet][removed_col_key]\n",
    "    y = jet_num_y_dict[numjet][removed_col_key]\n",
    "    ids = jet_num_ids_dict[numjet][removed_col_key]\n",
    "    return x, y, ids\n",
    "\n",
    "def build_features(x, numjet, index):\n",
    "    \"\"\"\n",
    "    Calculate different features depending on the data (category of PRI_num_jet and nan or not)\n",
    "    Which features are used has been done with trial and error to improve the loss\n",
    "    1. Normalize data\n",
    "    2. Build combinations\n",
    "    \"\"\"\n",
    "    if numjet == 0 and index == 0:\n",
    "        polynomial_x = normalize(x)\n",
    "        polynomial_x = build_polynomial(polynomial_x, 3)\n",
    "        polynomial_x = build_combinations_lvl(polynomial_x, 2, 8)\n",
    "        polynomial_x = build_combinations_lvl(polynomial_x, 3, 8)\n",
    "        polynomial_x = build_combinations_lvl(polynomial_x, 4, 8)\n",
    "        polynomial_x = build_combinations_lvl(polynomial_x, 5, 8)\n",
    "        polynomial_x = build_combinations_lvl(polynomial_x, 6, 8)\n",
    "        polynomial_x = build_combinations_lvl(polynomial_x, 7, 8)\n",
    "    elif numjet == 0 and index == 1:\n",
    "        x_numjet0_index1 = normalize(x)\n",
    "        polynomial_x = x_numjet0_index1\n",
    "        polynomial_x = np.concatenate((polynomial_x, np.tanh(x_numjet0_index1)), axis=1)\n",
    "        polynomial_x = np.concatenate((polynomial_x, np.sqrt(np.abs(x_numjet0_index1))), axis=1)\n",
    "        polynomial_x = np.concatenate((polynomial_x, np.power(x_numjet0_index1, 2)), axis=1)\n",
    "        polynomial_x = np.concatenate((polynomial_x, np.power(np.tanh(x_numjet0_index1), 2)), axis=1)\n",
    "        polynomial_x = np.concatenate((polynomial_x, np.power(np.log(np.abs(x_numjet0_index1)), 2)), axis=1)\n",
    "    elif numjet == 1 and index == 1:\n",
    "        polynomial_x = normalize(x)\n",
    "        polynomial_x = build_polynomial(polynomial_x, 3)\n",
    "        polynomial_x = build_combinations_lvl(polynomial_x, 2, 10)\n",
    "        polynomial_x = build_combinations_lvl(polynomial_x, 3, 10)\n",
    "        polynomial_x = build_combinations_lvl(polynomial_x, 4, 10)\n",
    "        polynomial_x = build_combinations_lvl(polynomial_x, 5, 10)\n",
    "    elif numjet == 2 and index == 0:\n",
    "        polynomial_x = normalize(x)\n",
    "        polynomial_x = build_polynomial(polynomial_x, 3)\n",
    "        polynomial_x = build_combinations_lvl(polynomial_x, 2, 10)\n",
    "        polynomial_x = build_combinations_lvl(polynomial_x, 3, 10)\n",
    "        polynomial_x = build_combinations_lvl(polynomial_x, 4, 10)\n",
    "    elif numjet == 2 and index == 1:\n",
    "        polynomial_x = normalize(x)\n",
    "        polynomial_x = build_polynomial(polynomial_x, 2)\n",
    "        polynomial_x = build_combinations_lvl(polynomial_x, 2, 10)\n",
    "        polynomial_x = build_combinations_lvl(polynomial_x, 3, 10)\n",
    "        polynomial_x = build_combinations_lvl(polynomial_x, 4, 10)\n",
    "        polynomial_x = build_combinations_lvl(polynomial_x, 5, 10)\n",
    "    elif numjet == 3 and index == 0:\n",
    "        polynomial_x = normalize(x)\n",
    "        polynomial_x = build_polynomial(polynomial_x, 5)\n",
    "        polynomial_x = build_combinations_lvl(polynomial_x, 2, 8)\n",
    "        polynomial_x = build_combinations_lvl(polynomial_x, 3, 8)\n",
    "        polynomial_x = build_combinations_lvl(polynomial_x, 4, 8)\n",
    "        polynomial_x = build_combinations_lvl(polynomial_x, 5, 8)\n",
    "        polynomial_x = build_combinations_lvl(polynomial_x, 6, 8)\n",
    "    elif numjet == 3 and index == 1:\n",
    "        polynomial_x = normalize(x)\n",
    "        polynomial_x = build_polynomial(polynomial_x, 6)\n",
    "        polynomial_x = build_combinations_lvl(polynomial_x, 2, 10)\n",
    "        polynomial_x = build_combinations_lvl(polynomial_x, 3, 10)\n",
    "        polynomial_x = build_combinations_lvl(polynomial_x, 4, 10)\n",
    "    else:\n",
    "        polynomial_x = normalize(x)\n",
    "        polynomial_x = build_polynomial(polynomial_x, 3)\n",
    "        polynomial_x = build_combinations_lvl(polynomial_x, 2, 10)\n",
    "        polynomial_x = build_combinations_lvl(polynomial_x, 3, 10)\n",
    "        polynomial_x = build_combinations_lvl(polynomial_x, 4, 10)\n",
    "\n",
    "    return polynomial_x\n",
    "\n",
    "def build_best_model(x_, y_, numjet, index):\n",
    "    \"\"\"\n",
    "    Build the best model with the best parameters\n",
    "    \"\"\"\n",
    "    \n",
    "    # Initialize k_fold and prediction threshold and build features\n",
    "    k = 5\n",
    "    predict_threshold = 0\n",
    "    polynomial_x = build_features(x_, numjet, index)\n",
    "\n",
    "    # Use the best lambda for best result\n",
    "    if numjet == 0 and index == 0:\n",
    "        lambda_ = 4.52035365636e-07\n",
    "    elif numjet == 0 and index == 1:\n",
    "        lambda_ = 1e-08\n",
    "    elif numjet == 1 and index == 1:\n",
    "        lambda_ = 0.137382379588\n",
    "    elif numjet == 2 and index == 0:\n",
    "        lambda_ = 2.39502661999e-07\n",
    "    elif numjet == 2 and index == 1:\n",
    "        lambda_ = 0.0417531893656\n",
    "        predict_threshold = -0.0323232323232\n",
    "    elif numjet == 3 and index == 0:\n",
    "        lambda_ = 7.27895384398e-05\n",
    "    elif numjet == 3 and index == 1:\n",
    "        lambda_ = 0.529831690628\n",
    "    else:\n",
    "        lambda_ = 0.000001\n",
    "\n",
    "\n",
    "    #Gest the accuracy of test and train using k_fold_corss_validation\n",
    "    accuracy_train_k, accuracy_test_k = k_fold_cross_validation(y_, polynomial_x, k, lambda_, predict_threshold)\n",
    "    # Find optimal weights and loss with ridge regression\n",
    "    w, loss = ridge_regression(y_, polynomial_x, lambda_)\n",
    "\n",
    "    \n",
    "    print(\"\\t Predicted -1 but was 1 :\", get_false(polynomial_x, y_, w, predict_threshold))\n",
    "\n",
    "    \n",
    "    return w, predict_threshold, accuracy_train_k, accuracy_test_k\n",
    "\n",
    "    "
   ]
  },
  {
   "cell_type": "code",
   "execution_count": 36,
   "metadata": {},
   "outputs": [
    {
     "name": "stdout",
     "output_type": "stream",
     "text": [
      "2017-10-26 07:55:26.607268 combinations 2 : 0 / 28\n",
      "2017-10-26 07:55:28.961267 combinations 3 : 0 / 56\n",
      "2017-10-26 07:55:33.815268 combinations 3 : 50 / 56\n",
      "2017-10-26 07:55:34.533263 combinations 4 : 0 / 70\n",
      "2017-10-26 07:55:40.687307 combinations 4 : 50 / 70\n",
      "2017-10-26 07:55:43.410314 combinations 5 : 0 / 56\n",
      "2017-10-26 07:55:51.989276 combinations 5 : 50 / 56\n",
      "2017-10-26 07:55:53.190269 combinations 6 : 0 / 28\n",
      "2017-10-26 07:55:58.490264 combinations 7 : 0 / 8\n",
      "\t Predicted -1 but was 1 : 0.634313005143277\n",
      "0 0 Train Accuracy: 0.815689795365\n",
      "0 0 Test Accuracy: 0.814351538149\n",
      "2017-10-26 07:56:19.637266 combinations 2 : 0 / 28\n",
      "2017-10-26 07:56:22.038264 combinations 3 : 0 / 56\n",
      "2017-10-26 07:56:26.855265 combinations 3 : 50 / 56\n",
      "2017-10-26 07:56:27.559264 combinations 4 : 0 / 70\n",
      "2017-10-26 07:56:33.137265 combinations 4 : 50 / 70\n",
      "2017-10-26 07:56:35.762263 combinations 5 : 0 / 56\n",
      "2017-10-26 07:56:42.943262 combinations 5 : 50 / 56\n",
      "2017-10-26 07:56:43.907268 combinations 6 : 0 / 28\n",
      "2017-10-26 07:56:48.592263 combinations 7 : 0 / 8\n",
      "2017-10-26 07:56:52.621292 combinations 2 : 0 / 28\n",
      "2017-10-26 07:56:57.723300 combinations 3 : 0 / 56\n",
      "2017-10-26 07:57:09.256265 combinations 3 : 50 / 56\n",
      "2017-10-26 07:57:10.687266 combinations 4 : 0 / 70\n",
      "2017-10-26 07:57:24.082264 combinations 4 : 50 / 70\n",
      "2017-10-26 07:57:30.125264 combinations 5 : 0 / 56\n",
      "2017-10-26 07:57:49.561266 combinations 5 : 50 / 56\n",
      "2017-10-26 07:57:51.910269 combinations 6 : 0 / 28\n",
      "2017-10-26 07:58:03.522268 combinations 7 : 0 / 8\n",
      "\t Predicted -1 but was 1 : 0.9561200923787528\n",
      "0 1 Train Accuracy: 0.95047856049\n",
      "0 1 Test Accuracy: 0.949961715161\n",
      "2017-10-26 07:58:11.228303 combinations 2 : 0 / 45\n",
      "2017-10-26 07:58:16.175798 combinations 3 : 0 / 120\n",
      "2017-10-26 07:58:21.841386 combinations 3 : 50 / 120\n",
      "2017-10-26 07:58:27.965066 combinations 3 : 100 / 120\n",
      "2017-10-26 07:58:30.710033 combinations 4 : 0 / 210\n",
      "2017-10-26 07:58:39.058037 combinations 4 : 50 / 210\n",
      "2017-10-26 07:58:47.982033 combinations 4 : 100 / 210\n",
      "2017-10-26 07:58:56.971031 combinations 4 : 150 / 210\n",
      "2017-10-26 07:59:06.821034 combinations 4 : 200 / 210\n",
      "\t Predicted -1 but was 1 : 0.5616155660377359\n",
      "1 0 Train Accuracy: 0.806441126036\n",
      "1 0 Test Accuracy: 0.802829379823\n",
      "2017-10-26 07:59:29.106057 combinations 2 : 0 / 45\n",
      "2017-10-26 07:59:32.956031 combinations 3 : 0 / 120\n",
      "2017-10-26 07:59:38.236033 combinations 3 : 50 / 120\n",
      "2017-10-26 07:59:44.404068 combinations 3 : 100 / 120\n",
      "2017-10-26 07:59:47.047032 combinations 4 : 0 / 210\n",
      "2017-10-26 07:59:54.288030 combinations 4 : 50 / 210\n",
      "2017-10-26 08:00:03.241109 combinations 4 : 100 / 210\n",
      "2017-10-26 08:00:13.374110 combinations 4 : 150 / 210\n",
      "2017-10-26 08:00:23.333112 combinations 4 : 200 / 210\n",
      "2017-10-26 08:00:29.103120 combinations 2 : 0 / 45\n",
      "2017-10-26 08:00:39.103148 combinations 3 : 0 / 120\n",
      "2017-10-26 08:00:53.719110 combinations 3 : 50 / 120\n",
      "2017-10-26 08:01:08.531116 combinations 3 : 100 / 120\n",
      "2017-10-26 08:01:14.898113 combinations 4 : 0 / 210\n",
      "2017-10-26 08:01:35.172114 combinations 4 : 50 / 210\n",
      "2017-10-26 08:01:55.836112 combinations 4 : 100 / 210\n",
      "2017-10-26 08:02:23.548302 combinations 4 : 150 / 210\n",
      "2017-10-26 08:02:51.061309 combinations 4 : 200 / 210\n",
      "2017-10-26 08:03:01.651187 combinations 2 : 0 / 45\n",
      "2017-10-26 08:03:02.397187 combinations 3 : 0 / 120\n",
      "2017-10-26 08:03:03.923182 combinations 3 : 50 / 120\n",
      "2017-10-26 08:03:05.560182 combinations 3 : 100 / 120\n",
      "2017-10-26 08:03:06.174187 combinations 4 : 0 / 210\n",
      "2017-10-26 08:03:07.846181 combinations 4 : 50 / 210\n",
      "2017-10-26 08:03:10.298183 combinations 4 : 100 / 210\n",
      "2017-10-26 08:03:13.091496 combinations 4 : 150 / 210\n",
      "2017-10-26 08:03:15.184495 combinations 4 : 200 / 210\n",
      "2017-10-26 08:03:15.919494 combinations 5 : 0 / 252\n",
      "2017-10-26 08:03:18.259085 combinations 5 : 50 / 252\n",
      "2017-10-26 08:03:21.251676 combinations 5 : 100 / 252\n",
      "2017-10-26 08:03:24.332220 combinations 5 : 150 / 252\n",
      "2017-10-26 08:03:26.237212 combinations 5 : 200 / 252\n",
      "2017-10-26 08:03:28.063212 combinations 5 : 250 / 252\n",
      "\t Predicted -1 but was 1 : 0.9713740458015268\n",
      "1 1 Train Accuracy: 0.93167989418\n",
      "1 1 Test Accuracy: 0.921560846561\n",
      "2017-10-26 08:03:32.389212 combinations 2 : 0 / 45\n",
      "2017-10-26 08:03:32.892210 combinations 3 : 0 / 120\n",
      "2017-10-26 08:03:33.489216 combinations 3 : 50 / 120\n",
      "2017-10-26 08:03:34.385212 combinations 3 : 100 / 120\n",
      "2017-10-26 08:03:35.057215 combinations 4 : 0 / 210\n",
      "2017-10-26 08:03:36.608211 combinations 4 : 50 / 210\n",
      "2017-10-26 08:03:37.977214 combinations 4 : 100 / 210\n",
      "2017-10-26 08:03:39.501212 combinations 4 : 150 / 210\n",
      "2017-10-26 08:03:41.475213 combinations 4 : 200 / 210\n",
      "2017-10-26 08:03:41.847214 combinations 5 : 0 / 252\n",
      "2017-10-26 08:03:44.196212 combinations 5 : 50 / 252\n",
      "2017-10-26 08:03:46.174219 combinations 5 : 100 / 252\n",
      "2017-10-26 08:03:49.698210 combinations 5 : 150 / 252\n",
      "2017-10-26 08:03:51.439215 combinations 5 : 200 / 252\n",
      "2017-10-26 08:03:53.283210 combinations 5 : 250 / 252\n",
      "2017-10-26 08:03:53.974211 combinations 2 : 0 / 45\n",
      "2017-10-26 08:03:55.111210 combinations 3 : 0 / 120\n",
      "2017-10-26 08:03:56.503215 combinations 3 : 50 / 120\n",
      "2017-10-26 08:03:58.138212 combinations 3 : 100 / 120\n",
      "2017-10-26 08:03:58.880217 combinations 4 : 0 / 210\n",
      "2017-10-26 08:04:00.956214 combinations 4 : 50 / 210\n",
      "2017-10-26 08:04:04.338995 combinations 4 : 100 / 210\n",
      "2017-10-26 08:04:07.122991 combinations 4 : 150 / 210\n",
      "2017-10-26 08:04:09.980432 combinations 4 : 200 / 210\n",
      "2017-10-26 08:04:10.644441 combinations 5 : 0 / 252\n",
      "2017-10-26 08:04:13.653431 combinations 5 : 50 / 252\n",
      "2017-10-26 08:04:16.810474 combinations 5 : 100 / 252\n",
      "2017-10-26 08:04:20.120432 combinations 5 : 150 / 252\n",
      "2017-10-26 08:04:23.857436 combinations 5 : 200 / 252\n",
      "2017-10-26 08:04:27.580471 combinations 5 : 250 / 252\n",
      "2017-10-26 08:04:28.845436 combinations 2 : 0 / 45\n",
      "2017-10-26 08:04:32.616352 combinations 3 : 0 / 120\n",
      "2017-10-26 08:04:37.652353 combinations 3 : 50 / 120\n",
      "2017-10-26 08:04:42.946354 combinations 3 : 100 / 120\n",
      "2017-10-26 08:04:45.185385 combinations 4 : 0 / 210\n",
      "2017-10-26 08:04:51.492348 combinations 4 : 50 / 210\n",
      "2017-10-26 08:04:59.577350 combinations 4 : 100 / 210\n",
      "2017-10-26 08:05:06.875351 combinations 4 : 150 / 210\n",
      "2017-10-26 08:05:14.784384 combinations 4 : 200 / 210\n",
      "\t Predicted -1 but was 1 : 0.46076568015204994\n",
      "2 0 Train Accuracy: 0.845313653137\n",
      "2 0 Test Accuracy: 0.839599367422\n",
      "2017-10-26 08:05:35.572990 combinations 2 : 0 / 45\n",
      "2017-10-26 08:05:38.839988 combinations 3 : 0 / 120\n",
      "2017-10-26 08:05:43.412988 combinations 3 : 50 / 120\n",
      "2017-10-26 08:05:49.590991 combinations 3 : 100 / 120\n",
      "2017-10-26 08:05:52.552023 combinations 4 : 0 / 210\n",
      "2017-10-26 08:05:58.838993 combinations 4 : 50 / 210\n",
      "2017-10-26 08:06:06.155992 combinations 4 : 100 / 210\n",
      "2017-10-26 08:06:14.195995 combinations 4 : 150 / 210\n",
      "2017-10-26 08:06:22.865990 combinations 4 : 200 / 210\n",
      "2017-10-26 08:06:28.241997 combinations 2 : 0 / 45\n",
      "2017-10-26 08:06:37.506994 combinations 3 : 0 / 120\n",
      "2017-10-26 08:06:48.634991 combinations 3 : 50 / 120\n",
      "2017-10-26 08:07:01.692988 combinations 3 : 100 / 120\n",
      "2017-10-26 08:07:06.819992 combinations 4 : 0 / 210\n",
      "2017-10-26 08:07:21.195989 combinations 4 : 50 / 210\n",
      "2017-10-26 08:07:37.913993 combinations 4 : 100 / 210\n",
      "2017-10-26 08:07:56.521034 combinations 4 : 150 / 210\n",
      "2017-10-26 08:08:16.536995 combinations 4 : 200 / 210\n",
      "2017-10-26 08:08:20.850990 combinations 2 : 0 / 45\n",
      "2017-10-26 08:08:21.016993 combinations 3 : 0 / 120\n",
      "2017-10-26 08:08:21.312994 combinations 3 : 50 / 120\n",
      "2017-10-26 08:08:21.736995 combinations 3 : 100 / 120\n",
      "2017-10-26 08:08:21.911999 combinations 4 : 0 / 210\n",
      "2017-10-26 08:08:22.280016 combinations 4 : 50 / 210\n",
      "2017-10-26 08:08:22.625994 combinations 4 : 100 / 210\n",
      "2017-10-26 08:08:23.019027 combinations 4 : 150 / 210\n",
      "2017-10-26 08:08:23.421991 combinations 4 : 200 / 210\n",
      "2017-10-26 08:08:23.508025 combinations 5 : 0 / 252\n",
      "2017-10-26 08:08:24.131992 combinations 5 : 50 / 252\n",
      "2017-10-26 08:08:24.806002 combinations 5 : 100 / 252\n",
      "2017-10-26 08:08:25.515994 combinations 5 : 150 / 252\n",
      "2017-10-26 08:08:26.108027 combinations 5 : 200 / 252\n",
      "2017-10-26 08:08:26.678988 combinations 5 : 250 / 252\n",
      "\t Predicted -1 but was 1 : 0.8138297872340425\n",
      "2 1 Train Accuracy: 0.939491525424\n",
      "2 1 Test Accuracy: 0.904406779661\n",
      "2017-10-26 08:08:28.225990 combinations 2 : 0 / 45\n",
      "2017-10-26 08:08:28.443988 combinations 3 : 0 / 120\n"
     ]
    },
    {
     "name": "stdout",
     "output_type": "stream",
     "text": [
      "2017-10-26 08:08:28.662991 combinations 3 : 50 / 120\n",
      "2017-10-26 08:08:28.917017 combinations 3 : 100 / 120\n",
      "2017-10-26 08:08:29.014027 combinations 4 : 0 / 210\n",
      "2017-10-26 08:08:29.283025 combinations 4 : 50 / 210\n",
      "2017-10-26 08:08:29.600027 combinations 4 : 100 / 210\n",
      "2017-10-26 08:08:29.955028 combinations 4 : 150 / 210\n",
      "2017-10-26 08:08:30.336995 combinations 4 : 200 / 210\n",
      "2017-10-26 08:08:30.415989 combinations 5 : 0 / 252\n",
      "2017-10-26 08:08:30.883992 combinations 5 : 50 / 252\n",
      "2017-10-26 08:08:31.589993 combinations 5 : 100 / 252\n",
      "2017-10-26 08:08:32.219991 combinations 5 : 150 / 252\n",
      "2017-10-26 08:08:32.788988 combinations 5 : 200 / 252\n",
      "2017-10-26 08:08:33.393025 combinations 5 : 250 / 252\n",
      "2017-10-26 08:08:33.581989 combinations 2 : 0 / 45\n",
      "2017-10-26 08:08:33.925989 combinations 3 : 0 / 120\n",
      "2017-10-26 08:08:34.371992 combinations 3 : 50 / 120\n",
      "2017-10-26 08:08:34.918992 combinations 3 : 100 / 120\n",
      "2017-10-26 08:08:35.159025 combinations 4 : 0 / 210\n",
      "2017-10-26 08:08:35.858025 combinations 4 : 50 / 210\n",
      "2017-10-26 08:08:36.690993 combinations 4 : 100 / 210\n",
      "2017-10-26 08:08:37.556992 combinations 4 : 150 / 210\n",
      "2017-10-26 08:08:38.577988 combinations 4 : 200 / 210\n",
      "2017-10-26 08:08:38.770024 combinations 5 : 0 / 252\n",
      "2017-10-26 08:08:39.777990 combinations 5 : 50 / 252\n",
      "2017-10-26 08:08:40.918990 combinations 5 : 100 / 252\n",
      "2017-10-26 08:08:42.162992 combinations 5 : 150 / 252\n",
      "2017-10-26 08:08:43.414988 combinations 5 : 200 / 252\n",
      "2017-10-26 08:08:44.777992 combinations 5 : 250 / 252\n",
      "2017-10-26 08:08:45.790024 combinations 2 : 0 / 28\n",
      "2017-10-26 08:08:47.160030 combinations 3 : 0 / 56\n",
      "2017-10-26 08:08:50.487992 combinations 3 : 50 / 56\n",
      "2017-10-26 08:08:50.877990 combinations 4 : 0 / 70\n",
      "2017-10-26 08:08:55.114991 combinations 4 : 50 / 70\n",
      "2017-10-26 08:08:56.503993 combinations 5 : 0 / 56\n",
      "2017-10-26 08:09:00.056988 combinations 5 : 50 / 56\n",
      "2017-10-26 08:09:00.471027 combinations 6 : 0 / 28\n",
      "\t Predicted -1 but was 1 : 0.5922480620155038\n",
      "3 0 Train Accuracy: 0.845177664975\n",
      "3 0 Test Accuracy: 0.832680686488\n",
      "2017-10-26 08:09:10.184993 combinations 2 : 0 / 28\n",
      "2017-10-26 08:09:11.751027 combinations 3 : 0 / 56\n",
      "2017-10-26 08:09:14.550991 combinations 3 : 50 / 56\n",
      "2017-10-26 08:09:14.875027 combinations 4 : 0 / 70\n",
      "2017-10-26 08:09:17.845025 combinations 4 : 50 / 70\n",
      "2017-10-26 08:09:19.068989 combinations 5 : 0 / 56\n",
      "2017-10-26 08:09:22.279992 combinations 5 : 50 / 56\n",
      "2017-10-26 08:09:22.731989 combinations 6 : 0 / 28\n",
      "2017-10-26 08:09:26.939989 combinations 2 : 0 / 28\n",
      "2017-10-26 08:09:30.358991 combinations 3 : 0 / 56\n",
      "2017-10-26 08:09:36.798988 combinations 3 : 50 / 56\n",
      "2017-10-26 08:09:37.550027 combinations 4 : 0 / 70\n",
      "2017-10-26 08:09:44.709033 combinations 4 : 50 / 70\n",
      "2017-10-26 08:09:47.727993 combinations 5 : 0 / 56\n",
      "2017-10-26 08:09:55.349027 combinations 5 : 50 / 56\n",
      "2017-10-26 08:09:56.274990 combinations 6 : 0 / 28\n",
      "2017-10-26 08:10:00.737990 combinations 2 : 0 / 45\n",
      "2017-10-26 08:10:00.909989 combinations 3 : 0 / 120\n",
      "2017-10-26 08:10:01.112025 combinations 3 : 50 / 120\n",
      "2017-10-26 08:10:01.338989 combinations 3 : 100 / 120\n",
      "2017-10-26 08:10:01.435994 combinations 4 : 0 / 210\n",
      "2017-10-26 08:10:01.693027 combinations 4 : 50 / 210\n",
      "2017-10-26 08:10:01.967026 combinations 4 : 100 / 210\n",
      "2017-10-26 08:10:02.258990 combinations 4 : 150 / 210\n",
      "2017-10-26 08:10:02.704989 combinations 4 : 200 / 210\n",
      "\t Predicted -1 but was 1 : 0.9866666666666667\n",
      "3 1 Train Accuracy: 0.951694915254\n",
      "3 1 Test Accuracy: 0.922711864407\n",
      "2017-10-26 08:10:04.001989 combinations 2 : 0 / 45\n",
      "2017-10-26 08:10:04.167988 combinations 3 : 0 / 120\n",
      "2017-10-26 08:10:04.382026 combinations 3 : 50 / 120\n",
      "2017-10-26 08:10:04.612994 combinations 3 : 100 / 120\n",
      "2017-10-26 08:10:04.708027 combinations 4 : 0 / 210\n",
      "2017-10-26 08:10:04.953025 combinations 4 : 50 / 210\n",
      "2017-10-26 08:10:05.223026 combinations 4 : 100 / 210\n",
      "2017-10-26 08:10:05.509992 combinations 4 : 150 / 210\n",
      "2017-10-26 08:10:05.814017 combinations 4 : 200 / 210\n",
      "2017-10-26 08:10:06.087990 combinations 2 : 0 / 45\n",
      "2017-10-26 08:10:06.490991 combinations 3 : 0 / 120\n",
      "2017-10-26 08:10:06.949030 combinations 3 : 50 / 120\n",
      "2017-10-26 08:10:07.459027 combinations 3 : 100 / 120\n",
      "2017-10-26 08:10:07.669992 combinations 4 : 0 / 210\n",
      "2017-10-26 08:10:08.225027 combinations 4 : 50 / 210\n",
      "2017-10-26 08:10:08.819992 combinations 4 : 100 / 210\n",
      "2017-10-26 08:10:09.464991 combinations 4 : 150 / 210\n",
      "2017-10-26 08:10:10.150993 combinations 4 : 200 / 210\n",
      "Count: 250000\n",
      "Train Accuracy: 0.841018964133\n",
      "Test Accuracy: 0.836549189852\n"
     ]
    }
   ],
   "source": [
    "\"\"\"\n",
    "Initialize variables to submit data, this includes the id.\n",
    "It is important as the data will be separated depending on its features and category\n",
    "\"\"\"\n",
    "count = 0\n",
    "\n",
    "accuracy_train = 0\n",
    "accuracy_test = 0\n",
    "\n",
    "submission_ids = []\n",
    "submission_y = []\n",
    "\n",
    "result_y = []\n",
    "result_ids = []\n",
    "\n",
    "# For each category in PRI_num_jet and if they have or not NA\n",
    "for numjet in range(0, 4):\n",
    "    for index in range(0, 2):\n",
    "        # Get the x, y and ID\n",
    "        x_, y_, ids_ = get_data_numjet(jet_num_x_dict, jet_num_y_dict, jet_num_ids_dict, numjet, index)\n",
    "        \n",
    "        # Get the optimal weights and accuracy\n",
    "        w, predict_threshold, accuracy_train_k, accuracy_test_k = build_best_model(x_, y_, numjet, index)\n",
    "        \n",
    "        # Get the number of elements in that category\n",
    "        number_of_el = len(y_)\n",
    "\n",
    "        # Add the accuracy in proportion to the number of elements (max 1 if all elements in 1 category)\n",
    "        accuracy_train += accuracy_train_k * number_of_el\n",
    "        accuracy_test += accuracy_test_k * number_of_el\n",
    "        \n",
    "        # PRint training and testing accuracy\n",
    "        print(numjet, index, \"Train Accuracy: \" + str(accuracy_train_k))\n",
    "        print(numjet, index, \"Test Accuracy: \" + str(accuracy_test_k))\n",
    "        \n",
    "        # Count the number of elements\n",
    "        count += number_of_el\n",
    "  \n",
    "        # Predict local\n",
    "        removed_col_key = list(jet_num_x_dict[numjet])[index]\n",
    "        sub_x2 = jet_num_x_dict[numjet][removed_col_key]\n",
    "        sub_ids2 = jet_num_ids_dict[numjet][removed_col_key]\n",
    "\n",
    "        sub_x2 = build_features(sub_x2, numjet, index)\n",
    "        pred_y2 = predict_labels(w, sub_x2, predict_threshold)\n",
    "        \n",
    "        for sub_index, sub_id in enumerate(sub_ids2):\n",
    "            result_ids.append(sub_id)\n",
    "            result_y.append(pred_y2[sub_index])\n",
    "        \n",
    "        \n",
    "        # Predict submission\n",
    "        removed_col_key = list(jet_num_x_dict[numjet])[index]\n",
    "        sub_x = sub_jet_num_x_dict[numjet][removed_col_key]\n",
    "        sub_ids = sub_jet_num_ids_dict[numjet][removed_col_key]\n",
    "        \n",
    "        sub_x = build_features(sub_x, numjet, index)\n",
    "        pred_y = predict_labels(w, sub_x, predict_threshold)\n",
    "        for sub_index, sub_id in enumerate(sub_ids):\n",
    "            submission_ids.append(sub_id)\n",
    "            submission_y.append(pred_y[sub_index])\n",
    "        \n",
    "print(\"Count:\", count)\n",
    "print(\"Train Accuracy: \" + str(accuracy_train / count))\n",
    "print(\"Test Accuracy: \" + str(accuracy_test / count))"
   ]
  },
  {
   "cell_type": "code",
   "execution_count": 37,
   "metadata": {},
   "outputs": [
    {
     "name": "stdout",
     "output_type": "stream",
     "text": [
      "250000 250000\n"
     ]
    },
    {
     "data": {
      "text/plain": [
       "0.84057999999999999"
      ]
     },
     "execution_count": 37,
     "metadata": {},
     "output_type": "execute_result"
    }
   ],
   "source": [
    "# Get total accuracy in our train set\n",
    "def get_accuracy_ids(result_y, result_ids, y, ids):\n",
    "    stacked = np.column_stack((ids, y))\n",
    "    stacked = stacked[stacked[:,0].argsort()]\n",
    "    stacked_pred = np.column_stack((result_ids, result_y))\n",
    "    stacked_pred = stacked_pred[stacked_pred[:,0].argsort()]\n",
    "    \n",
    "    print(len(stacked_pred), len(stacked))\n",
    "    unique, counts = np.unique((stacked == stacked_pred)[:, 1], return_counts=True)\n",
    "    return dict(zip(unique, counts))[True] / len(y)\n",
    "\n",
    "get_accuracy_ids(result_y, result_ids, y, ids)"
   ]
  },
  {
   "cell_type": "code",
   "execution_count": 38,
   "metadata": {},
   "outputs": [
    {
     "name": "stdout",
     "output_type": "stream",
     "text": [
      "Submission file created !\n"
     ]
    }
   ],
   "source": [
    "# Create submission csv file\n",
    "submission_stacked = np.column_stack((submission_ids, submission_y))\n",
    "submission_stacked = submission_stacked[submission_stacked[:,0].argsort()]\n",
    "create_csv_submission(submission_stacked[:,0], submission_stacked[:,1], \"datas/submission.csv\")\n",
    "print('Submission file created !')"
   ]
  },
  {
   "cell_type": "code",
   "execution_count": null,
   "metadata": {
    "collapsed": true
   },
   "outputs": [],
   "source": []
  },
  {
   "cell_type": "code",
   "execution_count": null,
   "metadata": {
    "collapsed": true
   },
   "outputs": [],
   "source": []
  },
  {
   "cell_type": "markdown",
   "metadata": {},
   "source": [
    "# Find the best model for specific classifier"
   ]
  },
  {
   "cell_type": "code",
   "execution_count": 33,
   "metadata": {},
   "outputs": [
    {
     "name": "stdout",
     "output_type": "stream",
     "text": [
      "2017-10-25 23:38:15.327153 combinations 2 : 0 / 45\n",
      "2017-10-25 23:38:19.658188 combinations 3 : 0 / 120\n",
      "2017-10-25 23:38:24.386155 combinations 3 : 50 / 120\n",
      "2017-10-25 23:38:32.436804 combinations 3 : 100 / 120\n",
      "2017-10-25 23:38:35.410679 combinations 4 : 0 / 210\n",
      "2017-10-25 23:38:43.568814 combinations 4 : 50 / 210\n",
      "2017-10-25 23:38:50.479413 combinations 4 : 100 / 210\n",
      "2017-10-25 23:38:58.398380 combinations 4 : 150 / 210\n",
      "2017-10-25 23:39:06.895377 combinations 4 : 200 / 210\n"
     ]
    }
   ],
   "source": [
    "k = 5\n",
    "\n",
    "# Manually choose the categories\n",
    "x_, y_, ids_ = get_data_numjet(jet_num_x_dict, jet_num_y_dict, jet_num_ids_dict, 3, 0)\n",
    "\n",
    "def build_polynomial2(x, max_degree):\n",
    "    polynomial_x = x\n",
    "    # Create new features with the tanh of the original data\n",
    "    polynomial_x = np.concatenate((polynomial_x, np.tanh(x)), axis=1)\n",
    "    # Create new features with the ln of the original data\n",
    "    polynomial_x = np.concatenate((polynomial_x, np.log(np.abs(x))), axis=1)\n",
    "    # Create new features with the square root of the original data\n",
    "    polynomial_x = np.concatenate((polynomial_x, np.sqrt(np.abs(x))), axis=1)\n",
    "    \n",
    "    # Create polynomials of max_degree of the new data\n",
    "    for degree in range(2, max_degree + 1):\n",
    "        polynomial_x = np.concatenate((polynomial_x, np.power(x, degree)), axis=1)\n",
    "        polynomial_x = np.concatenate((polynomial_x, np.power(np.tanh(x), degree)), axis=1)\n",
    "        polynomial_x = np.concatenate((polynomial_x, np.power(np.log(np.abs(x)), degree)), axis=1)\n",
    "\n",
    "    return polynomial_x\n",
    "\n",
    "# Build combinations\n",
    "polynomial_x = normalize(x_)\n",
    "polynomial_x = build_polynomial(polynomial_x, 5)\n",
    "polynomial_x = build_combinations_lvl(polynomial_x, 2, 8)\n",
    "polynomial_x = build_combinations_lvl(polynomial_x, 3, 8)\n",
    "polynomial_x = build_combinations_lvl(polynomial_x, 4, 8)\n",
    "polynomial_x = build_combinations_lvl(polynomial_x, 5, 8)\n",
    "polynomial_x = build_combinations_lvl(polynomial_x, 6, 8)\n",
    "\n",
    "predict_threshold = -0.00\n",
    "\n",
    "# 4.52035365636e-07 0.813863667164"
   ]
  },
  {
   "cell_type": "code",
   "execution_count": 34,
   "metadata": {},
   "outputs": [
    {
     "name": "stdout",
     "output_type": "stream",
     "text": [
      "Lambdas: 1e-08 Train: 0.845624670532  Test: 0.839515023722\n",
      "Lambdas: 1.88739182214e-08 Train: 0.845598313126  Test: 0.839557195572\n",
      "Lambdas: 3.56224789026e-08 Train: 0.845603584607  Test: 0.839493937797\n",
      "Lambdas: 6.7233575365e-08 Train: 0.845556141276  Test: 0.839451765946\n",
      "Lambdas: 1.26896100317e-07 Train: 0.845471797575  Test: 0.839493937797\n",
      "Lambdas: 2.39502661999e-07 Train: 0.845313653137  Test: 0.839599367422\n",
      "Lambdas: 4.52035365636e-07 Train: 0.845345282024  Test: 0.839409594096\n",
      "Lambdas: 8.53167852417e-07 Train: 0.845155508698  Test: 0.839578281497\n",
      "Lambdas: 1.61026202756e-06 Train: 0.845150237217  Test: 0.839409594096\n",
      "Lambdas: 3.03919538231e-06 Train: 0.845092250923  Test: 0.839325250395\n",
      "Lambdas: 5.73615251045e-06 Train: 0.844902477596  Test: 0.839093305219\n",
      "Lambdas: 1.08263673387e-05 Train: 0.844733790195  Test: 0.838713758566\n",
      "Lambdas: 2.04335971786e-05 Train: 0.844602003163  Test: 0.838713758566\n",
      "Lambdas: 3.85662042116e-05 Train: 0.844544016869  Test: 0.838755930416\n",
      "Lambdas: 7.27895384398e-05 Train: 0.844486030575  Test: 0.838819188192\n",
      "Lambdas: 0.000137382379588 Train: 0.844412229837  Test: 0.838777016342\n",
      "Lambdas: 0.00025929437974 Train: 0.844380600949  Test: 0.838945703743\n",
      "Lambdas: 0.000489390091848 Train: 0.844285714286  Test: 0.839114391144\n",
      "Lambdas: 0.000923670857187 Train: 0.844006325778  Test: 0.838798102267\n",
      "Lambdas: 0.0017433288222 Train: 0.843410648392  Test: 0.838186610438\n",
      "Lambdas: 0.00329034456231 Train: 0.842551396943  Test: 0.837975751186\n",
      "Lambdas: 0.00621016941892 Train: 0.841233526621  Test: 0.836605166052\n",
      "Lambdas: 0.0117210229753 Train: 0.839240906695  Test: 0.835002635741\n",
      "Lambdas: 0.0221221629107 Train: 0.836979441223  Test: 0.833927253558\n",
      "Lambdas: 0.0417531893656 Train: 0.834855034265  Test: 0.831987348445\n",
      "Lambdas: 0.0788046281567 Train: 0.832303637322  Test: 0.829984185556\n",
      "Lambdas: 0.148735210729 Train: 0.829446494465  Test: 0.827496046389\n",
      "Lambdas: 0.280721620394 Train: 0.825144965735  Test: 0.822604111755\n",
      "Lambdas: 0.529831690628 Train: 0.81975224038  Test: 0.816953083817\n",
      "Lambdas: 1.0 Train: 0.813394833948  Test: 0.810817079599\n",
      "\t Predicted -1 but was 1 : 0.46076568015204994\n",
      "BEST: 2.39502661999e-07 0.839599367422\n"
     ]
    }
   ],
   "source": [
    "# Here to test the accuracy of one specific classifier\n",
    "# Find best lambdas\n",
    "lambdas = np.logspace(-8, 0, 30)\n",
    "best_accuracy = 0\n",
    "best_lambda = 0\n",
    "for lambda_ in lambdas:\n",
    "    \n",
    "    accuracy_train_k, accuracy_test_k = k_fold_cross_validation(y_, polynomial_x, k, lambda_, predict_threshold)\n",
    "\n",
    "    if accuracy_test_k > best_accuracy:\n",
    "        best_accuracy = accuracy_test_k\n",
    "        best_lambda = lambda_\n",
    "    print(\"Lambdas:\", lambda_, \"Train:\", accuracy_train_k, \" Test:\", accuracy_test_k)\n",
    "\n",
    "w, loss = ridge_regression(y_, polynomial_x, best_lambda)\n",
    "\n",
    "print(\"\\t Predicted -1 but was 1 :\", get_false(polynomial_x, y_, w, predict_threshold))\n",
    "\n",
    "print(\"BEST:\", best_lambda, best_accuracy)\n",
    "lambda_ = best_lambda\n"
   ]
  },
  {
   "cell_type": "code",
   "execution_count": 15,
   "metadata": {},
   "outputs": [
    {
     "name": "stdout",
     "output_type": "stream",
     "text": [
      "Thresh: 0.0 Train: 0.938305084746  Test: 0.902372881356\n",
      "Thresh: -0.0040404040404 Train: 0.938728813559  Test: 0.902372881356\n",
      "Thresh: -0.00808080808081 Train: 0.938728813559  Test: 0.903389830508\n",
      "Thresh: -0.0121212121212 Train: 0.938728813559  Test: 0.903050847458\n",
      "Thresh: -0.0161616161616 Train: 0.938898305085  Test: 0.903050847458\n",
      "Thresh: -0.020202020202 Train: 0.938898305085  Test: 0.903050847458\n",
      "Thresh: -0.0242424242424 Train: 0.938983050847  Test: 0.903050847458\n",
      "Thresh: -0.0282828282828 Train: 0.939237288136  Test: 0.90406779661\n",
      "Thresh: -0.0323232323232 Train: 0.939491525424  Test: 0.904406779661\n",
      "Thresh: -0.0363636363636 Train: 0.939830508475  Test: 0.904406779661\n",
      "Thresh: -0.040404040404 Train: 0.94  Test: 0.90406779661\n",
      "Thresh: -0.0444444444444 Train: 0.939915254237  Test: 0.903389830508\n",
      "Thresh: -0.0484848484848 Train: 0.940084745763  Test: 0.902372881356\n",
      "Thresh: -0.0525252525253 Train: 0.940338983051  Test: 0.902711864407\n",
      "Thresh: -0.0565656565657 Train: 0.939745762712  Test: 0.902711864407\n",
      "Thresh: -0.0606060606061 Train: 0.939745762712  Test: 0.902372881356\n",
      "Thresh: -0.0646464646465 Train: 0.940084745763  Test: 0.902033898305\n",
      "Thresh: -0.0686868686869 Train: 0.939915254237  Test: 0.901355932203\n",
      "Thresh: -0.0727272727273 Train: 0.940423728814  Test: 0.901355932203\n",
      "Thresh: -0.0767676767677 Train: 0.940423728814  Test: 0.901355932203\n",
      "Thresh: -0.0808080808081 Train: 0.940593220339  Test: 0.901694915254\n",
      "Thresh: -0.0848484848485 Train: 0.940677966102  Test: 0.902372881356\n",
      "Thresh: -0.0888888888889 Train: 0.940593220339  Test: 0.902372881356\n",
      "Thresh: -0.0929292929293 Train: 0.940423728814  Test: 0.902372881356\n",
      "Thresh: -0.0969696969697 Train: 0.940508474576  Test: 0.902372881356\n",
      "Thresh: -0.10101010101 Train: 0.940423728814  Test: 0.901355932203\n",
      "Thresh: -0.105050505051 Train: 0.940423728814  Test: 0.901355932203\n",
      "Thresh: -0.109090909091 Train: 0.940338983051  Test: 0.901355932203\n",
      "Thresh: -0.113131313131 Train: 0.940508474576  Test: 0.901694915254\n",
      "Thresh: -0.117171717172 Train: 0.940423728814  Test: 0.900677966102\n",
      "Thresh: -0.121212121212 Train: 0.940423728814  Test: 0.900677966102\n",
      "Thresh: -0.125252525253 Train: 0.940423728814  Test: 0.901016949153\n",
      "Thresh: -0.129292929293 Train: 0.940169491525  Test: 0.901016949153\n",
      "Thresh: -0.133333333333 Train: 0.940338983051  Test: 0.900338983051\n",
      "Thresh: -0.137373737374 Train: 0.940084745763  Test: 0.900338983051\n",
      "Thresh: -0.141414141414 Train: 0.94  Test: 0.900338983051\n",
      "Thresh: -0.145454545455 Train: 0.94  Test: 0.900338983051\n",
      "Thresh: -0.149494949495 Train: 0.939830508475  Test: 0.9\n",
      "Thresh: -0.153535353535 Train: 0.939830508475  Test: 0.899322033898\n",
      "Thresh: -0.157575757576 Train: 0.939745762712  Test: 0.899661016949\n",
      "Thresh: -0.161616161616 Train: 0.939406779661  Test: 0.899322033898\n",
      "Thresh: -0.165656565657 Train: 0.939322033898  Test: 0.898983050847\n",
      "Thresh: -0.169696969697 Train: 0.939152542373  Test: 0.898983050847\n",
      "Thresh: -0.173737373737 Train: 0.93906779661  Test: 0.898305084746\n",
      "Thresh: -0.177777777778 Train: 0.939152542373  Test: 0.897966101695\n",
      "Thresh: -0.181818181818 Train: 0.93906779661  Test: 0.898305084746\n",
      "Thresh: -0.185858585859 Train: 0.938813559322  Test: 0.898305084746\n",
      "Thresh: -0.189898989899 Train: 0.938983050847  Test: 0.897966101695\n",
      "Thresh: -0.193939393939 Train: 0.938813559322  Test: 0.897966101695\n",
      "Thresh: -0.19797979798 Train: 0.938898305085  Test: 0.897966101695\n",
      "Thresh: -0.20202020202 Train: 0.938305084746  Test: 0.897627118644\n",
      "Thresh: -0.206060606061 Train: 0.938220338983  Test: 0.897966101695\n",
      "Thresh: -0.210101010101 Train: 0.938220338983  Test: 0.897627118644\n",
      "Thresh: -0.214141414141 Train: 0.938305084746  Test: 0.897627118644\n",
      "Thresh: -0.218181818182 Train: 0.938389830508  Test: 0.897627118644\n",
      "Thresh: -0.222222222222 Train: 0.938389830508  Test: 0.896949152542\n",
      "Thresh: -0.226262626263 Train: 0.938389830508  Test: 0.896949152542\n",
      "Thresh: -0.230303030303 Train: 0.938644067797  Test: 0.896949152542\n",
      "Thresh: -0.234343434343 Train: 0.938813559322  Test: 0.896949152542\n",
      "Thresh: -0.238383838384 Train: 0.938813559322  Test: 0.897966101695\n",
      "Thresh: -0.242424242424 Train: 0.938898305085  Test: 0.897966101695\n",
      "Thresh: -0.246464646465 Train: 0.938813559322  Test: 0.898305084746\n",
      "Thresh: -0.250505050505 Train: 0.938644067797  Test: 0.898305084746\n",
      "Thresh: -0.254545454545 Train: 0.938644067797  Test: 0.898305084746\n",
      "Thresh: -0.258585858586 Train: 0.938644067797  Test: 0.898644067797\n",
      "Thresh: -0.262626262626 Train: 0.938898305085  Test: 0.898305084746\n",
      "Thresh: -0.266666666667 Train: 0.938644067797  Test: 0.897966101695\n",
      "Thresh: -0.270707070707 Train: 0.938728813559  Test: 0.897966101695\n",
      "Thresh: -0.274747474747 Train: 0.938559322034  Test: 0.897627118644\n",
      "Thresh: -0.278787878788 Train: 0.938559322034  Test: 0.897288135593\n",
      "Thresh: -0.282828282828 Train: 0.938644067797  Test: 0.897288135593\n",
      "Thresh: -0.286868686869 Train: 0.938644067797  Test: 0.897288135593\n",
      "Thresh: -0.290909090909 Train: 0.938474576271  Test: 0.896949152542\n",
      "Thresh: -0.294949494949 Train: 0.937966101695  Test: 0.896610169492\n",
      "Thresh: -0.29898989899 Train: 0.937881355932  Test: 0.896610169492\n",
      "Thresh: -0.30303030303 Train: 0.937881355932  Test: 0.896271186441\n",
      "Thresh: -0.307070707071 Train: 0.938050847458  Test: 0.89593220339\n",
      "Thresh: -0.311111111111 Train: 0.93813559322  Test: 0.895593220339\n",
      "Thresh: -0.315151515152 Train: 0.938050847458  Test: 0.895254237288\n",
      "Thresh: -0.319191919192 Train: 0.93813559322  Test: 0.894915254237\n",
      "Thresh: -0.323232323232 Train: 0.938305084746  Test: 0.894576271186\n",
      "Thresh: -0.327272727273 Train: 0.938474576271  Test: 0.895254237288\n",
      "Thresh: -0.331313131313 Train: 0.93813559322  Test: 0.893898305085\n",
      "Thresh: -0.335353535354 Train: 0.938220338983  Test: 0.894237288136\n",
      "Thresh: -0.339393939394 Train: 0.938220338983  Test: 0.894237288136\n",
      "Thresh: -0.343434343434 Train: 0.938305084746  Test: 0.893559322034\n",
      "Thresh: -0.347474747475 Train: 0.937711864407  Test: 0.893559322034\n",
      "Thresh: -0.351515151515 Train: 0.937457627119  Test: 0.892542372881\n",
      "Thresh: -0.355555555556 Train: 0.93686440678  Test: 0.89186440678\n",
      "Thresh: -0.359595959596 Train: 0.936694915254  Test: 0.891525423729\n",
      "Thresh: -0.363636363636 Train: 0.936525423729  Test: 0.891525423729\n",
      "Thresh: -0.367676767677 Train: 0.936101694915  Test: 0.891525423729\n",
      "Thresh: -0.371717171717 Train: 0.936101694915  Test: 0.891525423729\n",
      "Thresh: -0.375757575758 Train: 0.935762711864  Test: 0.890508474576\n",
      "Thresh: -0.379797979798 Train: 0.935508474576  Test: 0.890169491525\n",
      "Thresh: -0.383838383838 Train: 0.935762711864  Test: 0.890169491525\n",
      "Thresh: -0.387878787879 Train: 0.93593220339  Test: 0.890508474576\n",
      "Thresh: -0.391919191919 Train: 0.935677966102  Test: 0.890508474576\n",
      "Thresh: -0.39595959596 Train: 0.935423728814  Test: 0.890847457627\n",
      "Thresh: -0.4 Train: 0.935169491525  Test: 0.889491525424\n",
      "\t Predicted -1 but was 1 : 0.4623115577889447\n",
      "BEST: -0.0323232323232 0.904406779661\n"
     ]
    }
   ],
   "source": [
    "# Find best threshold\n",
    "threshs = np.linspace(0, -0.4, num=100)\n",
    "best_accuracy = 0\n",
    "best_thresh = 0\n",
    "for thresh in threshs:\n",
    "    predict_threshold = thresh\n",
    "    \n",
    "    accuracy_train_k, accuracy_test_k = k_fold_cross_validation(y_, polynomial_x, k, lambda_, predict_threshold)\n",
    "\n",
    "    if accuracy_test_k > best_accuracy:\n",
    "        best_accuracy = accuracy_test_k\n",
    "        best_thresh = thresh\n",
    "    print(\"Thresh:\", thresh, \"Train:\", accuracy_train_k, \" Test:\", accuracy_test_k)\n",
    "\n",
    "w, loss = ridge_regression(y_, polynomial_x, best_lambda)\n",
    "\n",
    "print(\"\\t Predicted -1 but was 1 :\", get_false(polynomial_x, y_, w, predict_threshold))\n",
    "\n",
    "print(\"BEST:\", best_thresh, best_accuracy)"
   ]
  },
  {
   "cell_type": "markdown",
   "metadata": {},
   "source": [
    "# Functions to implement"
   ]
  },
  {
   "cell_type": "code",
   "execution_count": 484,
   "metadata": {
    "collapsed": true
   },
   "outputs": [],
   "source": [
    "x_, y_, ids_ = get_data_numjet(jet_num_x_dict, jet_num_y_dict, jet_num_ids_dict, 3, 1)"
   ]
  },
  {
   "cell_type": "code",
   "execution_count": 485,
   "metadata": {},
   "outputs": [
    {
     "data": {
      "text/plain": [
       "2741.7361147921183"
      ]
     },
     "execution_count": 485,
     "metadata": {},
     "output_type": "execute_result"
    }
   ],
   "source": [
    "y = 0\n",
    "w = 0\n",
    "x = 0\n",
    "tx = 0\n",
    "\n",
    "y__ = []\n",
    "for i in y_:\n",
    "    y__.append(i[0] if i == 1 else 0)\n",
    "    \n",
    "\n",
    "x_ = normalize(x_) \n",
    "initial_w = np.random.rand(x_.shape[1], 1)\n",
    "calculate_loss(y_, x_, initial_w)"
   ]
  },
  {
   "cell_type": "markdown",
   "metadata": {},
   "source": [
    "## Regularized logistic regression"
   ]
  },
  {
   "cell_type": "code",
   "execution_count": 486,
   "metadata": {},
   "outputs": [
    {
     "name": "stdout",
     "output_type": "stream",
     "text": [
      "Current iteration=0, loss=-8745.913669069796\n",
      "loss=nan\n"
     ]
    },
    {
     "name": "stderr",
     "output_type": "stream",
     "text": [
      "C:\\Users\\Coac\\Documents\\PersonalProjects\\epfl\\epfl-ml-projects\\epfl-ml-project1\\implementation.py:118: RuntimeWarning: divide by zero encountered in log\n",
      "  \"\"\"\n",
      "C:\\Users\\Coac\\Documents\\PersonalProjects\\epfl\\epfl-ml-projects\\epfl-ml-project1\\implementation.py:111: RuntimeWarning: overflow encountered in exp\n",
      "  \n",
      "C:\\Users\\Coac\\Documents\\PersonalProjects\\epfl\\epfl-ml-projects\\epfl-ml-project1\\implementation.py:111: RuntimeWarning: invalid value encountered in true_divide\n",
      "  \n"
     ]
    }
   ],
   "source": [
    "w, loss = reg_logistic_regression(y_, x_, 0.001, initial_w, 2, 1)"
   ]
  },
  {
   "cell_type": "markdown",
   "metadata": {},
   "source": [
    "## Logistic regression"
   ]
  },
  {
   "cell_type": "code",
   "execution_count": 487,
   "metadata": {},
   "outputs": [
    {
     "name": "stdout",
     "output_type": "stream",
     "text": [
      "Current iteration=0, loss=-8745.924528557429\n",
      "Current iteration=100, loss=nan\n"
     ]
    },
    {
     "name": "stderr",
     "output_type": "stream",
     "text": [
      "C:\\Users\\Coac\\Documents\\PersonalProjects\\epfl\\epfl-ml-projects\\epfl-ml-project1\\implementation.py:111: RuntimeWarning: overflow encountered in exp\n",
      "  \n",
      "C:\\Users\\Coac\\Documents\\PersonalProjects\\epfl\\epfl-ml-projects\\epfl-ml-project1\\implementation.py:111: RuntimeWarning: invalid value encountered in true_divide\n",
      "  \n",
      "C:\\Users\\Coac\\Documents\\PersonalProjects\\epfl\\epfl-ml-projects\\epfl-ml-project1\\implementation.py:118: RuntimeWarning: divide by zero encountered in log\n",
      "  \"\"\"\n"
     ]
    },
    {
     "data": {
      "text/plain": [
       "nan"
      ]
     },
     "execution_count": 487,
     "metadata": {},
     "output_type": "execute_result"
    }
   ],
   "source": [
    "w, loss = logistic_regression(y_, x_, initial_w, 200, 1)\n",
    "loss\n"
   ]
  },
  {
   "cell_type": "markdown",
   "metadata": {},
   "source": [
    "## Gradient descent"
   ]
  },
  {
   "cell_type": "code",
   "execution_count": 488,
   "metadata": {},
   "outputs": [
    {
     "name": "stdout",
     "output_type": "stream",
     "text": [
      "Gradient Descent(0/99): loss=16.31680577135001\t\t0.3744075829383886\n",
      "Gradient Descent(1/99): loss=50.736759376294046\t\t0.6269465132024373\n",
      "Gradient Descent(2/99): loss=181.81340506469255\t\t0.37576167907921465\n",
      "Gradient Descent(3/99): loss=660.8932795968924\t\t0.6276235612728503\n",
      "Gradient Descent(4/99): loss=2408.6660456413883\t\t0.3744075829383886\n",
      "Gradient Descent(5/99): loss=8783.604796420854\t\t0.6262694651320244\n",
      "Gradient Descent(6/99): loss=32035.334534264457\t\t0.3744075829383886\n",
      "Gradient Descent(7/99): loss=116842.53028677976\t\t0.6262694651320244\n",
      "Gradient Descent(8/99): loss=426163.8384898581\t\t0.37373053486797564\n",
      "Gradient Descent(9/99): loss=1554365.9815739973\t\t0.6262694651320244\n",
      "Gradient Descent(10/99): loss=5669310.581684775\t\t0.37373053486797564\n",
      "Gradient Descent(11/99): loss=20677940.987653714\t\t0.6262694651320244\n",
      "Gradient Descent(12/99): loss=75419622.43471941\t\t0.37373053486797564\n",
      "Gradient Descent(13/99): loss=275081524.0263116\t\t0.6262694651320244\n",
      "Gradient Descent(14/99): loss=1003317739.8673092\t\t0.37373053486797564\n",
      "Gradient Descent(15/99): loss=3659447836.952078\t\t0.6262694651320244\n",
      "Gradient Descent(16/99): loss=13347275686.163767\t\t0.37373053486797564\n",
      "Gradient Descent(17/99): loss=48682144463.46543\t\t0.6262694651320244\n",
      "Gradient Descent(18/99): loss=177560668209.182\t\t0.37373053486797564\n",
      "Gradient Descent(19/99): loss=647625350989.1755\t\t0.6262694651320244\n",
      "Gradient Descent(20/99): loss=2362114309855.7534\t\t0.37373053486797564\n",
      "Gradient Descent(21/99): loss=8615450282027.002\t\t0.6262694651320244\n",
      "Gradient Descent(22/99): loss=31423535792651.773\t\t0.37373053486797564\n",
      "Gradient Descent(23/99): loss=114612535548145.03\t\t0.6262694651320244\n",
      "Gradient Descent(24/99): loss=418031675093886.5\t\t0.37373053486797564\n",
      "Gradient Descent(25/99): loss=1524706530101972.2\t\t0.6262694651320244\n",
      "Gradient Descent(26/99): loss=5561133620827851.0\t\t0.37373053486797564\n",
      "Gradient Descent(27/99): loss=2.028338341715736e+16\t\t0.6262694651320244\n",
      "Gradient Descent(28/99): loss=7.398053542654661e+16\t\t0.37373053486797564\n",
      "Gradient Descent(29/99): loss=2.6983267581329168e+17\t\t0.6262694651320244\n",
      "Gradient Descent(30/99): loss=9.841733709652837e+17\t\t0.37373053486797564\n",
      "Gradient Descent(31/99): loss=3.5896216838741284e+18\t\t0.6262694651320244\n",
      "Gradient Descent(32/99): loss=1.3092595485184956e+19\t\t0.37373053486797564\n",
      "Gradient Descent(33/99): loss=4.775323742575663e+19\t\t0.6262694651320244\n",
      "Gradient Descent(34/99): loss=1.7417262201532596e+20\t\t0.37373053486797564\n",
      "Gradient Descent(35/99): loss=6.352679712419089e+20\t\t0.6262694651320244\n",
      "Gradient Descent(36/99): loss=2.317042659266506e+21\t\t0.37373053486797564\n",
      "Gradient Descent(37/99): loss=8.451058337421542e+21\t\t0.6262694651320244\n",
      "Gradient Descent(38/99): loss=3.082394134474474e+22\t\t0.37373053486797564\n",
      "Gradient Descent(39/99): loss=1.124256066032729e+23\t\t0.6262694651320244\n",
      "Gradient Descent(40/99): loss=4.100551866080172e+23\t\t0.37373053486797564\n",
      "Gradient Descent(41/99): loss=1.4956135096294056e+24\t\t0.6262694651320244\n",
      "Gradient Descent(42/99): loss=5.455021283084664e+24\t\t0.37373053486797564\n",
      "Gradient Descent(43/99): loss=1.989635491209232e+25\t\t0.6262694651320244\n",
      "Gradient Descent(44/99): loss=7.256890821223146e+25\t\t0.37373053486797564\n",
      "Gradient Descent(45/99): loss=2.6468398168322962e+26\t\t0.6262694651320244\n",
      "Gradient Descent(46/99): loss=9.653942974421112e+26\t\t0.37373053486797564\n",
      "Gradient Descent(47/99): loss=3.5211278884611e+27\t\t0.6262694651320244\n",
      "Gradient Descent(48/99): loss=1.2842774853496558e+28\t\t0.37373053486797564\n",
      "Gradient Descent(49/99): loss=4.684205492169409e+28\t\t0.6262694651320244\n",
      "Gradient Descent(50/99): loss=1.7084922334285263e+29\t\t0.37373053486797564\n",
      "Gradient Descent(51/99): loss=6.2314638342942035e+29\t\t0.6262694651320244\n",
      "Gradient Descent(52/99): loss=2.2728310236559865e+30\t\t0.37373053486797564\n",
      "Gradient Descent(53/99): loss=8.289803165772864e+30\t\t0.6262694651320244\n",
      "Gradient Descent(54/99): loss=3.0235787795925195e+31\t\t0.37373053486797564\n",
      "Gradient Descent(55/99): loss=1.1028040658610579e+32\t\t0.6262694651320244\n",
      "Gradient Descent(56/99): loss=4.0223089799683744e+32\t\t0.37373053486797564\n",
      "Gradient Descent(57/99): loss=1.4670756148964553e+33\t\t0.6262694651320244\n",
      "Gradient Descent(58/99): loss=5.350933681481461e+33\t\t0.37373053486797564\n",
      "Gradient Descent(59/99): loss=1.9516711322090655e+34\t\t0.6262694651320244\n",
      "Gradient Descent(60/99): loss=7.118421634490612e+34\t\t0.37373053486797564\n",
      "Gradient Descent(61/99): loss=2.5963353010724337e+35\t\t0.6262694651320244\n",
      "Gradient Descent(62/99): loss=9.46973548593018e+35\t\t0.37373053486797564\n",
      "Gradient Descent(63/99): loss=3.4539410274337075e+36\t\t0.6262694651320244\n",
      "Gradient Descent(64/99): loss=1.2597721064875127e+37\t\t0.37373053486797564\n",
      "Gradient Descent(65/99): loss=4.594825874786729e+37\t\t0.6262694651320244\n",
      "Gradient Descent(66/99): loss=1.6758923864789429e+38\t\t0.37373053486797564\n",
      "Gradient Descent(67/99): loss=6.112560883906073e+38\t\t0.6262694651320244\n",
      "Gradient Descent(68/99): loss=2.229462993024228e+39\t\t0.37373053486797564\n",
      "Gradient Descent(69/99): loss=8.131624914119924e+39\t\t0.6262694651320244\n",
      "Gradient Descent(70/99): loss=2.965885684168306e+40\t\t0.37373053486797564\n",
      "Gradient Descent(71/99): loss=1.08176139264369e+41\t\t0.6262694651320244\n",
      "Gradient Descent(72/99): loss=3.945559051250373e+41\t\t0.37373053486797564\n",
      "Gradient Descent(73/99): loss=1.4390822535142315e+42\t\t0.6262694651320244\n",
      "Gradient Descent(74/99): loss=5.248832181901566e+42\t\t0.37373053486797564\n",
      "Gradient Descent(75/99): loss=1.914431173512704e+43\t\t0.6262694651320244\n",
      "Gradient Descent(76/99): loss=6.982594586953325e+43\t\t0.37373053486797564\n",
      "Gradient Descent(77/99): loss=2.546794465130263e+44\t\t0.6262694651320244\n",
      "Gradient Descent(78/99): loss=9.289042872025326e+44\t\t0.37373053486797564\n",
      "Gradient Descent(79/99): loss=3.388036163095366e+45\t\t0.6262694651320244\n",
      "Gradient Descent(80/99): loss=1.2357343162890582e+46\t\t0.37373053486797564\n",
      "Gradient Descent(81/99): loss=4.507151715462383e+46\t\t0.6262694651320244\n",
      "Gradient Descent(82/99): loss=1.6439145792438786e+47\t\t0.37373053486797564\n",
      "Gradient Descent(83/99): loss=5.995926728136193e+47\t\t0.6262694651320244\n",
      "Gradient Descent(84/99): loss=2.186922470491976e+48\t\t0.37373053486797564\n",
      "Gradient Descent(85/99): loss=7.976464871560206e+48\t\t0.6262694651320244\n",
      "Gradient Descent(86/99): loss=2.9092934342990647e+49\t\t0.37373053486797564\n",
      "Gradient Descent(87/99): loss=1.0611202359874595e+50\t\t0.6262694651320244\n",
      "Gradient Descent(88/99): loss=3.8702735927129445e+50\t\t0.37373053486797564\n",
      "Gradient Descent(89/99): loss=1.4116230352078762e+51\t\t0.6262694651320244\n",
      "Gradient Descent(90/99): loss=5.148678887408291e+51\t\t0.37373053486797564\n",
      "Gradient Descent(91/99): loss=1.877901792792732e+52\t\t0.6262694651320244\n",
      "Gradient Descent(92/99): loss=6.849359263788369e+52\t\t0.37373053486797564\n",
      "Gradient Descent(93/99): loss=2.4981989209710236e+53\t\t0.6262694651320244\n",
      "Gradient Descent(94/99): loss=9.111798065165152e+53\t\t0.37373053486797564\n",
      "Gradient Descent(95/99): loss=3.32338883358722e+54\t\t0.6262694651320244\n",
      "Gradient Descent(96/99): loss=1.21215519266581e+55\t\t0.37373053486797564\n",
      "Gradient Descent(97/99): loss=4.4211504722446904e+55\t\t0.6262694651320244\n",
      "Gradient Descent(98/99): loss=1.6125469425447092e+56\t\t0.37373053486797564\n",
      "Gradient Descent(99/99): loss=5.881518075972819e+56\t\t0.6262694651320244\n"
     ]
    }
   ],
   "source": [
    "w, loss = least_squares_GD(y_, x_, initial_w, 100, 0.5)"
   ]
  },
  {
   "cell_type": "markdown",
   "metadata": {},
   "source": [
    "## Stochastic gradient descent"
   ]
  },
  {
   "cell_type": "code",
   "execution_count": 489,
   "metadata": {},
   "outputs": [
    {
     "name": "stdout",
     "output_type": "stream",
     "text": [
      "SGD (0/99): loss=103.7220312797626\t\t0.49085985104942453\n",
      "SGD (1/99): loss=634.9095254158576\t\t0.4617467840216655\n",
      "SGD (2/99): loss=712.8161550605626\t\t0.4813811780636425\n",
      "SGD (3/99): loss=22242.202312406975\t\t0.5639810426540285\n",
      "SGD (4/99): loss=36484.35925564048\t\t0.5260663507109005\n",
      "SGD (5/99): loss=365371.7919403375\t\t0.45091401489505756\n",
      "SGD (6/99): loss=667213.738941194\t\t0.4752877454299255\n",
      "SGD (7/99): loss=1678835.1118862384\t\t0.45023696682464454\n",
      "SGD (8/99): loss=30857173.477063492\t\t0.5199729180771835\n",
      "SGD (9/99): loss=33983658.9360351\t\t0.5186188219363574\n",
      "SGD (10/99): loss=61329227.89667664\t\t0.5016926201760324\n",
      "SGD (11/99): loss=1160543243.6444895\t\t0.5497630331753555\n",
      "SGD (12/99): loss=1493404993.3918626\t\t0.4901828029790115\n",
      "SGD (13/99): loss=24582257029.171535\t\t0.5660121868652674\n",
      "SGD (14/99): loss=153587856742.85718\t\t0.4163845633039946\n",
      "SGD (15/99): loss=159003153532.88318\t\t0.4197698036560596\n",
      "SGD (16/99): loss=431754571373.21985\t\t0.44888287068381855\n",
      "SGD (17/99): loss=3367053747642.421\t\t0.4109681787406906\n",
      "SGD (18/99): loss=22052084584018.336\t\t0.4996614759647935\n",
      "SGD (19/99): loss=1042920778120398.2\t\t0.5646580907244414\n",
      "SGD (20/99): loss=1311042385244817.2\t\t0.5849695328368314\n",
      "SGD (21/99): loss=2.508834384557883e+16\t\t0.4048747461069736\n",
      "SGD (22/99): loss=5.367357529487592e+16\t\t0.5260663507109005\n",
      "SGD (23/99): loss=8.488197234295928e+17\t\t0.47935003385240355\n",
      "SGD (24/99): loss=1.3643251729938324e+18\t\t0.45565335138794855\n",
      "SGD (25/99): loss=1.8490575885996462e+18\t\t0.47257955314827355\n",
      "SGD (26/99): loss=2.2831965480216937e+18\t\t0.4922139471902505\n",
      "SGD (27/99): loss=2.3488855414157107e+18\t\t0.4922139471902505\n",
      "SGD (28/99): loss=6.073475931056781e+18\t\t0.5172647257955315\n",
      "SGD (29/99): loss=6.442800152764658e+19\t\t0.5172647257955315\n",
      "SGD (30/99): loss=5.975749681484294e+20\t\t0.5010155721056195\n",
      "SGD (31/99): loss=2.1041227189600995e+21\t\t0.4949221394719025\n",
      "SGD (32/99): loss=4.52882829200159e+22\t\t0.4082599864590386\n",
      "SGD (33/99): loss=1.667144486645453e+23\t\t0.5565335138794855\n",
      "SGD (34/99): loss=2.0052706821595623e+24\t\t0.4895057549085985\n",
      "SGD (35/99): loss=1.8698789473189738e+25\t\t0.46445497630331756\n",
      "SGD (36/99): loss=2.014733311131743e+26\t\t0.41367637102234256\n",
      "SGD (37/99): loss=2.7825292246565322e+26\t\t0.47257955314827355\n",
      "SGD (38/99): loss=3.67202308062464e+26\t\t0.4969532836831415\n",
      "SGD (39/99): loss=4.970545643176643e+26\t\t0.5077860528097495\n",
      "SGD (40/99): loss=6.921640605334232e+27\t\t0.4177386594448206\n",
      "SGD (41/99): loss=3.0538687866839815e+29\t\t0.5937711577522004\n",
      "SGD (42/99): loss=3.372236969919859e+29\t\t0.5795531482735274\n",
      "SGD (43/99): loss=3.592358619172082e+29\t\t0.5098171970209885\n",
      "SGD (44/99): loss=1.3546051399292373e+30\t\t0.5375761679079215\n",
      "SGD (45/99): loss=1.3210867918747765e+30\t\t0.5341909275558565\n",
      "SGD (46/99): loss=1.1562930476879854e+31\t\t0.5098171970209885\n",
      "SGD (47/99): loss=1.3972439522412256e+31\t\t0.47935003385240355\n",
      "SGD (48/99): loss=4.878588906169809e+31\t\t0.5382532159783344\n",
      "SGD (49/99): loss=3.594716152215775e+32\t\t0.46377792823290453\n",
      "SGD (50/99): loss=1.063069494958782e+33\t\t0.4129993229519296\n",
      "SGD (51/99): loss=1.7986920276794597e+34\t\t0.5734597156398105\n",
      "SGD (52/99): loss=5.4247317296248876e+35\t\t0.44008124576844954\n",
      "SGD (53/99): loss=4.9507372087885424e+36\t\t0.5402843601895735\n",
      "SGD (54/99): loss=5.67065015076626e+36\t\t0.5030467163168585\n",
      "SGD (55/99): loss=1.977526272137279e+37\t\t0.5098171970209885\n",
      "SGD (56/99): loss=1.9946642488106768e+37\t\t0.5084631008801624\n",
      "SGD (57/99): loss=1.4548956049008777e+38\t\t0.41706161137440756\n",
      "SGD (58/99): loss=4.476453235886737e+38\t\t0.40216655382532157\n",
      "SGD (59/99): loss=3.373222073590032e+39\t\t0.5057549085985105\n",
      "SGD (60/99): loss=2.856595645050824e+39\t\t0.4983073798239675\n",
      "SGD (61/99): loss=3.2569781754418815e+40\t\t0.5680433310765064\n",
      "SGD (62/99): loss=3.7019903793835585e+41\t\t0.43195666892349355\n",
      "SGD (63/99): loss=2.1894063675408954e+42\t\t0.4922139471902505\n",
      "SGD (64/99): loss=1.335391831933947e+43\t\t0.4265402843601896\n",
      "SGD (65/99): loss=6.643120629384631e+43\t\t0.45700744752877454\n",
      "SGD (66/99): loss=2.177326995230265e+44\t\t0.4881516587677725\n",
      "SGD (67/99): loss=1.0429824639159066e+45\t\t0.44549763033175355\n",
      "SGD (68/99): loss=9.795121821899313e+44\t\t0.48747461069735953\n",
      "SGD (69/99): loss=4.151182873915304e+45\t\t0.5673662830060935\n",
      "SGD (70/99): loss=2.491028820033401e+46\t\t0.5639810426540285\n",
      "SGD (71/99): loss=8.282803341850198e+48\t\t0.3832092078537576\n",
      "SGD (72/99): loss=3.4349839344916973e+50\t\t0.5917400135409614\n",
      "SGD (73/99): loss=5.661769270216508e+53\t\t0.3764387271496276\n",
      "SGD (74/99): loss=5.5868095903179316e+53\t\t0.4631008801624915\n",
      "SGD (75/99): loss=5.025780218659698e+53\t\t0.5409614082599865\n",
      "SGD (76/99): loss=1.2369672956688747e+54\t\t0.5044008124576845\n",
      "SGD (77/99): loss=2.012530731359645e+54\t\t0.5240352064996615\n",
      "SGD (78/99): loss=5.632491505265596e+55\t\t0.4245091401489506\n",
      "SGD (79/99): loss=1.1380808387525578e+57\t\t0.5538253215978335\n",
      "SGD (80/99): loss=5.13248013449302e+58\t\t0.3947190250507786\n",
      "SGD (81/99): loss=7.720885145376256e+58\t\t0.3811780636425186\n",
      "SGD (82/99): loss=1.016918475266409e+60\t\t0.5165876777251185\n",
      "SGD (83/99): loss=1.1459966367868789e+60\t\t0.5321597833446174\n",
      "SGD (84/99): loss=6.799406259671735e+61\t\t0.3913337846987136\n",
      "SGD (85/99): loss=1.3409572078455599e+63\t\t0.5964793500338524\n",
      "SGD (86/99): loss=3.315816395480883e+64\t\t0.5355450236966824\n",
      "SGD (87/99): loss=3.237291426264388e+64\t\t0.5355450236966824\n",
      "SGD (88/99): loss=2.3222901249859855e+65\t\t0.3960731211916046\n",
      "SGD (89/99): loss=3.833670879320931e+65\t\t0.5104942450914015\n",
      "SGD (90/99): loss=8.725428213416975e+65\t\t0.47393364928909953\n",
      "SGD (91/99): loss=7.738735589709079e+65\t\t0.4888287068381855\n",
      "SGD (92/99): loss=9.221088326661237e+65\t\t0.45362220717670954\n",
      "SGD (93/99): loss=9.856960465265224e+65\t\t0.4617467840216655\n",
      "SGD (94/99): loss=1.7310977435435625e+66\t\t0.42247799593771157\n",
      "SGD (95/99): loss=2.7430887309023562e+66\t\t0.48408937034529453\n",
      "SGD (96/99): loss=1.9568518372740942e+68\t\t0.5788761002031144\n",
      "SGD (97/99): loss=3.9356792697189916e+68\t\t0.5368991198375085\n",
      "SGD (98/99): loss=4.2160568986531477e+68\t\t0.5619498984427894\n",
      "SGD (99/99): loss=1.5959937300301776e+69\t\t0.5260663507109005\n"
     ]
    }
   ],
   "source": [
    "w, loss = least_squares_SGD(y_, x_, initial_w, 100, 0.5)"
   ]
  },
  {
   "cell_type": "markdown",
   "metadata": {},
   "source": [
    "## Least squares"
   ]
  },
  {
   "cell_type": "code",
   "execution_count": 490,
   "metadata": {},
   "outputs": [
    {
     "name": "stdout",
     "output_type": "stream",
     "text": [
      "Rank: 28\n"
     ]
    },
    {
     "data": {
      "text/plain": [
       "(28, 1)"
      ]
     },
     "execution_count": 490,
     "metadata": {},
     "output_type": "execute_result"
    }
   ],
   "source": [
    "w, loss = least_squares(y_, x_)\n",
    "w.shape"
   ]
  },
  {
   "cell_type": "markdown",
   "metadata": {},
   "source": [
    "## Ridge regression"
   ]
  },
  {
   "cell_type": "code",
   "execution_count": 491,
   "metadata": {},
   "outputs": [
    {
     "data": {
      "text/plain": [
       "(28, 1)"
      ]
     },
     "execution_count": 491,
     "metadata": {},
     "output_type": "execute_result"
    }
   ],
   "source": [
    "w, loss = ridge_regression(y_, x_, 0.5)\n",
    "w.shape"
   ]
  },
  {
   "cell_type": "code",
   "execution_count": null,
   "metadata": {
    "collapsed": true
   },
   "outputs": [],
   "source": []
  },
  {
   "cell_type": "code",
   "execution_count": null,
   "metadata": {
    "collapsed": true
   },
   "outputs": [],
   "source": []
  },
  {
   "cell_type": "code",
   "execution_count": null,
   "metadata": {
    "collapsed": true
   },
   "outputs": [],
   "source": []
  },
  {
   "cell_type": "code",
   "execution_count": 296,
   "metadata": {
    "collapsed": true
   },
   "outputs": [],
   "source": [
    "x_, y_, ids_ = get_data_numjet(jet_num_x_dict, jet_num_y_dict, jet_num_ids_dict, 0, 1)"
   ]
  },
  {
   "cell_type": "code",
   "execution_count": 298,
   "metadata": {},
   "outputs": [
    {
     "name": "stdout",
     "output_type": "stream",
     "text": [
      "13:55:49 0/5225\n",
      "13:58:21 500/5225\n",
      "14:00:54 1000/5225\n",
      "14:03:29 1500/5225\n",
      "14:06:05 2000/5225\n",
      "14:08:38 2500/5225\n",
      "14:17:57 3000/5225\n",
      "14:20:43 3500/5225\n",
      "14:23:21 4000/5225\n",
      "14:25:57 4500/5225\n",
      "14:28:39 5000/5225\n"
     ]
    }
   ],
   "source": [
    "train_x, train_y, test_x, test_y = separate_set(x_, y_)\n",
    "pred_y = knn_predict(train_x, train_y, test_x, 100)"
   ]
  },
  {
   "cell_type": "code",
   "execution_count": 300,
   "metadata": {},
   "outputs": [
    {
     "name": "stdout",
     "output_type": "stream",
     "text": [
      "0.9483253588516747\n"
     ]
    }
   ],
   "source": [
    "correct_count = 0\n",
    "for index, yi in enumerate(test_y):\n",
    "    pred_yi = pred_y[index]\n",
    "    if pred_yi == yi:\n",
    "        correct_count += 1\n",
    "        \n",
    "print(correct_count / len(test_y))"
   ]
  },
  {
   "cell_type": "code",
   "execution_count": 286,
   "metadata": {
    "collapsed": true
   },
   "outputs": [],
   "source": [
    "def k_fold_cross_validation_knn(y, x, k, knn_k):\n",
    "    \"\"\"return the accuracy of ridge regression.\"\"\"\n",
    "\n",
    "    # Return the array of which indeces go in each k interval\n",
    "    k_indices = build_k_indices(y, k)\n",
    "\n",
    "    # Create empty lists for the accuracy test data\n",
    "    accuracy_te = []\n",
    "\n",
    "    # Loop through each interval\n",
    "    for i in range(0, k):\n",
    "\n",
    "        # get k'th subgroup in test, others in train:\n",
    "        x_test = x[k_indices[i]]\n",
    "        y_test = y[k_indices[i]]\n",
    "        x_train = np.array([]).reshape(0, x.shape[1])\n",
    "        y_train = np.array([]).reshape(0, 1)\n",
    "\n",
    "        for j in range(0, k):\n",
    "            # If the index interval is different from test, put it in train\n",
    "            if j != i:\n",
    "                x_train = np.concatenate((x_train, x[k_indices[j]]))\n",
    "                y_train = np.concatenate((y_train, y[k_indices[j]]))\n",
    "\n",
    "        # KNN:\n",
    "        pred_y = knn_predict(x_train, y_train, x_test, 100)\n",
    "        \n",
    "        # Calculate the accuracy\n",
    "        correct_count = 0\n",
    "        for index, yi in enumerate(y_test):\n",
    "            pred_yi = pred_y[index]\n",
    "            if pred_yi == yi:\n",
    "                correct_count += 1\n",
    "        accuracy = correct_count / len(y_test)\n",
    "\n",
    "        # Append it to the list\n",
    "        accuracy_te.append(accuracy)\n",
    "\n",
    "    return np.mean(accuracy_te)"
   ]
  },
  {
   "cell_type": "code",
   "execution_count": 297,
   "metadata": {},
   "outputs": [
    {
     "name": "stdout",
     "output_type": "stream",
     "text": [
      "13:52:54 0/5224\n",
      "13:55:27 500/5224\n"
     ]
    },
    {
     "ename": "KeyboardInterrupt",
     "evalue": "",
     "output_type": "error",
     "traceback": [
      "\u001b[1;31m---------------------------------------------------------------------------\u001b[0m",
      "\u001b[1;31mKeyboardInterrupt\u001b[0m                         Traceback (most recent call last)",
      "\u001b[1;32m<ipython-input-297-76dc3e2a58f1>\u001b[0m in \u001b[0;36m<module>\u001b[1;34m()\u001b[0m\n\u001b[1;32m----> 1\u001b[1;33m \u001b[0mk_fold_cross_validation_knn\u001b[0m\u001b[1;33m(\u001b[0m\u001b[0my_\u001b[0m\u001b[1;33m,\u001b[0m \u001b[0mx_\u001b[0m\u001b[1;33m,\u001b[0m \u001b[1;36m5\u001b[0m\u001b[1;33m,\u001b[0m \u001b[1;36m100\u001b[0m\u001b[1;33m)\u001b[0m\u001b[1;33m\u001b[0m\u001b[0m\n\u001b[0m",
      "\u001b[1;32m<ipython-input-286-69c185eb25b5>\u001b[0m in \u001b[0;36mk_fold_cross_validation_knn\u001b[1;34m(y, x, k, knn_k)\u001b[0m\n\u001b[0;32m     24\u001b[0m \u001b[1;33m\u001b[0m\u001b[0m\n\u001b[0;32m     25\u001b[0m         \u001b[1;31m# KNN:\u001b[0m\u001b[1;33m\u001b[0m\u001b[1;33m\u001b[0m\u001b[0m\n\u001b[1;32m---> 26\u001b[1;33m         \u001b[0mpred_y\u001b[0m \u001b[1;33m=\u001b[0m \u001b[0mknn_predict\u001b[0m\u001b[1;33m(\u001b[0m\u001b[0mx_train\u001b[0m\u001b[1;33m,\u001b[0m \u001b[0my_train\u001b[0m\u001b[1;33m,\u001b[0m \u001b[0mx_test\u001b[0m\u001b[1;33m,\u001b[0m \u001b[1;36m100\u001b[0m\u001b[1;33m)\u001b[0m\u001b[1;33m\u001b[0m\u001b[0m\n\u001b[0m\u001b[0;32m     27\u001b[0m \u001b[1;33m\u001b[0m\u001b[0m\n\u001b[0;32m     28\u001b[0m         \u001b[0mcorrect_count\u001b[0m \u001b[1;33m=\u001b[0m \u001b[1;36m0\u001b[0m\u001b[1;33m\u001b[0m\u001b[0m\n",
      "\u001b[1;32mC:\\Users\\Coac\\Documents\\PersonalProjects\\epfl\\epfl-ml-projects\\epfl-ml-project1\\knn.py\u001b[0m in \u001b[0;36mknn_predict\u001b[1;34m(x, y, x_to_predict, k)\u001b[0m\n\u001b[0;32m     14\u001b[0m         \u001b[0mdistances\u001b[0m \u001b[1;33m=\u001b[0m \u001b[1;33m[\u001b[0m\u001b[1;33m]\u001b[0m\u001b[1;33m\u001b[0m\u001b[0m\n\u001b[0;32m     15\u001b[0m         \u001b[1;32mfor\u001b[0m \u001b[0mindex\u001b[0m\u001b[1;33m,\u001b[0m \u001b[0mxi\u001b[0m \u001b[1;32min\u001b[0m \u001b[0menumerate\u001b[0m\u001b[1;33m(\u001b[0m\u001b[0mx\u001b[0m\u001b[1;33m)\u001b[0m\u001b[1;33m:\u001b[0m\u001b[1;33m\u001b[0m\u001b[0m\n\u001b[1;32m---> 16\u001b[1;33m             \u001b[0mdist\u001b[0m \u001b[1;33m=\u001b[0m \u001b[0meuclidean_distance\u001b[0m\u001b[1;33m(\u001b[0m\u001b[0mxi\u001b[0m\u001b[1;33m,\u001b[0m \u001b[0mnot_label_x\u001b[0m\u001b[1;33m)\u001b[0m\u001b[1;33m\u001b[0m\u001b[0m\n\u001b[0m\u001b[0;32m     17\u001b[0m             \u001b[0mdistances\u001b[0m\u001b[1;33m.\u001b[0m\u001b[0mappend\u001b[0m\u001b[1;33m(\u001b[0m\u001b[1;33m(\u001b[0m\u001b[0mindex\u001b[0m\u001b[1;33m,\u001b[0m \u001b[0mdist\u001b[0m\u001b[1;33m)\u001b[0m\u001b[1;33m)\u001b[0m\u001b[1;33m\u001b[0m\u001b[0m\n\u001b[0;32m     18\u001b[0m \u001b[1;33m\u001b[0m\u001b[0m\n",
      "\u001b[1;32mC:\\Users\\Coac\\Documents\\PersonalProjects\\epfl\\epfl-ml-projects\\epfl-ml-project1\\knn.py\u001b[0m in \u001b[0;36meuclidean_distance\u001b[1;34m(x1, x2)\u001b[0m\n\u001b[0;32m      5\u001b[0m     \u001b[0mdistance\u001b[0m \u001b[1;33m=\u001b[0m \u001b[1;36m0\u001b[0m\u001b[1;33m\u001b[0m\u001b[0m\n\u001b[0;32m      6\u001b[0m     \u001b[1;32mfor\u001b[0m \u001b[0mcol\u001b[0m \u001b[1;32min\u001b[0m \u001b[0mrange\u001b[0m\u001b[1;33m(\u001b[0m\u001b[0mlen\u001b[0m\u001b[1;33m(\u001b[0m\u001b[0mx1\u001b[0m\u001b[1;33m)\u001b[0m\u001b[1;33m)\u001b[0m\u001b[1;33m:\u001b[0m\u001b[1;33m\u001b[0m\u001b[0m\n\u001b[1;32m----> 7\u001b[1;33m         \u001b[0mdistance\u001b[0m \u001b[1;33m+=\u001b[0m \u001b[0mpow\u001b[0m\u001b[1;33m(\u001b[0m\u001b[1;33m(\u001b[0m\u001b[0mx1\u001b[0m\u001b[1;33m[\u001b[0m\u001b[0mcol\u001b[0m\u001b[1;33m]\u001b[0m \u001b[1;33m-\u001b[0m \u001b[0mx2\u001b[0m\u001b[1;33m[\u001b[0m\u001b[0mcol\u001b[0m\u001b[1;33m]\u001b[0m\u001b[1;33m)\u001b[0m\u001b[1;33m,\u001b[0m \u001b[1;36m2\u001b[0m\u001b[1;33m)\u001b[0m\u001b[1;33m\u001b[0m\u001b[0m\n\u001b[0m\u001b[0;32m      8\u001b[0m     \u001b[1;32mreturn\u001b[0m \u001b[0mmath\u001b[0m\u001b[1;33m.\u001b[0m\u001b[0msqrt\u001b[0m\u001b[1;33m(\u001b[0m\u001b[0mdistance\u001b[0m\u001b[1;33m)\u001b[0m\u001b[1;33m\u001b[0m\u001b[0m\n\u001b[0;32m      9\u001b[0m \u001b[1;33m\u001b[0m\u001b[0m\n",
      "\u001b[1;31mKeyboardInterrupt\u001b[0m: "
     ]
    }
   ],
   "source": [
    "k_fold_cross_validation_knn(y_, x_, 5, 100)"
   ]
  },
  {
   "cell_type": "code",
   "execution_count": null,
   "metadata": {
    "collapsed": true
   },
   "outputs": [],
   "source": [
    "# 3.1 work better"
   ]
  },
  {
   "cell_type": "code",
   "execution_count": 327,
   "metadata": {},
   "outputs": [
    {
     "ename": "TypeError",
     "evalue": "'int' object is not iterable",
     "output_type": "error",
     "traceback": [
      "\u001b[1;31m---------------------------------------------------------------------------\u001b[0m",
      "\u001b[1;31mTypeError\u001b[0m                                 Traceback (most recent call last)",
      "\u001b[1;32m<ipython-input-327-d07ef0330b26>\u001b[0m in \u001b[0;36m<module>\u001b[1;34m()\u001b[0m\n\u001b[1;32m----> 1\u001b[1;33m \u001b[0mx3\u001b[0m\u001b[1;33m,\u001b[0m \u001b[0my3\u001b[0m\u001b[1;33m,\u001b[0m \u001b[0mids3\u001b[0m \u001b[1;33m=\u001b[0m \u001b[0mremove_NaN\u001b[0m\u001b[1;33m(\u001b[0m\u001b[0mx\u001b[0m\u001b[1;33m,\u001b[0m \u001b[0my\u001b[0m\u001b[1;33m,\u001b[0m \u001b[0mids\u001b[0m\u001b[1;33m,\u001b[0m \u001b[0mdelete_columns\u001b[0m\u001b[1;33m=\u001b[0m\u001b[1;32mTrue\u001b[0m\u001b[1;33m,\u001b[0m \u001b[0mdelete_rows\u001b[0m\u001b[1;33m=\u001b[0m\u001b[1;32mFalse\u001b[0m\u001b[1;33m)\u001b[0m\u001b[1;33m\u001b[0m\u001b[0m\n\u001b[0m\u001b[0;32m      2\u001b[0m \u001b[0mlogistic_regression\u001b[0m\u001b[1;33m(\u001b[0m\u001b[0my3\u001b[0m\u001b[1;33m,\u001b[0m \u001b[0mx3\u001b[0m\u001b[1;33m,\u001b[0m \u001b[0mnp\u001b[0m\u001b[1;33m.\u001b[0m\u001b[0mzeros\u001b[0m\u001b[1;33m(\u001b[0m\u001b[1;33m(\u001b[0m\u001b[0mx3\u001b[0m\u001b[1;33m.\u001b[0m\u001b[0mshape\u001b[0m\u001b[1;33m[\u001b[0m\u001b[1;36m1\u001b[0m\u001b[1;33m]\u001b[0m\u001b[1;33m,\u001b[0m \u001b[1;36m1\u001b[0m\u001b[1;33m)\u001b[0m\u001b[1;33m)\u001b[0m\u001b[1;33m,\u001b[0m \u001b[1;36m1000\u001b[0m\u001b[1;33m,\u001b[0m \u001b[1;36m0.1\u001b[0m\u001b[1;33m)\u001b[0m\u001b[1;33m\u001b[0m\u001b[0m\n",
      "\u001b[1;32mC:\\Users\\Coac\\Documents\\PersonalProjects\\epfl\\epfl-ml-projects\\epfl-ml-project1\\pre_processing.py\u001b[0m in \u001b[0;36mremove_NaN\u001b[1;34m(x, y, ids, delete_columns, delete_rows)\u001b[0m\n\u001b[0;32m      9\u001b[0m \u001b[1;33m\u001b[0m\u001b[0m\n\u001b[0;32m     10\u001b[0m     \u001b[1;31m# If a sample is a NaN, add its column number and row number to the vector\u001b[0m\u001b[1;33m\u001b[0m\u001b[1;33m\u001b[0m\u001b[0m\n\u001b[1;32m---> 11\u001b[1;33m     \u001b[1;32mfor\u001b[0m \u001b[0mrow_index\u001b[0m\u001b[1;33m,\u001b[0m \u001b[0mrow\u001b[0m \u001b[1;32min\u001b[0m \u001b[0menumerate\u001b[0m\u001b[1;33m(\u001b[0m\u001b[0mx\u001b[0m\u001b[1;33m)\u001b[0m\u001b[1;33m:\u001b[0m\u001b[1;33m\u001b[0m\u001b[0m\n\u001b[0m\u001b[0;32m     12\u001b[0m         \u001b[1;32mfor\u001b[0m \u001b[0mcol_index\u001b[0m\u001b[1;33m,\u001b[0m \u001b[0mfeature\u001b[0m \u001b[1;32min\u001b[0m \u001b[0menumerate\u001b[0m\u001b[1;33m(\u001b[0m\u001b[0mrow\u001b[0m\u001b[1;33m)\u001b[0m\u001b[1;33m:\u001b[0m\u001b[1;33m\u001b[0m\u001b[0m\n\u001b[0;32m     13\u001b[0m             \u001b[1;32mif\u001b[0m \u001b[0mfeature\u001b[0m \u001b[1;33m==\u001b[0m \u001b[1;33m-\u001b[0m\u001b[1;36m999\u001b[0m\u001b[1;33m:\u001b[0m\u001b[1;33m\u001b[0m\u001b[0m\n",
      "\u001b[1;31mTypeError\u001b[0m: 'int' object is not iterable"
     ]
    }
   ],
   "source": [
    "x3, y3, ids3 = remove_NaN(x, y, ids, delete_columns=True, delete_rows=False)\n",
    "logistic_regression(y3, x3, np.zeros((x3.shape[1], 1)), 1000, 0.1)\n"
   ]
  },
  {
   "cell_type": "code",
   "execution_count": null,
   "metadata": {
    "collapsed": true
   },
   "outputs": [],
   "source": []
  }
 ],
 "metadata": {
  "kernelspec": {
   "display_name": "Python [conda root]",
   "language": "python",
   "name": "conda-root-py"
  },
  "language_info": {
   "codemirror_mode": {
    "name": "ipython",
    "version": 3
   },
   "file_extension": ".py",
   "mimetype": "text/x-python",
   "name": "python",
   "nbconvert_exporter": "python",
   "pygments_lexer": "ipython3",
   "version": "3.6.1"
  }
 },
 "nbformat": 4,
 "nbformat_minor": 2
}
