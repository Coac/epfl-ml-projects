{
 "cells": [
  {
   "cell_type": "code",
   "execution_count": 1,
   "metadata": {},
   "outputs": [],
   "source": [
    "%matplotlib inline\n",
    "import matplotlib.pyplot as plt\n",
    "import numpy as np\n",
    "import random\n",
    "from datetime import datetime\n",
    "from helpers import *\n",
    "from costs import *\n",
    "from gradient_descent import *\n",
    "from stochastic_gradient_descent import *\n",
    "from features_engineering import *\n",
    "from cross_validation import *\n",
    "from pre_processing import *\n",
    "from group_by import *\n",
    "\n",
    "%load_ext autoreload\n",
    "%autoreload 2"
   ]
  },
  {
   "cell_type": "code",
   "execution_count": 2,
   "metadata": {
    "collapsed": true
   },
   "outputs": [],
   "source": [
    "y, x, ids = load_csv_data(data_path=\"datas/train.csv\", sub_sample=False)"
   ]
  },
  {
   "cell_type": "code",
   "execution_count": 3,
   "metadata": {
    "collapsed": true
   },
   "outputs": [],
   "source": [
    "submission_y, submission_x, submission_ids = load_csv_data(data_path=\"datas/test.csv\", sub_sample=False)"
   ]
  },
  {
   "cell_type": "code",
   "execution_count": 4,
   "metadata": {},
   "outputs": [
    {
     "name": "stdout",
     "output_type": "stream",
     "text": [
      "0 (227458, 30) (227458,) (227458,)\n",
      "1 (175338, 30) (175338,) (175338,)\n",
      "2 (114648, 30) (114648,) (114648,)\n",
      "3 (50794, 30) (50794,) (50794,)\n",
      "num_jet: 0\n",
      "(0, 4, 5, 6, 12, 23, 24, 25, 26, 27, 28) (59263, 19) (59263, 1) (59263, 1)\n",
      "(4, 5, 6, 12, 23, 24, 25, 26, 27, 28) (168195, 20) (168195, 1) (168195, 1)\n",
      "\tRemove col : \n",
      "\t (0, 4, 5, 6, 12, 23, 24, 25, 26, 27, 28) 17 [ 0.  0.  0. ...,  0.  0.  0.]\n",
      "\t (0, 4, 5, 6, 12, 23, 24, 25, 26, 27, 28) 18 [ 0.  0.  0. ...,  0.  0.  0.]\n",
      "\t (4, 5, 6, 12, 23, 24, 25, 26, 27, 28) 18 [ 0.  0.  0. ...,  0.  0.  0.]\n",
      "\t (4, 5, 6, 12, 23, 24, 25, 26, 27, 28) 19 [ 0.  0.  0. ...,  0.  0.  0.]\n",
      "num_jet: 1\n",
      "(4, 5, 6, 12, 26, 27, 28) (158095, 23) (158095, 1) (158095, 1)\n",
      "(0, 4, 5, 6, 12, 26, 27, 28) (17243, 22) (17243, 1) (17243, 1)\n",
      "\tRemove col : \n",
      "\t (4, 5, 6, 12, 26, 27, 28) 18 [ 1.  1.  1. ...,  1.  1.  1.]\n",
      "\t (0, 4, 5, 6, 12, 26, 27, 28) 17 [ 1.  1.  1. ...,  1.  1.  1.]\n",
      "num_jet: 2\n",
      "() (107905, 30) (107905, 1) (107905, 1)\n",
      "(0,) (6743, 29) (6743, 1) (6743, 1)\n",
      "\tRemove col : \n",
      "\t () 22 [ 2.  2.  2. ...,  2.  2.  2.]\n",
      "\t (0,) 21 [ 2.  2.  2. ...,  2.  2.  2.]\n",
      "num_jet: 3\n",
      "() (47555, 30) (47555, 1) (47555, 1)\n",
      "(0,) (3239, 29) (3239, 1) (3239, 1)\n",
      "\tRemove col : \n",
      "\t () 22 [ 3.  3.  3. ...,  3.  3.  3.]\n",
      "\t (0,) 21 [ 3.  3.  3. ...,  3.  3.  3.]\n"
     ]
    }
   ],
   "source": [
    "sub_jet_num_x_dict, sub_jet_num_y_dict, sub_jet_num_ids_dict = group_by_jetnum_NaN(submission_x, submission_y, submission_ids)"
   ]
  },
  {
   "cell_type": "code",
   "execution_count": 5,
   "metadata": {},
   "outputs": [
    {
     "name": "stdout",
     "output_type": "stream",
     "text": [
      "0 (99913, 30) (99913,) (99913,)\n",
      "1 (77544, 30) (77544,) (77544,)\n",
      "2 (50379, 30) (50379,) (50379,)\n",
      "3 (22164, 30) (22164,) (22164,)\n",
      "num_jet: 0\n",
      "(4, 5, 6, 12, 23, 24, 25, 26, 27, 28) (73790, 20) (73790, 1) (73790, 1)\n",
      "(0, 4, 5, 6, 12, 23, 24, 25, 26, 27, 28) (26123, 19) (26123, 1) (26123, 1)\n",
      "\tRemove col : \n",
      "\t (4, 5, 6, 12, 23, 24, 25, 26, 27, 28) 18 [ 0.  0.  0. ...,  0.  0.  0.]\n",
      "\t (4, 5, 6, 12, 23, 24, 25, 26, 27, 28) 19 [ 0.  0.  0. ...,  0.  0.  0.]\n",
      "\t (0, 4, 5, 6, 12, 23, 24, 25, 26, 27, 28) 17 [ 0.  0.  0. ...,  0.  0.  0.]\n",
      "\t (0, 4, 5, 6, 12, 23, 24, 25, 26, 27, 28) 18 [ 0.  0.  0. ...,  0.  0.  0.]\n",
      "num_jet: 1\n",
      "(4, 5, 6, 12, 26, 27, 28) (69982, 23) (69982, 1) (69982, 1)\n",
      "(0, 4, 5, 6, 12, 26, 27, 28) (7562, 22) (7562, 1) (7562, 1)\n",
      "\tRemove col : \n",
      "\t (4, 5, 6, 12, 26, 27, 28) 18 [ 1.  1.  1. ...,  1.  1.  1.]\n",
      "\t (0, 4, 5, 6, 12, 26, 27, 28) 17 [ 1.  1.  1. ...,  1.  1.  1.]\n",
      "num_jet: 2\n",
      "() (47427, 30) (47427, 1) (47427, 1)\n",
      "(0,) (2952, 29) (2952, 1) (2952, 1)\n",
      "\tRemove col : \n",
      "\t () 22 [ 2.  2.  2. ...,  2.  2.  2.]\n",
      "\t (0,) 21 [ 2.  2.  2. ...,  2.  2.  2.]\n",
      "num_jet: 3\n",
      "() (20687, 30) (20687, 1) (20687, 1)\n",
      "(0,) (1477, 29) (1477, 1) (1477, 1)\n",
      "\tRemove col : \n",
      "\t () 22 [ 3.  3.  3. ...,  3.  3.  3.]\n",
      "\t (0,) 21 [ 3.  3.  3. ...,  3.  3.  3.]\n"
     ]
    }
   ],
   "source": [
    "jet_num_x_dict, jet_num_y_dict, jet_num_ids_dict = group_by_jetnum_NaN(x, y, ids)"
   ]
  },
  {
   "cell_type": "code",
   "execution_count": null,
   "metadata": {
    "collapsed": true
   },
   "outputs": [],
   "source": [
    "# Idea : Unbalance data\n",
    "# Check misclassified data\n",
    "\n",
    "# Need to test on two group of data\n"
   ]
  },
  {
   "cell_type": "code",
   "execution_count": null,
   "metadata": {
    "collapsed": true
   },
   "outputs": [],
   "source": [
    "len(submission_ids) "
   ]
  },
  {
   "cell_type": "code",
   "execution_count": null,
   "metadata": {
    "collapsed": true
   },
   "outputs": [],
   "source": [
    "_, x2, _ = load_csv_data(data_path=\"datas/test.csv\", sub_sample=False)\n",
    "print(proportion_of_NaN(x2) - proportion_of_NaN(x))"
   ]
  },
  {
   "cell_type": "code",
   "execution_count": null,
   "metadata": {
    "collapsed": true
   },
   "outputs": [],
   "source": [
    "proportion_of_NaN(x)"
   ]
  },
  {
   "cell_type": "code",
   "execution_count": null,
   "metadata": {
    "collapsed": true,
    "scrolled": false
   },
   "outputs": [],
   "source": [
    "w_init = np.random.rand(x.shape[1])\n",
    "w, loss = least_squares_GD(train_y, train_x, w_init, max_iters=100, gamma=0.3)"
   ]
  },
  {
   "cell_type": "code",
   "execution_count": null,
   "metadata": {
    "collapsed": true
   },
   "outputs": [],
   "source": [
    "w, loss = least_squares_SGD(train_y, train_x, w_init, 100, gamma=0.01)"
   ]
  },
  {
   "cell_type": "code",
   "execution_count": null,
   "metadata": {
    "collapsed": true
   },
   "outputs": [],
   "source": [
    "get_accuracy(test_x, test_y, w)"
   ]
  },
  {
   "cell_type": "code",
   "execution_count": null,
   "metadata": {
    "collapsed": true
   },
   "outputs": [],
   "source": [
    "_, submission_x, submission_ids = load_csv_data(data_path=\"datas/test.csv\", sub_sample=False)\n",
    "submission_x = submission_x[:, :15] # Removed all the primary\n",
    "submission_x = preprocess_data(submission_x)\n",
    "\n",
    "submission_x = build_polynomial(submission_x, 6)\n",
    "submission_x = build_combinations_lvl(submission_x, 2)\n",
    "submission_x = build_combinations_lvl(submission_x, 3)\n",
    "submission_x = build_combinations_lvl(submission_x, 4)\n",
    "submission_x = build_combinations_lvl(submission_x, 5)\n",
    "submission_x = build_combinations_lvl(submission_x, 6)\n",
    "submission_x = build_combinations_lvl(submission_x, 7)\n",
    "submission_x = build_combinations_lvl(submission_x, 8)\n",
    "\n",
    "pred_y = predict_labels(w, submission_x)"
   ]
  },
  {
   "cell_type": "code",
   "execution_count": null,
   "metadata": {
    "collapsed": true
   },
   "outputs": [],
   "source": [
    "create_csv_submission(submission_ids, submission_y, \"datas/submission.csv\")\n",
    "print('Done !')\n"
   ]
  },
  {
   "cell_type": "code",
   "execution_count": null,
   "metadata": {
    "collapsed": true
   },
   "outputs": [],
   "source": [
    "import itertools\n",
    "import numpy as np\n",
    "import matplotlib.pyplot as plt\n",
    "\n",
    "# https://stackoverflow.com/a/7941594/4810319\n",
    "def main():\n",
    "    np.random.seed(1977)\n",
    "    numvars, numdata = 5, 100\n",
    "    data = 10 * np.random.random((numvars, numdata))\n",
    "    data = x[0:300, 0:7].T\n",
    "    print(x[0:200, 7])\n",
    "    fig = scatterplot_matrix(data, ['DER_mass_MMC', 'DER_mass_transverse_met_lep', 'DER_mass_vis', 'DER_pt_h', 'DER_deltaeta_jet_jet', 'DER_mass_jet_jet', 'DER_prodeta_jet_jet'],\n",
    "            linestyle='none', marker='o', color='black', mfc='none')\n",
    "    fig.suptitle('Simple Scatterplot Matrix')\n",
    "    plt.show()\n",
    "\n",
    "def scatterplot_matrix(data, names, **kwargs):\n",
    "    \"\"\"Plots a scatterplot matrix of subplots.  Each row of \"data\" is plotted\n",
    "    against other rows, resulting in a nrows by nrows grid of subplots with the\n",
    "    diagonal subplots labeled with \"names\".  Additional keyword arguments are\n",
    "    passed on to matplotlib's \"plot\" command. Returns the matplotlib figure\n",
    "    object containg the subplot grid.\"\"\"\n",
    "    numvars, numdata = data.shape\n",
    "    fig, axes = plt.subplots(nrows=numvars, ncols=numvars, figsize=(8,8))\n",
    "    fig.subplots_adjust(hspace=0.05, wspace=0.05)\n",
    "\n",
    "    for ax in axes.flat:\n",
    "        # Hide all ticks and labels\n",
    "        ax.xaxis.set_visible(False)\n",
    "        ax.yaxis.set_visible(False)\n",
    "\n",
    "        # Set up ticks only on one side for the \"edge\" subplots...\n",
    "        if ax.is_first_col():\n",
    "            ax.yaxis.set_ticks_position('left')\n",
    "        if ax.is_last_col():\n",
    "            ax.yaxis.set_ticks_position('right')\n",
    "        if ax.is_first_row():\n",
    "            ax.xaxis.set_ticks_position('top')\n",
    "        if ax.is_last_row():\n",
    "            ax.xaxis.set_ticks_position('bottom')\n",
    "\n",
    "    # Plot the data.\n",
    "    for i, j in zip(*np.triu_indices_from(axes, k=1)):\n",
    "        for x, y in [(i,j), (j,i)]:\n",
    "            axes[x,y].plot(data[x], data[y], **kwargs)\n",
    "\n",
    "    # Label the diagonal subplots...\n",
    "    for i, label in enumerate(names):\n",
    "        axes[i,i].annotate(label, (0.5, 0.5), xycoords='axes fraction',\n",
    "                ha='center', va='center')\n",
    "\n",
    "    # Turn on the proper x or y axes ticks.\n",
    "    for i, j in zip(range(numvars), itertools.cycle((-1, 0))):\n",
    "        axes[j,i].xaxis.set_visible(True)\n",
    "        axes[i,j].yaxis.set_visible(True)\n",
    "\n",
    "    return fig\n",
    "\n",
    "main()"
   ]
  },
  {
   "cell_type": "code",
   "execution_count": null,
   "metadata": {
    "collapsed": true
   },
   "outputs": [],
   "source": [
    "# Feature engineering (Add more features)\n",
    "polynomial_x = x\n",
    "# polynomial_x = build_polynomial(polynomial_x, 6)\n",
    "# polynomial_x = build_combinations_lvl(polynomial_x, 2)\n",
    "# polynomial_x = build_combinations_lvl(polynomial_x, 3)\n",
    "# polynomial_x = build_combinations_lvl(polynomial_x, 4)\n",
    "# polynomial_x = build_combinations_lvl(polynomial_x, 5)\n",
    "# polynomial_x = build_combinations_lvl(polynomial_x, 6)\n",
    "# polynomial_x = build_combinations_lvl(polynomial_x, 7)\n",
    "# polynomial_x = build_combinations_lvl(polynomial_x, 8)\n",
    "\n",
    "train_x, train_y, test_x, test_y = separate_set(polynomial_x, y)\n",
    "\n",
    "polynomial_x.shape"
   ]
  },
  {
   "cell_type": "code",
   "execution_count": 316,
   "metadata": {},
   "outputs": [
    {
     "name": "stdout",
     "output_type": "stream",
     "text": [
      "250000 250000\n"
     ]
    },
    {
     "data": {
      "text/plain": [
       "0.84052800000000005"
      ]
     },
     "execution_count": 316,
     "metadata": {},
     "output_type": "execute_result"
    }
   ],
   "source": [
    "def get_accuracy_ids(result_y, result_ids, y, ids):\n",
    "    stacked = np.column_stack((ids, y))\n",
    "    stacked = stacked[stacked[:,0].argsort()]\n",
    "    stacked_pred = np.column_stack((result_ids, result_y))\n",
    "    stacked_pred = stacked_pred[stacked_pred[:,0].argsort()]\n",
    "    \n",
    "    print(len(stacked_pred), len(stacked))\n",
    "    unique, counts = np.unique((stacked == stacked_pred)[:, 1], return_counts=True)\n",
    "    return dict(zip(unique, counts))[True] / len(y)\n",
    "\n",
    "get_accuracy_ids(result_y, result_ids, y, ids)"
   ]
  },
  {
   "cell_type": "code",
   "execution_count": null,
   "metadata": {
    "collapsed": true
   },
   "outputs": [],
   "source": []
  },
  {
   "cell_type": "code",
   "execution_count": 15,
   "metadata": {
    "collapsed": true
   },
   "outputs": [],
   "source": [
    "submission_stacked = np.column_stack((submission_ids, submission_y))\n",
    "submission_stacked = submission_stacked[submission_stacked[:,0].argsort()]\n"
   ]
  },
  {
   "cell_type": "code",
   "execution_count": 16,
   "metadata": {},
   "outputs": [
    {
     "name": "stdout",
     "output_type": "stream",
     "text": [
      "Done !\n"
     ]
    }
   ],
   "source": [
    "create_csv_submission(submission_stacked[:,0], submission_stacked[:,1], \"datas/submission.csv\")\n",
    "print('Done !')"
   ]
  },
  {
   "cell_type": "code",
   "execution_count": null,
   "metadata": {
    "collapsed": true
   },
   "outputs": [],
   "source": []
  },
  {
   "cell_type": "code",
   "execution_count": 6,
   "metadata": {
    "collapsed": true
   },
   "outputs": [],
   "source": [
    "def build_k_indices(y, k_fold, seed=1):\n",
    "    \"\"\"build k indices for k-fold.\"\"\"\n",
    "    num_row = y.shape[0]\n",
    "    interval = int(num_row / k_fold)\n",
    "    np.random.seed(seed)\n",
    "    indices = np.random.permutation(num_row)\n",
    "    k_indices = [indices[k * interval: (k + 1) * interval]\n",
    "                 for k in range(k_fold)]\n",
    "    return np.array(k_indices)\n",
    "\n",
    "def k_fold_cross_validation(y, x, k, lambda_, predict_threshold=0):\n",
    "    \"\"\"return the accuracy of ridge regression.\"\"\"\n",
    "    \n",
    "    k_indices = build_k_indices(y, k)\n",
    "    accuracy_tr = []\n",
    "    accuracy_te = []\n",
    "    \n",
    "    accuracy_tr = []\n",
    "    accuracy_te = []\n",
    "\n",
    "    for i in range(0, k):\n",
    "        i = 0\n",
    "        \n",
    "        # get k'th subgroup in test, others in train:\n",
    "        x_test = x[k_indices[i]]\n",
    "        y_test = y[k_indices[i]]\n",
    "        x_train = np.array([]).reshape(0, x.shape[1])\n",
    "        y_train = np.array([]).reshape(0, 1)\n",
    "\n",
    "        for j in range(0, k):\n",
    "            if j != i:\n",
    "                x_train = np.concatenate((x_train, x[k_indices[j]]))\n",
    "                y_train = np.concatenate((y_train, y[k_indices[j]]))\n",
    "\n",
    "        # ridge regression:\n",
    "        w, loss = ridge_regression(y_train, x_train, lambda_)\n",
    "\n",
    "        # calculate the loss for train and test data\n",
    "        accuracy_tr.append(get_accuracy(x_train, y_train, w, predict_threshold))\n",
    "        accuracy_te.append(get_accuracy(x_test, y_test, w, predict_threshold))\n",
    "\n",
    "    return np.mean(accuracy_tr), np.mean(accuracy_te)"
   ]
  },
  {
   "cell_type": "code",
   "execution_count": null,
   "metadata": {
    "collapsed": true
   },
   "outputs": [],
   "source": [
    "k = 5\n",
    "lambda_ = 0.0001\n",
    "k_fold_cross_validation(y, x, k, lambda_)"
   ]
  },
  {
   "cell_type": "code",
   "execution_count": null,
   "metadata": {
    "collapsed": true
   },
   "outputs": [],
   "source": [
    "def cross_validation_visualization(lambds, mse_tr, mse_te):\n",
    "    \"\"\"visualization the curves of mse_tr and mse_te.\"\"\"\n",
    "    plt.semilogx(lambds, mse_tr, marker=\".\", color='b', label='train')\n",
    "    plt.semilogx(lambds, mse_te, marker=\".\", color='r', label='test')\n",
    "    plt.xlabel(\"lambda\")\n",
    "    plt.ylabel(\"accuracy\")\n",
    "    plt.title(\"cross validation\")\n",
    "    plt.legend(loc=1)\n",
    "    plt.grid(True)\n",
    "    \n",
    "    \n",
    "rmse_tr = []\n",
    "rmse_te = []\n",
    "lambdas = np.logspace(-4, 0, 15)\n",
    "x_features = build_features(x)\n",
    "for lambda_ in lambdas:\n",
    "    loss_tr, loss_te = k_fold_cross_validation(y, x_features, 4, lambda_)\n",
    "    rmse_tr += [loss_tr] \n",
    "    rmse_te += [loss_te]\n",
    "cross_validation_visualization(lambdas, rmse_tr, rmse_te)\n",
    "\n",
    "    \n"
   ]
  },
  {
   "cell_type": "code",
   "execution_count": null,
   "metadata": {
    "collapsed": true
   },
   "outputs": [],
   "source": [
    "lambda_ = 0.00001\n",
    "train_x, train_y, test_x, test_y = separate_set(x, y)\n",
    "w, loss = ridge_regression(train_y, train_x, lambda_)\n",
    "get_accuracy(test_x, test_y, w)"
   ]
  },
  {
   "cell_type": "code",
   "execution_count": null,
   "metadata": {
    "collapsed": true
   },
   "outputs": [],
   "source": []
  },
  {
   "cell_type": "code",
   "execution_count": null,
   "metadata": {
    "collapsed": true
   },
   "outputs": [],
   "source": []
  },
  {
   "cell_type": "code",
   "execution_count": 13,
   "metadata": {
    "collapsed": true
   },
   "outputs": [],
   "source": [
    "def get_false(x, y, w, predict_threshold):\n",
    "    pred_y = predict_labels(w, x, predict_threshold)\n",
    "    false_count = 0\n",
    "    count_negatif = 0\n",
    "    for index, yi in enumerate(y):\n",
    "        pred_yi = pred_y[index]\n",
    "        if pred_yi != yi:\n",
    "            false_count += 1\n",
    "            if pred_yi == -1:\n",
    "                count_negatif += 1\n",
    "    \n",
    "    return count_negatif / false_count\n",
    "\n",
    "\n",
    "\n",
    "def get_data_numjet(jet_num_x_dict, jet_num_y_dict, jet_num_ids_dict, numjet, index):\n",
    "    removed_col_key = list(jet_num_x_dict[numjet])[index]\n",
    "    x = jet_num_x_dict[numjet][removed_col_key]\n",
    "    y = jet_num_y_dict[numjet][removed_col_key]\n",
    "    ids = jet_num_ids_dict[numjet][removed_col_key]\n",
    "    return x, y, ids\n",
    "\n",
    "def build_features(x, numjet, index):\n",
    "    if numjet == 0 and index == 0:\n",
    "        polynomial_x = normalize(x)\n",
    "        polynomial_x = build_polynomial2(polynomial_x, 3)\n",
    "        polynomial_x = build_combinations_lvl(polynomial_x, 2, 8)\n",
    "        polynomial_x = build_combinations_lvl(polynomial_x, 3, 8)\n",
    "        polynomial_x = build_combinations_lvl(polynomial_x, 4, 8)\n",
    "        polynomial_x = build_combinations_lvl(polynomial_x, 5, 8)\n",
    "        polynomial_x = build_combinations_lvl(polynomial_x, 6, 8)\n",
    "        polynomial_x = build_combinations_lvl(polynomial_x, 7, 8)\n",
    "    elif numjet == 0 and index == 1:\n",
    "        x_numjet0_index1 = normalize(x)\n",
    "        polynomial_x = x_numjet0_index1\n",
    "        polynomial_x = np.concatenate((polynomial_x, np.tanh(x_numjet0_index1)), axis=1)\n",
    "        polynomial_x = np.concatenate((polynomial_x, np.sqrt(np.abs(x_numjet0_index1))), axis=1)\n",
    "        polynomial_x = np.concatenate((polynomial_x, np.power(x_numjet0_index1, 2)), axis=1)\n",
    "        polynomial_x = np.concatenate((polynomial_x, np.power(np.tanh(x_numjet0_index1), 2)), axis=1)\n",
    "        polynomial_x = np.concatenate((polynomial_x, np.power(np.log(np.abs(x_numjet0_index1)), 2)), axis=1)\n",
    "    elif numjet == 1 and index == 1:\n",
    "        polynomial_x = normalize(x)\n",
    "        polynomial_x = build_polynomial(polynomial_x, 3)\n",
    "        polynomial_x = build_combinations_lvl(polynomial_x, 2, 10)\n",
    "        polynomial_x = build_combinations_lvl(polynomial_x, 3, 10)\n",
    "        polynomial_x = build_combinations_lvl(polynomial_x, 4, 10)\n",
    "        polynomial_x = build_combinations_lvl(polynomial_x, 5, 10)\n",
    "    elif numjet == 2 and index == 1:\n",
    "        polynomial_x = normalize(x)\n",
    "        polynomial_x = build_polynomial(polynomial_x, 2)\n",
    "        polynomial_x = build_combinations_lvl(polynomial_x, 2, 10)\n",
    "        polynomial_x = build_combinations_lvl(polynomial_x, 3, 10)\n",
    "        polynomial_x = build_combinations_lvl(polynomial_x, 4, 10)\n",
    "        polynomial_x = build_combinations_lvl(polynomial_x, 5, 10)\n",
    "    elif numjet == 3 and index == 0:\n",
    "        polynomial_x = normalize(x)\n",
    "        polynomial_x = build_polynomial(polynomial_x, 5)\n",
    "        polynomial_x = build_combinations_lvl(polynomial_x, 2, 8)\n",
    "        polynomial_x = build_combinations_lvl(polynomial_x, 3, 8)\n",
    "        polynomial_x = build_combinations_lvl(polynomial_x, 4, 8)\n",
    "        polynomial_x = build_combinations_lvl(polynomial_x, 5, 8)\n",
    "        polynomial_x = build_combinations_lvl(polynomial_x, 6, 8)\n",
    "    elif numjet == 3 and index == 1:\n",
    "        polynomial_x = normalize(x)\n",
    "        polynomial_x = build_polynomial(polynomial_x, 6)\n",
    "        polynomial_x = build_combinations_lvl(polynomial_x, 2, 10)\n",
    "        polynomial_x = build_combinations_lvl(polynomial_x, 3, 10)\n",
    "        polynomial_x = build_combinations_lvl(polynomial_x, 4, 10)\n",
    "    else:\n",
    "        polynomial_x = normalize(x)\n",
    "        polynomial_x = build_polynomial(polynomial_x, 3)\n",
    "        polynomial_x = build_combinations_lvl(polynomial_x, 2, 10)\n",
    "        polynomial_x = build_combinations_lvl(polynomial_x, 3, 10)\n",
    "        polynomial_x = build_combinations_lvl(polynomial_x, 4, 10)\n",
    "\n",
    "    return polynomial_x\n",
    "\n",
    "def build_best_model(x_, y_, numjet, index):\n",
    "    k = 5\n",
    "    predict_threshold = 0\n",
    "    polynomial_x = build_features(x_, numjet, index)\n",
    "\n",
    "    if numjet == 0 and index == 0:\n",
    "        lambda_ = 4.52035365636e-07\n",
    "    elif numjet == 0 and index == 1:\n",
    "        predict_threshold = -0.189898989899\n",
    "        lambda_ = 1e-06\n",
    "    elif numjet == 1 and index == 1:\n",
    "        lambda_ = 0.137382379588\n",
    "    elif numjet == 2 and index == 1:\n",
    "        lambda_ = 0.0188739182214\n",
    "    elif numjet == 3 and index == 0:\n",
    "        lambda_ = 7.27895384398e-05\n",
    "    elif numjet == 3 and index == 1:\n",
    "        predict_threshold = -0.1\n",
    "        lambda_ = 0.5\n",
    "    else:\n",
    "        lambda_ = 0.000001\n",
    "\n",
    "\n",
    "    accuracy_train_k, accuracy_test_k = k_fold_cross_validation(y_, polynomial_x, k, lambda_, predict_threshold)\n",
    "    w, loss = ridge_regression(y_, polynomial_x, lambda_)\n",
    "\n",
    "    \n",
    "    print(\"\\t Predicted -1 but was 1 :\", get_false(polynomial_x, y_, w, predict_threshold))\n",
    "\n",
    "    \n",
    "    return w, predict_threshold, accuracy_train_k, accuracy_test_k\n",
    "\n",
    "    "
   ]
  },
  {
   "cell_type": "code",
   "execution_count": 14,
   "metadata": {},
   "outputs": [
    {
     "name": "stdout",
     "output_type": "stream",
     "text": [
      "2017-10-15 15:56:26.549699 combinations 2 : 0 / 28\n",
      "2017-10-15 15:56:29.321867 combinations 3 : 0 / 56\n",
      "2017-10-15 15:56:35.677198 combinations 3 : 50 / 56\n",
      "2017-10-15 15:56:36.401737 combinations 4 : 0 / 70\n",
      "2017-10-15 15:56:43.632878 combinations 4 : 50 / 70\n",
      "2017-10-15 15:56:46.644463 combinations 5 : 0 / 56\n",
      "2017-10-15 15:56:54.948482 combinations 5 : 50 / 56\n",
      "2017-10-15 15:56:55.975490 combinations 6 : 0 / 28\n",
      "2017-10-15 15:57:02.123499 combinations 7 : 0 / 8\n",
      "\t Predicted -1 but was 1 : 0.634313005143277\n",
      "0 0 Train Accuracy: 0.815523783711\n",
      "0 0 Test Accuracy: 0.813863667164\n",
      "2017-10-15 15:57:21.233384 combinations 2 : 0 / 28\n",
      "2017-10-15 15:57:26.938783 combinations 3 : 0 / 56\n",
      "2017-10-15 15:57:39.232153 combinations 3 : 50 / 56\n",
      "2017-10-15 15:57:40.848327 combinations 4 : 0 / 70\n",
      "2017-10-15 15:57:57.004484 combinations 4 : 50 / 70\n",
      "2017-10-15 15:58:03.915824 combinations 5 : 0 / 56\n",
      "2017-10-15 15:58:24.850423 combinations 5 : 50 / 56\n",
      "2017-10-15 15:58:27.557478 combinations 6 : 0 / 28\n",
      "2017-10-15 15:58:40.061634 combinations 7 : 0 / 8\n",
      "\t Predicted -1 but was 1 : 0.8778979907264297\n",
      "0 1 Train Accuracy: 0.949703292496\n",
      "0 1 Test Accuracy: 0.953675344564\n",
      "2017-10-15 15:58:47.345888 combinations 2 : 0 / 45\n",
      "2017-10-15 15:58:52.341633 combinations 3 : 0 / 120\n",
      "2017-10-15 15:58:58.934395 combinations 3 : 50 / 120\n",
      "2017-10-15 15:59:07.101020 combinations 3 : 100 / 120\n",
      "2017-10-15 15:59:10.547247 combinations 4 : 0 / 210\n",
      "2017-10-15 15:59:20.260960 combinations 4 : 50 / 210\n",
      "2017-10-15 15:59:30.930387 combinations 4 : 100 / 210\n",
      "2017-10-15 15:59:42.181302 combinations 4 : 150 / 210\n",
      "2017-10-15 15:59:55.326096 combinations 4 : 200 / 210\n",
      "\t Predicted -1 but was 1 : 0.5616155660377359\n",
      "1 0 Train Accuracy: 0.807480708774\n",
      "1 0 Test Accuracy: 0.800371534724\n",
      "2017-10-15 16:00:24.255065 combinations 2 : 0 / 45\n",
      "2017-10-15 16:00:35.246528 combinations 3 : 0 / 120\n",
      "2017-10-15 16:00:49.773470 combinations 3 : 50 / 120\n",
      "2017-10-15 16:01:09.461699 combinations 3 : 100 / 120\n",
      "2017-10-15 16:01:18.208090 combinations 4 : 0 / 210\n",
      "2017-10-15 16:01:40.132487 combinations 4 : 50 / 210\n",
      "2017-10-15 16:02:05.027617 combinations 4 : 100 / 210\n",
      "2017-10-15 16:02:33.809539 combinations 4 : 150 / 210\n",
      "2017-10-15 16:03:01.834478 combinations 4 : 200 / 210\n",
      "2017-10-15 16:03:08.334219 combinations 2 : 0 / 45\n",
      "2017-10-15 16:03:08.904763 combinations 3 : 0 / 120\n",
      "2017-10-15 16:03:09.571798 combinations 3 : 50 / 120\n",
      "2017-10-15 16:03:10.300342 combinations 3 : 100 / 120\n",
      "2017-10-15 16:03:10.648993 combinations 4 : 0 / 210\n",
      "2017-10-15 16:03:11.545546 combinations 4 : 50 / 210\n",
      "2017-10-15 16:03:12.633046 combinations 4 : 100 / 210\n",
      "2017-10-15 16:03:13.838336 combinations 4 : 150 / 210\n",
      "2017-10-15 16:03:15.308390 combinations 4 : 200 / 210\n",
      "2017-10-15 16:03:15.777967 combinations 5 : 0 / 252\n",
      "2017-10-15 16:03:17.518079 combinations 5 : 50 / 252\n",
      "2017-10-15 16:03:19.057237 combinations 5 : 100 / 252\n",
      "2017-10-15 16:03:20.721942 combinations 5 : 150 / 252\n",
      "2017-10-15 16:03:22.621671 combinations 5 : 200 / 252\n",
      "2017-10-15 16:03:24.698834 combinations 5 : 250 / 252\n",
      "\t Predicted -1 but was 1 : 0.9713740458015268\n",
      "1 1 Train Accuracy: 0.930555555556\n",
      "1 1 Test Accuracy: 0.920634920635\n",
      "2017-10-15 16:03:29.123882 combinations 2 : 0 / 45\n",
      "2017-10-15 16:03:30.342040 combinations 3 : 0 / 120\n",
      "2017-10-15 16:03:31.971833 combinations 3 : 50 / 120\n",
      "2017-10-15 16:03:33.967833 combinations 3 : 100 / 120\n",
      "2017-10-15 16:03:34.851175 combinations 4 : 0 / 210\n",
      "2017-10-15 16:03:37.147864 combinations 4 : 50 / 210\n",
      "2017-10-15 16:03:39.686472 combinations 4 : 100 / 210\n",
      "2017-10-15 16:03:42.485318 combinations 4 : 150 / 210\n",
      "2017-10-15 16:03:45.554921 combinations 4 : 200 / 210\n",
      "2017-10-15 16:03:46.173502 combinations 5 : 0 / 252\n",
      "2017-10-15 16:03:50.398165 combinations 5 : 50 / 252\n",
      "2017-10-15 16:03:53.960406 combinations 5 : 100 / 252\n",
      "2017-10-15 16:03:57.820649 combinations 5 : 150 / 252\n",
      "2017-10-15 16:04:01.962235 combinations 5 : 200 / 252\n",
      "2017-10-15 16:04:06.635255 combinations 5 : 250 / 252\n",
      "2017-10-15 16:04:09.020288 combinations 2 : 0 / 45\n",
      "2017-10-15 16:04:13.459550 combinations 3 : 0 / 120\n",
      "2017-10-15 16:04:18.684375 combinations 3 : 50 / 120\n",
      "2017-10-15 16:04:24.520213 combinations 3 : 100 / 120\n",
      "2017-10-15 16:04:27.875330 combinations 4 : 0 / 210\n",
      "2017-10-15 16:04:36.573193 combinations 4 : 50 / 210\n",
      "2017-10-15 16:04:47.218969 combinations 4 : 100 / 210\n",
      "2017-10-15 16:04:59.220805 combinations 4 : 150 / 210\n",
      "2017-10-15 16:05:12.449548 combinations 4 : 200 / 210\n",
      "\t Predicted -1 but was 1 : 0.4613196043896491\n",
      "2 0 Train Accuracy: 0.845730100158\n",
      "2 0 Test Accuracy: 0.837638376384\n",
      "2017-10-15 16:05:36.868512 combinations 2 : 0 / 45\n",
      "2017-10-15 16:05:48.718803 combinations 3 : 0 / 120\n",
      "2017-10-15 16:06:06.004833 combinations 3 : 50 / 120\n",
      "2017-10-15 16:06:24.804980 combinations 3 : 100 / 120\n",
      "2017-10-15 16:06:33.778123 combinations 4 : 0 / 210\n",
      "2017-10-15 16:06:53.867527 combinations 4 : 50 / 210\n",
      "2017-10-15 16:07:16.972149 combinations 4 : 100 / 210\n",
      "2017-10-15 16:07:40.008902 combinations 4 : 150 / 210\n",
      "2017-10-15 16:08:05.015524 combinations 4 : 200 / 210\n",
      "2017-10-15 16:08:10.136596 combinations 2 : 0 / 45\n",
      "2017-10-15 16:08:10.350638 combinations 3 : 0 / 120\n",
      "2017-10-15 16:08:10.628638 combinations 3 : 50 / 120\n",
      "2017-10-15 16:08:10.966654 combinations 3 : 100 / 120\n",
      "2017-10-15 16:08:11.116656 combinations 4 : 0 / 210\n",
      "2017-10-15 16:08:11.536254 combinations 4 : 50 / 210\n",
      "2017-10-15 16:08:12.003247 combinations 4 : 100 / 210\n",
      "2017-10-15 16:08:12.522247 combinations 4 : 150 / 210\n",
      "2017-10-15 16:08:13.098824 combinations 4 : 200 / 210\n",
      "2017-10-15 16:08:13.238351 combinations 5 : 0 / 252\n",
      "2017-10-15 16:08:13.906811 combinations 5 : 50 / 252\n",
      "2017-10-15 16:08:14.649885 combinations 5 : 100 / 252\n",
      "2017-10-15 16:08:15.388508 combinations 5 : 150 / 252\n",
      "2017-10-15 16:08:16.173086 combinations 5 : 200 / 252\n",
      "2017-10-15 16:08:17.018273 combinations 5 : 250 / 252\n",
      "\t Predicted -1 but was 1 : 0.8285714285714286\n",
      "2 1 Train Accuracy: 0.940254237288\n",
      "2 1 Test Accuracy: 0.910169491525\n",
      "2017-10-15 16:08:18.859792 combinations 2 : 0 / 45\n",
      "2017-10-15 16:08:19.401960 combinations 3 : 0 / 120\n",
      "2017-10-15 16:08:20.055001 combinations 3 : 50 / 120\n",
      "2017-10-15 16:08:20.842262 combinations 3 : 100 / 120\n",
      "2017-10-15 16:08:21.210757 combinations 4 : 0 / 210\n",
      "2017-10-15 16:08:22.170299 combinations 4 : 50 / 210\n",
      "2017-10-15 16:08:23.277447 combinations 4 : 100 / 210\n",
      "2017-10-15 16:08:24.798292 combinations 4 : 150 / 210\n",
      "2017-10-15 16:08:26.169832 combinations 4 : 200 / 210\n",
      "2017-10-15 16:08:26.463341 combinations 5 : 0 / 252\n",
      "2017-10-15 16:08:27.941933 combinations 5 : 50 / 252\n",
      "2017-10-15 16:08:29.800439 combinations 5 : 100 / 252\n",
      "2017-10-15 16:08:31.500432 combinations 5 : 150 / 252\n",
      "2017-10-15 16:08:32.786439 combinations 5 : 200 / 252\n",
      "2017-10-15 16:08:34.887930 combinations 5 : 250 / 252\n",
      "2017-10-15 16:08:36.055014 combinations 2 : 0 / 28\n",
      "2017-10-15 16:08:37.627223 combinations 3 : 0 / 56\n",
      "2017-10-15 16:08:40.159720 combinations 3 : 50 / 56\n",
      "2017-10-15 16:08:40.471719 combinations 4 : 0 / 70\n",
      "2017-10-15 16:08:43.204049 combinations 4 : 50 / 70\n",
      "2017-10-15 16:08:44.374137 combinations 5 : 0 / 56\n",
      "2017-10-15 16:08:47.425508 combinations 5 : 50 / 56\n",
      "2017-10-15 16:08:47.816042 combinations 6 : 0 / 28\n",
      "\t Predicted -1 but was 1 : 0.5922480620155038\n",
      "3 0 Train Accuracy: 0.843546047861\n",
      "3 0 Test Accuracy: 0.846265409717\n",
      "2017-10-15 16:08:57.295192 combinations 2 : 0 / 28\n",
      "2017-10-15 16:09:00.268700 combinations 3 : 0 / 56\n",
      "2017-10-15 16:09:05.948567 combinations 3 : 50 / 56\n",
      "2017-10-15 16:09:06.678167 combinations 4 : 0 / 70\n",
      "2017-10-15 16:09:13.009559 combinations 4 : 50 / 70\n",
      "2017-10-15 16:09:15.809635 combinations 5 : 0 / 56\n",
      "2017-10-15 16:09:22.940207 combinations 5 : 50 / 56\n",
      "2017-10-15 16:09:23.830172 combinations 6 : 0 / 28\n",
      "2017-10-15 16:09:28.101065 combinations 2 : 0 / 45\n",
      "2017-10-15 16:09:28.267633 combinations 3 : 0 / 120\n",
      "2017-10-15 16:09:28.464148 combinations 3 : 50 / 120\n",
      "2017-10-15 16:09:28.680649 combinations 3 : 100 / 120\n",
      "2017-10-15 16:09:28.769648 combinations 4 : 0 / 210\n",
      "2017-10-15 16:09:29.006685 combinations 4 : 50 / 210\n",
      "2017-10-15 16:09:29.261734 combinations 4 : 100 / 210\n",
      "2017-10-15 16:09:29.538267 combinations 4 : 150 / 210\n",
      "2017-10-15 16:09:29.834272 combinations 4 : 200 / 210\n",
      "\t Predicted -1 but was 1 : 0.9857142857142858\n",
      "3 1 Train Accuracy: 0.960169491525\n",
      "3 1 Test Accuracy: 0.91186440678\n"
     ]
    },
    {
     "name": "stdout",
     "output_type": "stream",
     "text": [
      "2017-10-15 16:09:31.081230 combinations 2 : 0 / 45\n",
      "2017-10-15 16:09:31.445760 combinations 3 : 0 / 120\n",
      "2017-10-15 16:09:31.882343 combinations 3 : 50 / 120\n",
      "2017-10-15 16:09:32.357343 combinations 3 : 100 / 120\n",
      "2017-10-15 16:09:32.560806 combinations 4 : 0 / 210\n",
      "2017-10-15 16:09:33.096449 combinations 4 : 50 / 210\n",
      "2017-10-15 16:09:33.669982 combinations 4 : 100 / 210\n",
      "2017-10-15 16:09:34.272178 combinations 4 : 150 / 210\n",
      "2017-10-15 16:09:34.903528 combinations 4 : 200 / 210\n",
      "Count: 250000\n",
      "Train Accuracy: 0.841149018329\n",
      "Test Accuracy: 0.836833259657\n"
     ]
    }
   ],
   "source": [
    "count = 0\n",
    "\n",
    "accuracy_train = 0\n",
    "accuracy_test = 0\n",
    "\n",
    "submission_ids = []\n",
    "submission_y = []\n",
    "\n",
    "result_y = []\n",
    "result_ids = []\n",
    "\n",
    "for numjet in range(0, 4):\n",
    "    for index in range(0, 2):\n",
    "        x_, y_, ids_ = get_data_numjet(jet_num_x_dict, jet_num_y_dict, jet_num_ids_dict, numjet, index)\n",
    "        \n",
    "        w, predict_threshold, accuracy_train_k, accuracy_test_k = build_best_model(x_, y_, numjet, index)\n",
    "        \n",
    "        number_of_el = len(y_)\n",
    "\n",
    "        accuracy_train += accuracy_train_k * number_of_el\n",
    "        accuracy_test += accuracy_test_k * number_of_el\n",
    "        \n",
    "        print(numjet, index, \"Train Accuracy: \" + str(accuracy_train_k))\n",
    "        print(numjet, index, \"Test Accuracy: \" + str(accuracy_test_k))\n",
    "        \n",
    "        \n",
    "        count += number_of_el\n",
    "  \n",
    "        # Predict local\n",
    "#         removed_col_key = list(jet_num_x_dict[numjet])[index]\n",
    "#         sub_x2 = jet_num_x_dict[numjet][removed_col_key]\n",
    "#         sub_ids2 = jet_num_ids_dict[numjet][removed_col_key]\n",
    "\n",
    "#         sub_x2 = build_features(sub_x2, numjet, index)\n",
    "#         pred_y2 = predict_labels(w, sub_x2, predict_threshold)\n",
    "        \n",
    "#         for sub_index, sub_id in enumerate(sub_ids2):\n",
    "#             result_ids.append(sub_id)\n",
    "#             result_y.append(pred_y2[sub_index])\n",
    "        \n",
    "        \n",
    "        # Predict submission\n",
    "        removed_col_key = list(jet_num_x_dict[numjet])[index]\n",
    "        sub_x = sub_jet_num_x_dict[numjet][removed_col_key]\n",
    "        sub_ids = sub_jet_num_ids_dict[numjet][removed_col_key]\n",
    "        \n",
    "        sub_x = build_features(sub_x, numjet, index)\n",
    "        pred_y = predict_labels(w, sub_x, predict_threshold)\n",
    "        for sub_index, sub_id in enumerate(sub_ids):\n",
    "            submission_ids.append(sub_id)\n",
    "            submission_y.append(pred_y[sub_index])\n",
    "        \n",
    "print(\"Count:\", count)\n",
    "print(\"Train Accuracy: \" + str(accuracy_train / count))\n",
    "print(\"Test Accuracy: \" + str(accuracy_test / count))"
   ]
  },
  {
   "cell_type": "code",
   "execution_count": 11,
   "metadata": {},
   "outputs": [
    {
     "name": "stdout",
     "output_type": "stream",
     "text": [
      "2017-10-15 15:39:32.925423 combinations 2 : 0 / 28\n",
      "2017-10-15 15:39:36.307657 combinations 3 : 0 / 56\n",
      "2017-10-15 15:39:42.494492 combinations 3 : 50 / 56\n",
      "2017-10-15 15:39:43.310130 combinations 4 : 0 / 70\n",
      "2017-10-15 15:39:50.363369 combinations 4 : 50 / 70\n",
      "2017-10-15 15:39:53.413305 combinations 5 : 0 / 56\n",
      "2017-10-15 15:40:01.569373 combinations 5 : 50 / 56\n",
      "2017-10-15 15:40:02.710542 combinations 6 : 0 / 28\n",
      "2017-10-15 15:40:07.818644 combinations 7 : 0 / 8\n"
     ]
    }
   ],
   "source": [
    "k = 5\n",
    "\n",
    "x_, y_, ids_ = get_data_numjet(jet_num_x_dict, jet_num_y_dict, jet_num_ids_dict, 0, 0)\n",
    "\n",
    "def build_polynomial2(x, max_degree):\n",
    "    polynomial_x = x\n",
    "    polynomial_x = np.concatenate((polynomial_x, np.tanh(x)), axis=1)\n",
    "    polynomial_x = np.concatenate((polynomial_x, np.log(np.abs(x))), axis=1)\n",
    "    polynomial_x = np.concatenate((polynomial_x, np.sqrt(np.abs(x))), axis=1)\n",
    "    for degree in range(2, max_degree + 1):\n",
    "        polynomial_x = np.concatenate((polynomial_x, np.power(x, degree)), axis=1)\n",
    "        polynomial_x = np.concatenate((polynomial_x, np.power(np.tanh(x), degree)), axis=1)\n",
    "        polynomial_x = np.concatenate((polynomial_x, np.power(np.log(np.abs(x)), degree)), axis=1)\n",
    "\n",
    "    return polynomial_x\n",
    "\n",
    "polynomial_x = normalize(x_)\n",
    "polynomial_x = build_polynomial2(polynomial_x, 5)\n",
    "polynomial_x = build_combinations_lvl(polynomial_x, 2, 8)\n",
    "polynomial_x = build_combinations_lvl(polynomial_x, 3, 8)\n",
    "polynomial_x = build_combinations_lvl(polynomial_x, 4, 8)\n",
    "polynomial_x = build_combinations_lvl(polynomial_x, 5, 8)\n",
    "polynomial_x = build_combinations_lvl(polynomial_x, 6, 8)\n",
    "polynomial_x = build_combinations_lvl(polynomial_x, 7, 8)\n",
    "\n",
    "predict_threshold = -0.00\n",
    "\n",
    "# 3.85662042116e-05 0.845540246555"
   ]
  },
  {
   "cell_type": "code",
   "execution_count": 9,
   "metadata": {},
   "outputs": [
    {
     "name": "stdout",
     "output_type": "stream",
     "text": [
      "2017-10-15 15:08:59.930410 combinations 2 : 0 / 28\n",
      "2017-10-15 15:09:02.053371 combinations 3 : 0 / 56\n",
      "2017-10-15 15:09:06.990372 combinations 3 : 50 / 56\n",
      "2017-10-15 15:09:07.652376 combinations 4 : 0 / 70\n",
      "2017-10-15 15:09:15.182287 combinations 4 : 50 / 70\n",
      "2017-10-15 15:09:18.079877 combinations 5 : 0 / 56\n",
      "2017-10-15 15:09:31.179723 combinations 5 : 50 / 56\n",
      "2017-10-15 15:09:32.985719 combinations 6 : 0 / 28\n",
      "2017-10-15 15:09:40.657055 combinations 7 : 0 / 8\n"
     ]
    }
   ],
   "source": [
    "k = 5\n",
    "\n",
    "x_, y_, ids_ = get_data_numjet(jet_num_x_dict, jet_num_y_dict, jet_num_ids_dict, 0, 0)\n",
    "\n",
    "def build_polynomial2(x, max_degree):\n",
    "    polynomial_x = x\n",
    "    polynomial_x = np.concatenate((polynomial_x, np.tanh(x)), axis=1)\n",
    "    polynomial_x = np.concatenate((polynomial_x, np.log(np.abs(x))), axis=1)\n",
    "    polynomial_x = np.concatenate((polynomial_x, np.sqrt(np.abs(x))), axis=1)\n",
    "    for degree in range(2, max_degree + 1):\n",
    "        polynomial_x = np.concatenate((polynomial_x, np.power(x, degree)), axis=1)\n",
    "        polynomial_x = np.concatenate((polynomial_x, np.power(np.tanh(x), degree)), axis=1)\n",
    "        polynomial_x = np.concatenate((polynomial_x, np.power(np.log(np.abs(x)), degree)), axis=1)\n",
    "\n",
    "    return polynomial_x\n",
    "\n",
    "polynomial_x = normalize(x_)\n",
    "polynomial_x = build_polynomial2(polynomial_x, 3)\n",
    "polynomial_x = build_combinations_lvl(polynomial_x, 2, 8)\n",
    "polynomial_x = build_combinations_lvl(polynomial_x, 3, 8)\n",
    "polynomial_x = build_combinations_lvl(polynomial_x, 4, 8)\n",
    "polynomial_x = build_combinations_lvl(polynomial_x, 5, 8)\n",
    "polynomial_x = build_combinations_lvl(polynomial_x, 6, 8)\n",
    "polynomial_x = build_combinations_lvl(polynomial_x, 7, 8)\n",
    "\n",
    "predict_threshold = -0.00\n",
    "\n",
    "# 4.52035365636e-07 0.813863667164"
   ]
  },
  {
   "cell_type": "code",
   "execution_count": 12,
   "metadata": {},
   "outputs": [
    {
     "name": "stdout",
     "output_type": "stream",
     "text": [
      "Lambdas: 1e-08 Train: 0.700569182816  Test: 0.698062068031\n",
      "Lambdas: 1.88739182214e-08 Train: 0.578205041334  Test: 0.576609296653\n",
      "Lambdas: 3.56224789026e-08 Train: 0.629861769888  Test: 0.632253692912\n",
      "Lambdas: 6.7233575365e-08 Train: 0.538690879523  Test: 0.536522564033\n",
      "Lambdas: 1.26896100317e-07 Train: 0.5590865971  Test: 0.55834123865\n",
      "Lambdas: 2.39502661999e-07 Train: 0.574468085106  Test: 0.57562000271\n",
      "Lambdas: 4.52035365636e-07 Train: 0.579770294078  Test: 0.5792790351\n",
      "Lambdas: 8.53167852417e-07 Train: 0.793569589375  Test: 0.791909472828\n",
      "Lambdas: 1.61026202756e-06 Train: 0.815395039978  Test: 0.810814473506\n",
      "Lambdas: 3.03919538231e-06 Train: 0.805275105028  Test: 0.803225369291\n",
      "Lambdas: 5.73615251045e-06 Train: 0.794704567015  Test: 0.791570673533\n",
      "Lambdas: 1.08263673387e-05 Train: 0.772462393278  Test: 0.77090391652\n",
      "Lambdas: 2.04335971786e-05 Train: 0.731755657948  Test: 0.733229434883\n",
      "Lambdas: 3.85662042116e-05 Train: 0.747187965849  Test: 0.748136603876\n",
      "Lambdas: 7.27895384398e-05 Train: 0.421584903103  Test: 0.419094728283\n",
      "Lambdas: 0.000137382379588 Train: 0.603689524326  Test: 0.605502100556\n",
      "Lambdas: 0.00025929437974 Train: 0.78565862583  Test: 0.78818268058\n",
      "Lambdas: 0.000489390091848 Train: 0.577500338799  Test: 0.577449518905\n",
      "Lambdas: 0.000923670857187 Train: 0.582904187559  Test: 0.584089985093\n",
      "Lambdas: 0.0017433288222 Train: 0.47155779916  Test: 0.473505895108\n",
      "Lambdas: 0.00329034456231 Train: 0.708039707277  Test: 0.709039165199\n",
      "Lambdas: 0.00621016941892 Train: 0.658473370375  Test: 0.660048787099\n",
      "Lambdas: 0.0117210229753 Train: 0.570046754303  Test: 0.570199213986\n",
      "Lambdas: 0.0221221629107 Train: 0.79753354113  Test: 0.796584903103\n",
      "Lambdas: 0.0417531893656 Train: 0.772276053666  Test: 0.773411031305\n",
      "Lambdas: 0.0788046281567 Train: 0.637129014772  Test: 0.636061796991\n",
      "Lambdas: 0.148735210729 Train: 0.783422550481  Test: 0.784388128473\n",
      "Lambdas: 0.280721620394 Train: 0.561813931427  Test: 0.561796991462\n",
      "Lambdas: 0.529831690628 Train: 0.796652662962  Test: 0.792790350996\n",
      "Lambdas: 1.0 Train: 0.763958530966  Test: 0.766228486245\n",
      "\t Predicted -1 but was 1 : 0.5531588043269539\n",
      "BEST: 1.61026202756e-06 0.810814473506\n"
     ]
    }
   ],
   "source": [
    "# Here to test the accuracy of one specific classifier\n",
    "# Find best lambdas\n",
    "lambdas = np.logspace(-8, 0, 30)\n",
    "best_accuracy = 0\n",
    "best_lambda = 0\n",
    "for lambda_ in lambdas:\n",
    "    \n",
    "    accuracy_train_k, accuracy_test_k = k_fold_cross_validation(y_, polynomial_x, k, lambda_, predict_threshold)\n",
    "\n",
    "    if accuracy_test_k > best_accuracy:\n",
    "        best_accuracy = accuracy_test_k\n",
    "        best_lambda = lambda_\n",
    "    print(\"Lambdas:\", lambda_, \"Train:\", accuracy_train_k, \" Test:\", accuracy_test_k)\n",
    "\n",
    "w, loss = ridge_regression(y_, polynomial_x, best_lambda)\n",
    "\n",
    "print(\"\\t Predicted -1 but was 1 :\", get_false(polynomial_x, y_, w, predict_threshold))\n",
    "\n",
    "print(\"BEST:\", best_lambda, best_accuracy)\n",
    "lambda_ = best_lambda\n"
   ]
  },
  {
   "cell_type": "code",
   "execution_count": null,
   "metadata": {
    "collapsed": true
   },
   "outputs": [],
   "source": []
  },
  {
   "cell_type": "code",
   "execution_count": null,
   "metadata": {
    "collapsed": true
   },
   "outputs": [],
   "source": [
    "threshs = np.linspace(0, -0.4, num=100)\n",
    "best_accuracy = 0\n",
    "best_thresh = 0\n",
    "for thresh in threshs:\n",
    "    predict_threshold = thresh\n",
    "    \n",
    "    accuracy_train_k, accuracy_test_k = k_fold_cross_validation(y_, polynomial_x, k, lambda_, predict_threshold)\n",
    "\n",
    "    if accuracy_test_k > best_accuracy:\n",
    "        best_accuracy = accuracy_test_k\n",
    "        best_thresh = thresh\n",
    "    print(\"Thresh:\", thresh, \"Train:\", accuracy_train_k, \" Test:\", accuracy_test_k)\n",
    "\n",
    "w, loss = ridge_regression(y_, polynomial_x, best_lambda)\n",
    "\n",
    "print(\"\\t Predicted -1 but was 1 :\", get_false(polynomial_x, y_, w, predict_threshold))\n",
    "\n",
    "print(\"BEST:\", best_thresh, best_accuracy)"
   ]
  },
  {
   "cell_type": "code",
   "execution_count": null,
   "metadata": {
    "collapsed": true
   },
   "outputs": [],
   "source": []
  },
  {
   "cell_type": "code",
   "execution_count": null,
   "metadata": {
    "collapsed": true
   },
   "outputs": [],
   "source": []
  }
 ],
 "metadata": {
  "kernelspec": {
   "display_name": "Python [conda root]",
   "language": "python",
   "name": "conda-root-py"
  },
  "language_info": {
   "codemirror_mode": {
    "name": "ipython",
    "version": 3
   },
   "file_extension": ".py",
   "mimetype": "text/x-python",
   "name": "python",
   "nbconvert_exporter": "python",
   "pygments_lexer": "ipython3",
   "version": "3.6.1"
  }
 },
 "nbformat": 4,
 "nbformat_minor": 2
}
