{
 "cells": [
  {
   "cell_type": "markdown",
   "metadata": {},
   "source": [
    "# Fine tuning\n",
    "We will try to fine tune a pre-trained model for image classification for our road segmentation problem.  \n",
    "The model we will use is DenseNet-121 which achieve 74.91% top1 accuracy for Imagenet dataset. It achieves a decent accuracy on this latter and is relatively small compares to its other iteration (DenseNet-161, DenseNet-169) or other big network (ResNet-152)."
   ]
  },
  {
   "cell_type": "code",
   "execution_count": 15,
   "metadata": {},
   "outputs": [],
   "source": [
    "%matplotlib inline\n",
    "import pickle\n",
    "import matplotlib.image as mpimg\n",
    "import matplotlib.patches as matplotlib_patches\n",
    "import numpy as np\n",
    "import matplotlib.pyplot as plt\n",
    "import os,sys\n",
    "from PIL import Image\n",
    "import keras\n",
    "from sklearn.model_selection import train_test_split\n",
    "import warnings\n",
    "from functions_v1 import *\n",
    "\n",
    "warnings.filterwarnings('ignore')"
   ]
  },
  {
   "cell_type": "markdown",
   "metadata": {},
   "source": [
    "## Loading our data set"
   ]
  },
  {
   "cell_type": "code",
   "execution_count": 10,
   "metadata": {},
   "outputs": [],
   "source": [
    "with open( \"pickle/X.pickle\", \"rb\" ) as f:\n",
    "    X = pickle.load(f)\n",
    "\n",
    "with open( \"pickle/Y_categorical.pickle\", \"rb\" ) as f:\n",
    "    Y_categorical = pickle.load(f)\n",
    "    \n",
    "with open( \"pickle/Y_labels.pickle\", \"rb\" ) as f:\n",
    "    Y_labels = pickle.load(f)\n"
   ]
  },
  {
   "cell_type": "markdown",
   "metadata": {},
   "source": [
    "## Data preprocessing\n",
    "We preprocess our data to make it compatible for the pre-trained model."
   ]
  },
  {
   "cell_type": "code",
   "execution_count": 3,
   "metadata": {},
   "outputs": [],
   "source": [
    "# Switch RGB to BGR order \n",
    "X = X[:, :, :, ::-1]  \n",
    "\n",
    "# Subtract ImageNet mean pixel \n",
    "X[:, :, :, 0] -= 103.939\n",
    "X[:, :, :, 1] -= 116.779\n",
    "X[:, :, :, 2] -= 123.68"
   ]
  },
  {
   "cell_type": "code",
   "execution_count": 11,
   "metadata": {},
   "outputs": [
    {
     "data": {
      "text/plain": [
       "(6250, 64, 64, 3)"
      ]
     },
     "execution_count": 11,
     "metadata": {},
     "output_type": "execute_result"
    }
   ],
   "source": [
    "X.shape"
   ]
  },
  {
   "cell_type": "code",
   "execution_count": 5,
   "metadata": {},
   "outputs": [
    {
     "data": {
      "text/plain": [
       "<matplotlib.image.AxesImage at 0x292bb903c50>"
      ]
     },
     "execution_count": 5,
     "metadata": {},
     "output_type": "execute_result"
    },
    {
     "data": {
      "image/png": "[encoded data removed]",
      "text/plain": [
       "<matplotlib.figure.Figure at 0x292b9874278>"
      ]
     },
     "metadata": {},
     "output_type": "display_data"
    }
   ],
   "source": [
    "plt.imshow(X[0]);"
   ]
  },
  {
   "cell_type": "markdown",
   "metadata": {},
   "source": [
    "## Fine tuning\n",
    "\n",
    "### The model\n",
    "We use the code from [this repository](https://github.com/flyyufelix/cnn_finetune) to achieve our task."
   ]
  },
  {
   "cell_type": "code",
   "execution_count": 8,
   "metadata": {},
   "outputs": [],
   "source": [
    "from keras.optimizers import SGD\n",
    "from keras.layers import Input, merge, ZeroPadding2D\n",
    "from keras.layers.core import Dense, Dropout, Activation\n",
    "from keras.layers.convolutional import Convolution2D\n",
    "from keras.layers.pooling import AveragePooling2D, GlobalAveragePooling2D, MaxPooling2D\n",
    "from keras.layers.normalization import BatchNormalization\n",
    "from keras.models import Model\n",
    "import keras.backend as K\n",
    "\n",
    "from sklearn.metrics import log_loss\n",
    "\n",
    "from custom_layers.scale_layer import Scale\n",
    "\n",
    "def densenet121_model(img_rows, img_cols, color_type=1, nb_dense_block=4, growth_rate=32, nb_filter=64, reduction=0.5, dropout_rate=0.0, weight_decay=1e-4, num_classes=None):\n",
    "    '''\n",
    "    DenseNet 121 Model for Keras\n",
    "\n",
    "    Model Schema is based on \n",
    "    https://github.com/flyyufelix/DenseNet-Keras\n",
    "\n",
    "    ImageNet Pretrained Weights \n",
    "    Theano: https://drive.google.com/open?id=0Byy2AcGyEVxfMlRYb3YzV210VzQ\n",
    "    TensorFlow: https://drive.google.com/open?id=0Byy2AcGyEVxfSTA4SHJVOHNuTXc\n",
    "\n",
    "    # Arguments\n",
    "        nb_dense_block: number of dense blocks to add to end\n",
    "        growth_rate: number of filters to add per dense block\n",
    "        nb_filter: initial number of filters\n",
    "        reduction: reduction factor of transition blocks.\n",
    "        dropout_rate: dropout rate\n",
    "        weight_decay: weight decay factor\n",
    "        classes: optional number of classes to classify images\n",
    "        weights_path: path to pre-trained weights\n",
    "    # Returns\n",
    "        A Keras model instance.\n",
    "    '''\n",
    "    eps = 1.1e-5\n",
    "\n",
    "    # compute compression factor\n",
    "    compression = 1.0 - reduction\n",
    "\n",
    "    # Handle Dimension Ordering for different backends\n",
    "    global concat_axis\n",
    "    if K.image_dim_ordering() == 'tf':\n",
    "      concat_axis = 3\n",
    "      img_input = Input(shape=(img_rows, img_cols, color_type), name='data')\n",
    "    else:\n",
    "      concat_axis = 1\n",
    "      img_input = Input(shape=(color_type, img_rows, img_cols), name='data')\n",
    "\n",
    "    # From architecture for ImageNet (Table 1 in the paper)\n",
    "    nb_filter = 64\n",
    "    nb_layers = [6,12,24,16] # For DenseNet-121\n",
    "\n",
    "    # Initial convolution\n",
    "    x = ZeroPadding2D((3, 3), name='conv1_zeropadding')(img_input)\n",
    "    x = Convolution2D(nb_filter, 7, 7, subsample=(2, 2), name='conv1', bias=False)(x)\n",
    "    x = BatchNormalization(epsilon=eps, axis=concat_axis, name='conv1_bn')(x)\n",
    "    x = Scale(axis=concat_axis, name='conv1_scale')(x)\n",
    "    x = Activation('relu', name='relu1')(x)\n",
    "    x = ZeroPadding2D((1, 1), name='pool1_zeropadding')(x)\n",
    "    x = MaxPooling2D((3, 3), strides=(2, 2), name='pool1')(x)\n",
    "\n",
    "    # Add dense blocks\n",
    "    for block_idx in range(nb_dense_block - 1):\n",
    "        stage = block_idx+2\n",
    "        x, nb_filter = dense_block(x, stage, nb_layers[block_idx], nb_filter, growth_rate, dropout_rate=dropout_rate, weight_decay=weight_decay)\n",
    "\n",
    "        # Add transition_block\n",
    "        x = transition_block(x, stage, nb_filter, compression=compression, dropout_rate=dropout_rate, weight_decay=weight_decay)\n",
    "        nb_filter = int(nb_filter * compression)\n",
    "\n",
    "    final_stage = stage + 1\n",
    "    x, nb_filter = dense_block(x, final_stage, nb_layers[-1], nb_filter, growth_rate, dropout_rate=dropout_rate, weight_decay=weight_decay)\n",
    "\n",
    "    x = BatchNormalization(epsilon=eps, axis=concat_axis, name='conv'+str(final_stage)+'_blk_bn')(x)\n",
    "    x = Scale(axis=concat_axis, name='conv'+str(final_stage)+'_blk_scale')(x)\n",
    "    x = Activation('relu', name='relu'+str(final_stage)+'_blk')(x)\n",
    "\n",
    "    x_fc = GlobalAveragePooling2D(name='pool'+str(final_stage))(x)\n",
    "    x_fc = Dense(1000, name='fc6')(x_fc)\n",
    "    x_fc = Activation('softmax', name='prob')(x_fc)\n",
    "\n",
    "    model = Model(img_input, x_fc, name='densenet')\n",
    "\n",
    "    if K.image_dim_ordering() == 'th':\n",
    "      # Use pre-trained weights for Theano backend\n",
    "      weights_path = 'imagenet_models/densenet121_weights_th.h5'\n",
    "    else:\n",
    "      # Use pre-trained weights for Tensorflow backend\n",
    "      weights_path = 'imagenet_models/densenet121_weights_tf.h5'\n",
    "\n",
    "    model.load_weights(weights_path, by_name=True)\n",
    "\n",
    "    # Truncate and replace softmax layer for transfer learning\n",
    "    # Cannot use model.layers.pop() since model is not of Sequential() type\n",
    "    # The method below works since pre-trained weights are stored in layers but not in the model\n",
    "    x_newfc = GlobalAveragePooling2D(name='pool'+str(final_stage))(x)\n",
    "    x_newfc = Dense(num_classes, name='fc6')(x_newfc)\n",
    "    x_newfc = Activation('softmax', name='prob')(x_newfc)\n",
    "\n",
    "    model = Model(img_input, x_newfc)\n",
    "\n",
    "    # Learning rate is changed to 0.001\n",
    "    sgd = SGD(lr=1e-3, decay=1e-6, momentum=0.9, nesterov=True)\n",
    "    model.compile(optimizer=sgd, loss='categorical_crossentropy', metrics=['accuracy'])\n",
    "\n",
    "    return model\n",
    "\n",
    "\n",
    "def conv_block(x, stage, branch, nb_filter, dropout_rate=None, weight_decay=1e-4):\n",
    "    '''Apply BatchNorm, Relu, bottleneck 1x1 Conv2D, 3x3 Conv2D, and option dropout\n",
    "        # Arguments\n",
    "            x: input tensor \n",
    "            stage: index for dense block\n",
    "            branch: layer index within each dense block\n",
    "            nb_filter: number of filters\n",
    "            dropout_rate: dropout rate\n",
    "            weight_decay: weight decay factor\n",
    "    '''\n",
    "    eps = 1.1e-5\n",
    "    conv_name_base = 'conv' + str(stage) + '_' + str(branch)\n",
    "    relu_name_base = 'relu' + str(stage) + '_' + str(branch)\n",
    "\n",
    "    # 1x1 Convolution (Bottleneck layer)\n",
    "    inter_channel = nb_filter * 4  \n",
    "    x = BatchNormalization(epsilon=eps, axis=concat_axis, name=conv_name_base+'_x1_bn')(x)\n",
    "    x = Scale(axis=concat_axis, name=conv_name_base+'_x1_scale')(x)\n",
    "    x = Activation('relu', name=relu_name_base+'_x1')(x)\n",
    "    x = Convolution2D(inter_channel, 1, 1, name=conv_name_base+'_x1', bias=False)(x)\n",
    "\n",
    "    if dropout_rate:\n",
    "        x = Dropout(dropout_rate)(x)\n",
    "\n",
    "    # 3x3 Convolution\n",
    "    x = BatchNormalization(epsilon=eps, axis=concat_axis, name=conv_name_base+'_x2_bn')(x)\n",
    "    x = Scale(axis=concat_axis, name=conv_name_base+'_x2_scale')(x)\n",
    "    x = Activation('relu', name=relu_name_base+'_x2')(x)\n",
    "    x = ZeroPadding2D((1, 1), name=conv_name_base+'_x2_zeropadding')(x)\n",
    "    x = Convolution2D(nb_filter, 3, 3, name=conv_name_base+'_x2', bias=False)(x)\n",
    "\n",
    "    if dropout_rate:\n",
    "        x = Dropout(dropout_rate)(x)\n",
    "\n",
    "    return x\n",
    "\n",
    "\n",
    "def transition_block(x, stage, nb_filter, compression=1.0, dropout_rate=None, weight_decay=1E-4):\n",
    "    ''' Apply BatchNorm, 1x1 Convolution, averagePooling, optional compression, dropout \n",
    "        # Arguments\n",
    "            x: input tensor\n",
    "            stage: index for dense block\n",
    "            nb_filter: number of filters\n",
    "            compression: calculated as 1 - reduction. Reduces the number of feature maps in the transition block.\n",
    "            dropout_rate: dropout rate\n",
    "            weight_decay: weight decay factor\n",
    "    '''\n",
    "\n",
    "    eps = 1.1e-5\n",
    "    conv_name_base = 'conv' + str(stage) + '_blk'\n",
    "    relu_name_base = 'relu' + str(stage) + '_blk'\n",
    "    pool_name_base = 'pool' + str(stage) \n",
    "\n",
    "    x = BatchNormalization(epsilon=eps, axis=concat_axis, name=conv_name_base+'_bn')(x)\n",
    "    x = Scale(axis=concat_axis, name=conv_name_base+'_scale')(x)\n",
    "    x = Activation('relu', name=relu_name_base)(x)\n",
    "    x = Convolution2D(int(nb_filter * compression), 1, 1, name=conv_name_base, bias=False)(x)\n",
    "\n",
    "    if dropout_rate:\n",
    "        x = Dropout(dropout_rate)(x)\n",
    "\n",
    "    x = AveragePooling2D((2, 2), strides=(2, 2), name=pool_name_base)(x)\n",
    "\n",
    "    return x\n",
    "\n",
    "\n",
    "def dense_block(x, stage, nb_layers, nb_filter, growth_rate, dropout_rate=None, weight_decay=1e-4, grow_nb_filters=True):\n",
    "    ''' Build a dense_block where the output of each conv_block is fed to subsequent ones\n",
    "        # Arguments\n",
    "            x: input tensor\n",
    "            stage: index for dense block\n",
    "            nb_layers: the number of layers of conv_block to append to the model.\n",
    "            nb_filter: number of filters\n",
    "            growth_rate: growth rate\n",
    "            dropout_rate: dropout rate\n",
    "            weight_decay: weight decay factor\n",
    "            grow_nb_filters: flag to decide to allow number of filters to grow\n",
    "    '''\n",
    "\n",
    "    eps = 1.1e-5\n",
    "    concat_feat = x\n",
    "\n",
    "    for i in range(nb_layers):\n",
    "        branch = i+1\n",
    "        x = conv_block(concat_feat, stage, branch, growth_rate, dropout_rate, weight_decay)\n",
    "        concat_feat = merge([concat_feat, x], mode='concat', concat_axis=concat_axis, name='concat_'+str(stage)+'_'+str(branch))\n",
    "\n",
    "        if grow_nb_filters:\n",
    "            nb_filter += growth_rate\n",
    "\n",
    "    return concat_feat, nb_filter"
   ]
  },
  {
   "cell_type": "markdown",
   "metadata": {},
   "source": [
    "### Fine tuning using our dataset"
   ]
  },
  {
   "cell_type": "code",
   "execution_count": null,
   "metadata": {},
   "outputs": [],
   "source": [
    "def load_data():\n",
    "    x_train, x_test, y_train, y_test = train_test_split(X, Y_categorical, test_size=0.1, random_state=42)\n",
    "    return x_train, y_train, x_test, y_test"
   ]
  },
  {
   "cell_type": "code",
   "execution_count": 9,
   "metadata": {},
   "outputs": [
    {
     "name": "stderr",
     "output_type": "stream",
     "text": [
      "C:\\Users\\Coac\\Anaconda3\\lib\\site-packages\\ipykernel\\__main__.py:57: UserWarning: Update your `Conv2D` call to the Keras 2 API: `Conv2D(64, (7, 7), name=\"conv1\", strides=(2, 2), use_bias=False)`\n",
      "C:\\Users\\Coac\\Anaconda3\\lib\\site-packages\\tensorflow\\python\\util\\tf_inspect.py:45: DeprecationWarning: inspect.getargspec() is deprecated, use inspect.signature() or inspect.getfullargspec()\n",
      "  if d.decorator_argspec is not None), _inspect.getargspec(target))\n",
      "C:\\Users\\Coac\\Anaconda3\\lib\\site-packages\\ipykernel\\__main__.py:130: UserWarning: Update your `Conv2D` call to the Keras 2 API: `Conv2D(128, (1, 1), name=\"conv2_1_x1\", use_bias=False)`\n",
      "C:\\Users\\Coac\\Anaconda3\\lib\\site-packages\\ipykernel\\__main__.py:140: UserWarning: Update your `Conv2D` call to the Keras 2 API: `Conv2D(32, (3, 3), name=\"conv2_1_x2\", use_bias=False)`\n",
      "C:\\Users\\Coac\\Anaconda3\\lib\\site-packages\\ipykernel\\__main__.py:196: UserWarning: The `merge` function is deprecated and will be removed after 08/2017. Use instead layers from `keras.layers.merge`, e.g. `add`, `concatenate`, etc.\n",
      "C:\\Users\\Coac\\Anaconda3\\lib\\site-packages\\keras\\legacy\\layers.py:458: UserWarning: The `Merge` layer is deprecated and will be removed after 08/2017. Use instead layers from `keras.layers.merge`, e.g. `add`, `concatenate`, etc.\n",
      "  name=name)\n",
      "C:\\Users\\Coac\\Anaconda3\\lib\\site-packages\\ipykernel\\__main__.py:130: UserWarning: Update your `Conv2D` call to the Keras 2 API: `Conv2D(128, (1, 1), name=\"conv2_2_x1\", use_bias=False)`\n",
      "C:\\Users\\Coac\\Anaconda3\\lib\\site-packages\\ipykernel\\__main__.py:140: UserWarning: Update your `Conv2D` call to the Keras 2 API: `Conv2D(32, (3, 3), name=\"conv2_2_x2\", use_bias=False)`\n",
      "C:\\Users\\Coac\\Anaconda3\\lib\\site-packages\\ipykernel\\__main__.py:130: UserWarning: Update your `Conv2D` call to the Keras 2 API: `Conv2D(128, (1, 1), name=\"conv2_3_x1\", use_bias=False)`\n",
      "C:\\Users\\Coac\\Anaconda3\\lib\\site-packages\\ipykernel\\__main__.py:140: UserWarning: Update your `Conv2D` call to the Keras 2 API: `Conv2D(32, (3, 3), name=\"conv2_3_x2\", use_bias=False)`\n",
      "C:\\Users\\Coac\\Anaconda3\\lib\\site-packages\\ipykernel\\__main__.py:130: UserWarning: Update your `Conv2D` call to the Keras 2 API: `Conv2D(128, (1, 1), name=\"conv2_4_x1\", use_bias=False)`\n",
      "C:\\Users\\Coac\\Anaconda3\\lib\\site-packages\\ipykernel\\__main__.py:140: UserWarning: Update your `Conv2D` call to the Keras 2 API: `Conv2D(32, (3, 3), name=\"conv2_4_x2\", use_bias=False)`\n",
      "C:\\Users\\Coac\\Anaconda3\\lib\\site-packages\\ipykernel\\__main__.py:130: UserWarning: Update your `Conv2D` call to the Keras 2 API: `Conv2D(128, (1, 1), name=\"conv2_5_x1\", use_bias=False)`\n",
      "C:\\Users\\Coac\\Anaconda3\\lib\\site-packages\\ipykernel\\__main__.py:140: UserWarning: Update your `Conv2D` call to the Keras 2 API: `Conv2D(32, (3, 3), name=\"conv2_5_x2\", use_bias=False)`\n",
      "C:\\Users\\Coac\\Anaconda3\\lib\\site-packages\\ipykernel\\__main__.py:130: UserWarning: Update your `Conv2D` call to the Keras 2 API: `Conv2D(128, (1, 1), name=\"conv2_6_x1\", use_bias=False)`\n",
      "C:\\Users\\Coac\\Anaconda3\\lib\\site-packages\\ipykernel\\__main__.py:140: UserWarning: Update your `Conv2D` call to the Keras 2 API: `Conv2D(32, (3, 3), name=\"conv2_6_x2\", use_bias=False)`\n",
      "C:\\Users\\Coac\\Anaconda3\\lib\\site-packages\\ipykernel\\__main__.py:167: UserWarning: Update your `Conv2D` call to the Keras 2 API: `Conv2D(128, (1, 1), name=\"conv2_blk\", use_bias=False)`\n",
      "C:\\Users\\Coac\\Anaconda3\\lib\\site-packages\\ipykernel\\__main__.py:130: UserWarning: Update your `Conv2D` call to the Keras 2 API: `Conv2D(128, (1, 1), name=\"conv3_1_x1\", use_bias=False)`\n",
      "C:\\Users\\Coac\\Anaconda3\\lib\\site-packages\\ipykernel\\__main__.py:140: UserWarning: Update your `Conv2D` call to the Keras 2 API: `Conv2D(32, (3, 3), name=\"conv3_1_x2\", use_bias=False)`\n",
      "C:\\Users\\Coac\\Anaconda3\\lib\\site-packages\\ipykernel\\__main__.py:130: UserWarning: Update your `Conv2D` call to the Keras 2 API: `Conv2D(128, (1, 1), name=\"conv3_2_x1\", use_bias=False)`\n",
      "C:\\Users\\Coac\\Anaconda3\\lib\\site-packages\\ipykernel\\__main__.py:140: UserWarning: Update your `Conv2D` call to the Keras 2 API: `Conv2D(32, (3, 3), name=\"conv3_2_x2\", use_bias=False)`\n",
      "C:\\Users\\Coac\\Anaconda3\\lib\\site-packages\\ipykernel\\__main__.py:130: UserWarning: Update your `Conv2D` call to the Keras 2 API: `Conv2D(128, (1, 1), name=\"conv3_3_x1\", use_bias=False)`\n",
      "C:\\Users\\Coac\\Anaconda3\\lib\\site-packages\\ipykernel\\__main__.py:140: UserWarning: Update your `Conv2D` call to the Keras 2 API: `Conv2D(32, (3, 3), name=\"conv3_3_x2\", use_bias=False)`\n",
      "C:\\Users\\Coac\\Anaconda3\\lib\\site-packages\\ipykernel\\__main__.py:130: UserWarning: Update your `Conv2D` call to the Keras 2 API: `Conv2D(128, (1, 1), name=\"conv3_4_x1\", use_bias=False)`\n",
      "C:\\Users\\Coac\\Anaconda3\\lib\\site-packages\\ipykernel\\__main__.py:140: UserWarning: Update your `Conv2D` call to the Keras 2 API: `Conv2D(32, (3, 3), name=\"conv3_4_x2\", use_bias=False)`\n",
      "C:\\Users\\Coac\\Anaconda3\\lib\\site-packages\\ipykernel\\__main__.py:130: UserWarning: Update your `Conv2D` call to the Keras 2 API: `Conv2D(128, (1, 1), name=\"conv3_5_x1\", use_bias=False)`\n",
      "C:\\Users\\Coac\\Anaconda3\\lib\\site-packages\\ipykernel\\__main__.py:140: UserWarning: Update your `Conv2D` call to the Keras 2 API: `Conv2D(32, (3, 3), name=\"conv3_5_x2\", use_bias=False)`\n",
      "C:\\Users\\Coac\\Anaconda3\\lib\\site-packages\\ipykernel\\__main__.py:130: UserWarning: Update your `Conv2D` call to the Keras 2 API: `Conv2D(128, (1, 1), name=\"conv3_6_x1\", use_bias=False)`\n",
      "C:\\Users\\Coac\\Anaconda3\\lib\\site-packages\\ipykernel\\__main__.py:140: UserWarning: Update your `Conv2D` call to the Keras 2 API: `Conv2D(32, (3, 3), name=\"conv3_6_x2\", use_bias=False)`\n",
      "C:\\Users\\Coac\\Anaconda3\\lib\\site-packages\\ipykernel\\__main__.py:130: UserWarning: Update your `Conv2D` call to the Keras 2 API: `Conv2D(128, (1, 1), name=\"conv3_7_x1\", use_bias=False)`\n",
      "C:\\Users\\Coac\\Anaconda3\\lib\\site-packages\\ipykernel\\__main__.py:140: UserWarning: Update your `Conv2D` call to the Keras 2 API: `Conv2D(32, (3, 3), name=\"conv3_7_x2\", use_bias=False)`\n",
      "C:\\Users\\Coac\\Anaconda3\\lib\\site-packages\\ipykernel\\__main__.py:130: UserWarning: Update your `Conv2D` call to the Keras 2 API: `Conv2D(128, (1, 1), name=\"conv3_8_x1\", use_bias=False)`\n",
      "C:\\Users\\Coac\\Anaconda3\\lib\\site-packages\\ipykernel\\__main__.py:140: UserWarning: Update your `Conv2D` call to the Keras 2 API: `Conv2D(32, (3, 3), name=\"conv3_8_x2\", use_bias=False)`\n",
      "C:\\Users\\Coac\\Anaconda3\\lib\\site-packages\\ipykernel\\__main__.py:130: UserWarning: Update your `Conv2D` call to the Keras 2 API: `Conv2D(128, (1, 1), name=\"conv3_9_x1\", use_bias=False)`\n",
      "C:\\Users\\Coac\\Anaconda3\\lib\\site-packages\\ipykernel\\__main__.py:140: UserWarning: Update your `Conv2D` call to the Keras 2 API: `Conv2D(32, (3, 3), name=\"conv3_9_x2\", use_bias=False)`\n",
      "C:\\Users\\Coac\\Anaconda3\\lib\\site-packages\\ipykernel\\__main__.py:130: UserWarning: Update your `Conv2D` call to the Keras 2 API: `Conv2D(128, (1, 1), name=\"conv3_10_x1\", use_bias=False)`\n",
      "C:\\Users\\Coac\\Anaconda3\\lib\\site-packages\\ipykernel\\__main__.py:140: UserWarning: Update your `Conv2D` call to the Keras 2 API: `Conv2D(32, (3, 3), name=\"conv3_10_x2\", use_bias=False)`\n",
      "C:\\Users\\Coac\\Anaconda3\\lib\\site-packages\\ipykernel\\__main__.py:130: UserWarning: Update your `Conv2D` call to the Keras 2 API: `Conv2D(128, (1, 1), name=\"conv3_11_x1\", use_bias=False)`\n",
      "C:\\Users\\Coac\\Anaconda3\\lib\\site-packages\\ipykernel\\__main__.py:140: UserWarning: Update your `Conv2D` call to the Keras 2 API: `Conv2D(32, (3, 3), name=\"conv3_11_x2\", use_bias=False)`\n",
      "C:\\Users\\Coac\\Anaconda3\\lib\\site-packages\\ipykernel\\__main__.py:130: UserWarning: Update your `Conv2D` call to the Keras 2 API: `Conv2D(128, (1, 1), name=\"conv3_12_x1\", use_bias=False)`\n",
      "C:\\Users\\Coac\\Anaconda3\\lib\\site-packages\\ipykernel\\__main__.py:140: UserWarning: Update your `Conv2D` call to the Keras 2 API: `Conv2D(32, (3, 3), name=\"conv3_12_x2\", use_bias=False)`\n",
      "C:\\Users\\Coac\\Anaconda3\\lib\\site-packages\\ipykernel\\__main__.py:167: UserWarning: Update your `Conv2D` call to the Keras 2 API: `Conv2D(256, (1, 1), name=\"conv3_blk\", use_bias=False)`\n",
      "C:\\Users\\Coac\\Anaconda3\\lib\\site-packages\\ipykernel\\__main__.py:130: UserWarning: Update your `Conv2D` call to the Keras 2 API: `Conv2D(128, (1, 1), name=\"conv4_1_x1\", use_bias=False)`\n",
      "C:\\Users\\Coac\\Anaconda3\\lib\\site-packages\\ipykernel\\__main__.py:140: UserWarning: Update your `Conv2D` call to the Keras 2 API: `Conv2D(32, (3, 3), name=\"conv4_1_x2\", use_bias=False)`\n",
      "C:\\Users\\Coac\\Anaconda3\\lib\\site-packages\\ipykernel\\__main__.py:130: UserWarning: Update your `Conv2D` call to the Keras 2 API: `Conv2D(128, (1, 1), name=\"conv4_2_x1\", use_bias=False)`\n"
     ]
    },
    {
     "name": "stderr",
     "output_type": "stream",
     "text": [
      "C:\\Users\\Coac\\Anaconda3\\lib\\site-packages\\ipykernel\\__main__.py:140: UserWarning: Update your `Conv2D` call to the Keras 2 API: `Conv2D(32, (3, 3), name=\"conv4_2_x2\", use_bias=False)`\n",
      "C:\\Users\\Coac\\Anaconda3\\lib\\site-packages\\ipykernel\\__main__.py:130: UserWarning: Update your `Conv2D` call to the Keras 2 API: `Conv2D(128, (1, 1), name=\"conv4_3_x1\", use_bias=False)`\n",
      "C:\\Users\\Coac\\Anaconda3\\lib\\site-packages\\ipykernel\\__main__.py:140: UserWarning: Update your `Conv2D` call to the Keras 2 API: `Conv2D(32, (3, 3), name=\"conv4_3_x2\", use_bias=False)`\n",
      "C:\\Users\\Coac\\Anaconda3\\lib\\site-packages\\ipykernel\\__main__.py:130: UserWarning: Update your `Conv2D` call to the Keras 2 API: `Conv2D(128, (1, 1), name=\"conv4_4_x1\", use_bias=False)`\n",
      "C:\\Users\\Coac\\Anaconda3\\lib\\site-packages\\ipykernel\\__main__.py:140: UserWarning: Update your `Conv2D` call to the Keras 2 API: `Conv2D(32, (3, 3), name=\"conv4_4_x2\", use_bias=False)`\n",
      "C:\\Users\\Coac\\Anaconda3\\lib\\site-packages\\ipykernel\\__main__.py:130: UserWarning: Update your `Conv2D` call to the Keras 2 API: `Conv2D(128, (1, 1), name=\"conv4_5_x1\", use_bias=False)`\n",
      "C:\\Users\\Coac\\Anaconda3\\lib\\site-packages\\ipykernel\\__main__.py:140: UserWarning: Update your `Conv2D` call to the Keras 2 API: `Conv2D(32, (3, 3), name=\"conv4_5_x2\", use_bias=False)`\n",
      "C:\\Users\\Coac\\Anaconda3\\lib\\site-packages\\ipykernel\\__main__.py:130: UserWarning: Update your `Conv2D` call to the Keras 2 API: `Conv2D(128, (1, 1), name=\"conv4_6_x1\", use_bias=False)`\n",
      "C:\\Users\\Coac\\Anaconda3\\lib\\site-packages\\ipykernel\\__main__.py:140: UserWarning: Update your `Conv2D` call to the Keras 2 API: `Conv2D(32, (3, 3), name=\"conv4_6_x2\", use_bias=False)`\n",
      "C:\\Users\\Coac\\Anaconda3\\lib\\site-packages\\ipykernel\\__main__.py:130: UserWarning: Update your `Conv2D` call to the Keras 2 API: `Conv2D(128, (1, 1), name=\"conv4_7_x1\", use_bias=False)`\n",
      "C:\\Users\\Coac\\Anaconda3\\lib\\site-packages\\ipykernel\\__main__.py:140: UserWarning: Update your `Conv2D` call to the Keras 2 API: `Conv2D(32, (3, 3), name=\"conv4_7_x2\", use_bias=False)`\n",
      "C:\\Users\\Coac\\Anaconda3\\lib\\site-packages\\ipykernel\\__main__.py:130: UserWarning: Update your `Conv2D` call to the Keras 2 API: `Conv2D(128, (1, 1), name=\"conv4_8_x1\", use_bias=False)`\n",
      "C:\\Users\\Coac\\Anaconda3\\lib\\site-packages\\ipykernel\\__main__.py:140: UserWarning: Update your `Conv2D` call to the Keras 2 API: `Conv2D(32, (3, 3), name=\"conv4_8_x2\", use_bias=False)`\n",
      "C:\\Users\\Coac\\Anaconda3\\lib\\site-packages\\ipykernel\\__main__.py:130: UserWarning: Update your `Conv2D` call to the Keras 2 API: `Conv2D(128, (1, 1), name=\"conv4_9_x1\", use_bias=False)`\n",
      "C:\\Users\\Coac\\Anaconda3\\lib\\site-packages\\ipykernel\\__main__.py:140: UserWarning: Update your `Conv2D` call to the Keras 2 API: `Conv2D(32, (3, 3), name=\"conv4_9_x2\", use_bias=False)`\n",
      "C:\\Users\\Coac\\Anaconda3\\lib\\site-packages\\ipykernel\\__main__.py:130: UserWarning: Update your `Conv2D` call to the Keras 2 API: `Conv2D(128, (1, 1), name=\"conv4_10_x1\", use_bias=False)`\n",
      "C:\\Users\\Coac\\Anaconda3\\lib\\site-packages\\ipykernel\\__main__.py:140: UserWarning: Update your `Conv2D` call to the Keras 2 API: `Conv2D(32, (3, 3), name=\"conv4_10_x2\", use_bias=False)`\n",
      "C:\\Users\\Coac\\Anaconda3\\lib\\site-packages\\ipykernel\\__main__.py:130: UserWarning: Update your `Conv2D` call to the Keras 2 API: `Conv2D(128, (1, 1), name=\"conv4_11_x1\", use_bias=False)`\n",
      "C:\\Users\\Coac\\Anaconda3\\lib\\site-packages\\ipykernel\\__main__.py:140: UserWarning: Update your `Conv2D` call to the Keras 2 API: `Conv2D(32, (3, 3), name=\"conv4_11_x2\", use_bias=False)`\n",
      "C:\\Users\\Coac\\Anaconda3\\lib\\site-packages\\ipykernel\\__main__.py:130: UserWarning: Update your `Conv2D` call to the Keras 2 API: `Conv2D(128, (1, 1), name=\"conv4_12_x1\", use_bias=False)`\n",
      "C:\\Users\\Coac\\Anaconda3\\lib\\site-packages\\ipykernel\\__main__.py:140: UserWarning: Update your `Conv2D` call to the Keras 2 API: `Conv2D(32, (3, 3), name=\"conv4_12_x2\", use_bias=False)`\n",
      "C:\\Users\\Coac\\Anaconda3\\lib\\site-packages\\ipykernel\\__main__.py:130: UserWarning: Update your `Conv2D` call to the Keras 2 API: `Conv2D(128, (1, 1), name=\"conv4_13_x1\", use_bias=False)`\n",
      "C:\\Users\\Coac\\Anaconda3\\lib\\site-packages\\ipykernel\\__main__.py:140: UserWarning: Update your `Conv2D` call to the Keras 2 API: `Conv2D(32, (3, 3), name=\"conv4_13_x2\", use_bias=False)`\n",
      "C:\\Users\\Coac\\Anaconda3\\lib\\site-packages\\ipykernel\\__main__.py:130: UserWarning: Update your `Conv2D` call to the Keras 2 API: `Conv2D(128, (1, 1), name=\"conv4_14_x1\", use_bias=False)`\n",
      "C:\\Users\\Coac\\Anaconda3\\lib\\site-packages\\ipykernel\\__main__.py:140: UserWarning: Update your `Conv2D` call to the Keras 2 API: `Conv2D(32, (3, 3), name=\"conv4_14_x2\", use_bias=False)`\n",
      "C:\\Users\\Coac\\Anaconda3\\lib\\site-packages\\ipykernel\\__main__.py:130: UserWarning: Update your `Conv2D` call to the Keras 2 API: `Conv2D(128, (1, 1), name=\"conv4_15_x1\", use_bias=False)`\n",
      "C:\\Users\\Coac\\Anaconda3\\lib\\site-packages\\ipykernel\\__main__.py:140: UserWarning: Update your `Conv2D` call to the Keras 2 API: `Conv2D(32, (3, 3), name=\"conv4_15_x2\", use_bias=False)`\n",
      "C:\\Users\\Coac\\Anaconda3\\lib\\site-packages\\ipykernel\\__main__.py:130: UserWarning: Update your `Conv2D` call to the Keras 2 API: `Conv2D(128, (1, 1), name=\"conv4_16_x1\", use_bias=False)`\n",
      "C:\\Users\\Coac\\Anaconda3\\lib\\site-packages\\ipykernel\\__main__.py:140: UserWarning: Update your `Conv2D` call to the Keras 2 API: `Conv2D(32, (3, 3), name=\"conv4_16_x2\", use_bias=False)`\n",
      "C:\\Users\\Coac\\Anaconda3\\lib\\site-packages\\ipykernel\\__main__.py:130: UserWarning: Update your `Conv2D` call to the Keras 2 API: `Conv2D(128, (1, 1), name=\"conv4_17_x1\", use_bias=False)`\n",
      "C:\\Users\\Coac\\Anaconda3\\lib\\site-packages\\ipykernel\\__main__.py:140: UserWarning: Update your `Conv2D` call to the Keras 2 API: `Conv2D(32, (3, 3), name=\"conv4_17_x2\", use_bias=False)`\n",
      "C:\\Users\\Coac\\Anaconda3\\lib\\site-packages\\ipykernel\\__main__.py:130: UserWarning: Update your `Conv2D` call to the Keras 2 API: `Conv2D(128, (1, 1), name=\"conv4_18_x1\", use_bias=False)`\n",
      "C:\\Users\\Coac\\Anaconda3\\lib\\site-packages\\ipykernel\\__main__.py:140: UserWarning: Update your `Conv2D` call to the Keras 2 API: `Conv2D(32, (3, 3), name=\"conv4_18_x2\", use_bias=False)`\n",
      "C:\\Users\\Coac\\Anaconda3\\lib\\site-packages\\ipykernel\\__main__.py:130: UserWarning: Update your `Conv2D` call to the Keras 2 API: `Conv2D(128, (1, 1), name=\"conv4_19_x1\", use_bias=False)`\n",
      "C:\\Users\\Coac\\Anaconda3\\lib\\site-packages\\ipykernel\\__main__.py:140: UserWarning: Update your `Conv2D` call to the Keras 2 API: `Conv2D(32, (3, 3), name=\"conv4_19_x2\", use_bias=False)`\n",
      "C:\\Users\\Coac\\Anaconda3\\lib\\site-packages\\ipykernel\\__main__.py:130: UserWarning: Update your `Conv2D` call to the Keras 2 API: `Conv2D(128, (1, 1), name=\"conv4_20_x1\", use_bias=False)`\n",
      "C:\\Users\\Coac\\Anaconda3\\lib\\site-packages\\ipykernel\\__main__.py:140: UserWarning: Update your `Conv2D` call to the Keras 2 API: `Conv2D(32, (3, 3), name=\"conv4_20_x2\", use_bias=False)`\n",
      "C:\\Users\\Coac\\Anaconda3\\lib\\site-packages\\ipykernel\\__main__.py:130: UserWarning: Update your `Conv2D` call to the Keras 2 API: `Conv2D(128, (1, 1), name=\"conv4_21_x1\", use_bias=False)`\n",
      "C:\\Users\\Coac\\Anaconda3\\lib\\site-packages\\ipykernel\\__main__.py:140: UserWarning: Update your `Conv2D` call to the Keras 2 API: `Conv2D(32, (3, 3), name=\"conv4_21_x2\", use_bias=False)`\n",
      "C:\\Users\\Coac\\Anaconda3\\lib\\site-packages\\ipykernel\\__main__.py:130: UserWarning: Update your `Conv2D` call to the Keras 2 API: `Conv2D(128, (1, 1), name=\"conv4_22_x1\", use_bias=False)`\n",
      "C:\\Users\\Coac\\Anaconda3\\lib\\site-packages\\ipykernel\\__main__.py:140: UserWarning: Update your `Conv2D` call to the Keras 2 API: `Conv2D(32, (3, 3), name=\"conv4_22_x2\", use_bias=False)`\n",
      "C:\\Users\\Coac\\Anaconda3\\lib\\site-packages\\ipykernel\\__main__.py:130: UserWarning: Update your `Conv2D` call to the Keras 2 API: `Conv2D(128, (1, 1), name=\"conv4_23_x1\", use_bias=False)`\n",
      "C:\\Users\\Coac\\Anaconda3\\lib\\site-packages\\ipykernel\\__main__.py:140: UserWarning: Update your `Conv2D` call to the Keras 2 API: `Conv2D(32, (3, 3), name=\"conv4_23_x2\", use_bias=False)`\n",
      "C:\\Users\\Coac\\Anaconda3\\lib\\site-packages\\ipykernel\\__main__.py:130: UserWarning: Update your `Conv2D` call to the Keras 2 API: `Conv2D(128, (1, 1), name=\"conv4_24_x1\", use_bias=False)`\n",
      "C:\\Users\\Coac\\Anaconda3\\lib\\site-packages\\ipykernel\\__main__.py:140: UserWarning: Update your `Conv2D` call to the Keras 2 API: `Conv2D(32, (3, 3), name=\"conv4_24_x2\", use_bias=False)`\n",
      "C:\\Users\\Coac\\Anaconda3\\lib\\site-packages\\ipykernel\\__main__.py:167: UserWarning: Update your `Conv2D` call to the Keras 2 API: `Conv2D(512, (1, 1), name=\"conv4_blk\", use_bias=False)`\n"
     ]
    },
    {
     "name": "stderr",
     "output_type": "stream",
     "text": [
      "C:\\Users\\Coac\\Anaconda3\\lib\\site-packages\\ipykernel\\__main__.py:130: UserWarning: Update your `Conv2D` call to the Keras 2 API: `Conv2D(128, (1, 1), name=\"conv5_1_x1\", use_bias=False)`\n",
      "C:\\Users\\Coac\\Anaconda3\\lib\\site-packages\\ipykernel\\__main__.py:140: UserWarning: Update your `Conv2D` call to the Keras 2 API: `Conv2D(32, (3, 3), name=\"conv5_1_x2\", use_bias=False)`\n",
      "C:\\Users\\Coac\\Anaconda3\\lib\\site-packages\\ipykernel\\__main__.py:130: UserWarning: Update your `Conv2D` call to the Keras 2 API: `Conv2D(128, (1, 1), name=\"conv5_2_x1\", use_bias=False)`\n",
      "C:\\Users\\Coac\\Anaconda3\\lib\\site-packages\\ipykernel\\__main__.py:140: UserWarning: Update your `Conv2D` call to the Keras 2 API: `Conv2D(32, (3, 3), name=\"conv5_2_x2\", use_bias=False)`\n",
      "C:\\Users\\Coac\\Anaconda3\\lib\\site-packages\\ipykernel\\__main__.py:130: UserWarning: Update your `Conv2D` call to the Keras 2 API: `Conv2D(128, (1, 1), name=\"conv5_3_x1\", use_bias=False)`\n",
      "C:\\Users\\Coac\\Anaconda3\\lib\\site-packages\\ipykernel\\__main__.py:140: UserWarning: Update your `Conv2D` call to the Keras 2 API: `Conv2D(32, (3, 3), name=\"conv5_3_x2\", use_bias=False)`\n",
      "C:\\Users\\Coac\\Anaconda3\\lib\\site-packages\\ipykernel\\__main__.py:130: UserWarning: Update your `Conv2D` call to the Keras 2 API: `Conv2D(128, (1, 1), name=\"conv5_4_x1\", use_bias=False)`\n",
      "C:\\Users\\Coac\\Anaconda3\\lib\\site-packages\\ipykernel\\__main__.py:140: UserWarning: Update your `Conv2D` call to the Keras 2 API: `Conv2D(32, (3, 3), name=\"conv5_4_x2\", use_bias=False)`\n",
      "C:\\Users\\Coac\\Anaconda3\\lib\\site-packages\\ipykernel\\__main__.py:130: UserWarning: Update your `Conv2D` call to the Keras 2 API: `Conv2D(128, (1, 1), name=\"conv5_5_x1\", use_bias=False)`\n",
      "C:\\Users\\Coac\\Anaconda3\\lib\\site-packages\\ipykernel\\__main__.py:140: UserWarning: Update your `Conv2D` call to the Keras 2 API: `Conv2D(32, (3, 3), name=\"conv5_5_x2\", use_bias=False)`\n",
      "C:\\Users\\Coac\\Anaconda3\\lib\\site-packages\\ipykernel\\__main__.py:130: UserWarning: Update your `Conv2D` call to the Keras 2 API: `Conv2D(128, (1, 1), name=\"conv5_6_x1\", use_bias=False)`\n",
      "C:\\Users\\Coac\\Anaconda3\\lib\\site-packages\\ipykernel\\__main__.py:140: UserWarning: Update your `Conv2D` call to the Keras 2 API: `Conv2D(32, (3, 3), name=\"conv5_6_x2\", use_bias=False)`\n",
      "C:\\Users\\Coac\\Anaconda3\\lib\\site-packages\\ipykernel\\__main__.py:130: UserWarning: Update your `Conv2D` call to the Keras 2 API: `Conv2D(128, (1, 1), name=\"conv5_7_x1\", use_bias=False)`\n",
      "C:\\Users\\Coac\\Anaconda3\\lib\\site-packages\\ipykernel\\__main__.py:140: UserWarning: Update your `Conv2D` call to the Keras 2 API: `Conv2D(32, (3, 3), name=\"conv5_7_x2\", use_bias=False)`\n",
      "C:\\Users\\Coac\\Anaconda3\\lib\\site-packages\\ipykernel\\__main__.py:130: UserWarning: Update your `Conv2D` call to the Keras 2 API: `Conv2D(128, (1, 1), name=\"conv5_8_x1\", use_bias=False)`\n",
      "C:\\Users\\Coac\\Anaconda3\\lib\\site-packages\\ipykernel\\__main__.py:140: UserWarning: Update your `Conv2D` call to the Keras 2 API: `Conv2D(32, (3, 3), name=\"conv5_8_x2\", use_bias=False)`\n",
      "C:\\Users\\Coac\\Anaconda3\\lib\\site-packages\\ipykernel\\__main__.py:130: UserWarning: Update your `Conv2D` call to the Keras 2 API: `Conv2D(128, (1, 1), name=\"conv5_9_x1\", use_bias=False)`\n",
      "C:\\Users\\Coac\\Anaconda3\\lib\\site-packages\\ipykernel\\__main__.py:140: UserWarning: Update your `Conv2D` call to the Keras 2 API: `Conv2D(32, (3, 3), name=\"conv5_9_x2\", use_bias=False)`\n",
      "C:\\Users\\Coac\\Anaconda3\\lib\\site-packages\\ipykernel\\__main__.py:130: UserWarning: Update your `Conv2D` call to the Keras 2 API: `Conv2D(128, (1, 1), name=\"conv5_10_x1\", use_bias=False)`\n",
      "C:\\Users\\Coac\\Anaconda3\\lib\\site-packages\\ipykernel\\__main__.py:140: UserWarning: Update your `Conv2D` call to the Keras 2 API: `Conv2D(32, (3, 3), name=\"conv5_10_x2\", use_bias=False)`\n",
      "C:\\Users\\Coac\\Anaconda3\\lib\\site-packages\\ipykernel\\__main__.py:130: UserWarning: Update your `Conv2D` call to the Keras 2 API: `Conv2D(128, (1, 1), name=\"conv5_11_x1\", use_bias=False)`\n",
      "C:\\Users\\Coac\\Anaconda3\\lib\\site-packages\\ipykernel\\__main__.py:140: UserWarning: Update your `Conv2D` call to the Keras 2 API: `Conv2D(32, (3, 3), name=\"conv5_11_x2\", use_bias=False)`\n",
      "C:\\Users\\Coac\\Anaconda3\\lib\\site-packages\\ipykernel\\__main__.py:130: UserWarning: Update your `Conv2D` call to the Keras 2 API: `Conv2D(128, (1, 1), name=\"conv5_12_x1\", use_bias=False)`\n",
      "C:\\Users\\Coac\\Anaconda3\\lib\\site-packages\\ipykernel\\__main__.py:140: UserWarning: Update your `Conv2D` call to the Keras 2 API: `Conv2D(32, (3, 3), name=\"conv5_12_x2\", use_bias=False)`\n",
      "C:\\Users\\Coac\\Anaconda3\\lib\\site-packages\\ipykernel\\__main__.py:130: UserWarning: Update your `Conv2D` call to the Keras 2 API: `Conv2D(128, (1, 1), name=\"conv5_13_x1\", use_bias=False)`\n",
      "C:\\Users\\Coac\\Anaconda3\\lib\\site-packages\\ipykernel\\__main__.py:140: UserWarning: Update your `Conv2D` call to the Keras 2 API: `Conv2D(32, (3, 3), name=\"conv5_13_x2\", use_bias=False)`\n",
      "C:\\Users\\Coac\\Anaconda3\\lib\\site-packages\\ipykernel\\__main__.py:130: UserWarning: Update your `Conv2D` call to the Keras 2 API: `Conv2D(128, (1, 1), name=\"conv5_14_x1\", use_bias=False)`\n",
      "C:\\Users\\Coac\\Anaconda3\\lib\\site-packages\\ipykernel\\__main__.py:140: UserWarning: Update your `Conv2D` call to the Keras 2 API: `Conv2D(32, (3, 3), name=\"conv5_14_x2\", use_bias=False)`\n",
      "C:\\Users\\Coac\\Anaconda3\\lib\\site-packages\\ipykernel\\__main__.py:130: UserWarning: Update your `Conv2D` call to the Keras 2 API: `Conv2D(128, (1, 1), name=\"conv5_15_x1\", use_bias=False)`\n",
      "C:\\Users\\Coac\\Anaconda3\\lib\\site-packages\\ipykernel\\__main__.py:140: UserWarning: Update your `Conv2D` call to the Keras 2 API: `Conv2D(32, (3, 3), name=\"conv5_15_x2\", use_bias=False)`\n",
      "C:\\Users\\Coac\\Anaconda3\\lib\\site-packages\\ipykernel\\__main__.py:130: UserWarning: Update your `Conv2D` call to the Keras 2 API: `Conv2D(128, (1, 1), name=\"conv5_16_x1\", use_bias=False)`\n",
      "C:\\Users\\Coac\\Anaconda3\\lib\\site-packages\\ipykernel\\__main__.py:140: UserWarning: Update your `Conv2D` call to the Keras 2 API: `Conv2D(32, (3, 3), name=\"conv5_16_x2\", use_bias=False)`\n",
      "C:\\Users\\Coac\\Anaconda3\\lib\\site-packages\\ipykernel\\__main__.py:21: UserWarning: The `nb_epoch` argument in `fit` has been renamed `epochs`.\n"
     ]
    },
    {
     "name": "stdout",
     "output_type": "stream",
     "text": [
      "Train on 5625 samples, validate on 625 samples\n",
      "Epoch 1/1\n",
      "5625/5625 [==============================] - 1621s 288ms/step - loss: 0.7209 - acc: 0.6428 - val_loss: 0.6390 - val_acc: 0.7296\n",
      "625/625 [==============================] - 69s 110ms/step\n"
     ]
    }
   ],
   "source": [
    "img_rows, img_cols = 64, 64 # Resolution of inputs\n",
    "channel = 3\n",
    "num_classes = 2 \n",
    "batch_size = 1 \n",
    "nb_epoch = 1\n",
    "\n",
    "X_train, Y_train, X_valid, Y_valid = load_data()\n",
    "\n",
    "# Load our model\n",
    "model = densenet121_model(img_rows=img_rows, img_cols=img_cols, color_type=channel, num_classes=num_classes)\n",
    "\n",
    "# Start Fine-tuning\n",
    "model.fit(X_train, Y_train,\n",
    "          batch_size=batch_size,\n",
    "          nb_epoch=nb_epoch,\n",
    "          shuffle=True,\n",
    "          verbose=1,\n",
    "          validation_data=(X_valid, Y_valid),\n",
    "          )"
   ]
  },
  {
   "cell_type": "code",
   "execution_count": 18,
   "metadata": {},
   "outputs": [
    {
     "name": "stdout",
     "output_type": "stream",
     "text": [
      "625/625 [==============================] - 63s 101ms/step\n"
     ]
    }
   ],
   "source": [
    "# Make predictions\n",
    "predictions = model.predict(X_train[:625], batch_size=batch_size, verbose=1)"
   ]
  },
  {
   "cell_type": "code",
   "execution_count": 34,
   "metadata": {},
   "outputs": [
    {
     "data": {
      "image/png": "[encoded data removed]",
      "text/plain": [
       "<matplotlib.figure.Figure at 0x292e647a0f0>"
      ]
     },
     "metadata": {},
     "output_type": "display_data"
    }
   ],
   "source": [
    "predictions_classes = probas_to_classes(predictions)\n",
    "\n",
    "image_size = 400\n",
    "patch_size = 16\n",
    "image_index = 0\n",
    "\n",
    "patch_count_per_image = int((image_size / 16) ** 2) \n",
    "fig1 = plt.figure(figsize=(10, 10))\n",
    "plt.subplot(1, 2, 1)\n",
    "pred_img = label_to_img(image_size, image_size, patch_size, patch_size, predictions_classes)\n",
    "plt.imshow(pred_img, cmap='Greys_r');\n",
    "plt.subplot(1, 2, 2)\n",
    "gt_image = label_to_img(image_size, image_size, patch_size, patch_size, Y_labels[image_index * patch_count_per_image: (image_index+1) * patch_count_per_image])\n",
    "plt.imshow(gt_image, cmap='Greys_r');\n"
   ]
  },
  {
   "cell_type": "code",
   "execution_count": null,
   "metadata": {},
   "outputs": [],
   "source": []
  },
  {
   "cell_type": "code",
   "execution_count": null,
   "metadata": {},
   "outputs": [],
   "source": []
  }
 ],
 "metadata": {
  "kernelspec": {
   "display_name": "Python [conda root]",
   "language": "python",
   "name": "conda-root-py"
  },
  "language_info": {
   "codemirror_mode": {
    "name": "ipython",
    "version": 3
   },
   "file_extension": ".py",
   "mimetype": "text/x-python",
   "name": "python",
   "nbconvert_exporter": "python",
   "pygments_lexer": "ipython3",
   "version": "3.6.1"
  }
 },
 "nbformat": 4,
 "nbformat_minor": 2
}
